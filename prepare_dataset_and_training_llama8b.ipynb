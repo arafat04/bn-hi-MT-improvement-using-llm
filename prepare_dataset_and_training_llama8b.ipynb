{
  "cells": [
    {
      "cell_type": "markdown",
      "metadata": {
        "id": "view-in-github",
        "colab_type": "text"
      },
      "source": [
        "<a href=\"https://colab.research.google.com/github/arafat04/bn-hi-MT-improvement-using-llm/blob/main/prepare_dataset_and_training_llama8b.ipynb\" target=\"_parent\"><img src=\"https://colab.research.google.com/assets/colab-badge.svg\" alt=\"Open In Colab\"/></a>"
      ]
    },
    {
      "cell_type": "code",
      "execution_count": null,
      "id": "3b900102-d012-482b-be87-af39a6857ffc",
      "metadata": {
        "id": "3b900102-d012-482b-be87-af39a6857ffc",
        "outputId": "90480459-c55e-4670-ede7-ae2d959c9ca8"
      },
      "outputs": [
        {
          "name": "stdout",
          "output_type": "stream",
          "text": [
            "numpy version: 2.0.2\n",
            "matplotlib version: 3.10.0\n",
            "tiktoken version: 0.9.0\n",
            "torch version: 2.5.1\n",
            "tqdm version: 4.67.1\n",
            "tensorflow version: 2.18.0\n"
          ]
        }
      ],
      "source": [
        "from importlib.metadata import version\n",
        "\n",
        "pkgs = [\n",
        "    \"numpy\",       # PyTorch & TensorFlow dependency\n",
        "    \"matplotlib\",  # Plotting library\n",
        "    \"tiktoken\",    # Tokenizer\n",
        "    \"torch\",       # Deep learning library\n",
        "    \"tqdm\",        # Progress bar\n",
        "    \"tensorflow\",  # For OpenAI's pretrained weights\n",
        "]\n",
        "for p in pkgs:\n",
        "    print(f\"{p} version: {version(p)}\")"
      ]
    },
    {
      "cell_type": "code",
      "execution_count": null,
      "id": "63d1abb4-dcdf-4835-a9f5-fda7b8f28ffe",
      "metadata": {
        "id": "63d1abb4-dcdf-4835-a9f5-fda7b8f28ffe"
      },
      "outputs": [],
      "source": [
        "# !nvidia-smi"
      ]
    },
    {
      "cell_type": "code",
      "execution_count": null,
      "id": "2e19823f-0de9-43f1-9374-828ed745699e",
      "metadata": {
        "id": "2e19823f-0de9-43f1-9374-828ed745699e"
      },
      "outputs": [],
      "source": [
        "\n",
        "from transformers import AutoTokenizer, AutoModelForCausalLM, BitsAndBytesConfig\n",
        "import torch\n",
        "\n",
        "model_id = \"meta-llama/Meta-Llama-3.1-8B-Instruct\"\n",
        "#model_id = \"meta-llama/Llama-3.2-1B-Instruct\"\n",
        "token = \"\"  # Replace with your token\n",
        "\n",
        "# Step 1: Authenticate explicitly\n",
        "from huggingface_hub import login\n",
        "login(token=token)\n",
        "\n",
        "# Step 2: Load with updated settings\n",
        "tokenizer = AutoTokenizer.from_pretrained(model_id, token=token)"
      ]
    },
    {
      "cell_type": "markdown",
      "id": "8cf1939d-e411-4f94-8571-17f8ec517385",
      "metadata": {
        "id": "8cf1939d-e411-4f94-8571-17f8ec517385"
      },
      "source": [
        "### Load the finetuning data"
      ]
    },
    {
      "cell_type": "code",
      "execution_count": null,
      "id": "f76b21f7-1e9d-44d9-9ea5-863c8dc4a3f5",
      "metadata": {
        "id": "f76b21f7-1e9d-44d9-9ea5-863c8dc4a3f5"
      },
      "outputs": [],
      "source": [
        "file_path = \"/storage/praha1/home/rahmang/llm_bn_hi/data/matched_translations_all.csv\""
      ]
    },
    {
      "cell_type": "code",
      "execution_count": null,
      "id": "e6a8e9f9-aea1-483a-8f3d-0cc12844c4ff",
      "metadata": {
        "id": "e6a8e9f9-aea1-483a-8f3d-0cc12844c4ff"
      },
      "outputs": [],
      "source": [
        "import pandas as pd"
      ]
    },
    {
      "cell_type": "code",
      "execution_count": null,
      "id": "16b4c333-aded-4a3c-a537-204df25c00c1",
      "metadata": {
        "id": "16b4c333-aded-4a3c-a537-204df25c00c1",
        "outputId": "4fe6c918-7c0a-4a9a-9c93-d7a23b4a560e"
      },
      "outputs": [
        {
          "data": {
            "text/html": [
              "<div>\n",
              "<style scoped>\n",
              "    .dataframe tbody tr th:only-of-type {\n",
              "        vertical-align: middle;\n",
              "    }\n",
              "\n",
              "    .dataframe tbody tr th {\n",
              "        vertical-align: top;\n",
              "    }\n",
              "\n",
              "    .dataframe thead th {\n",
              "        text-align: right;\n",
              "    }\n",
              "</style>\n",
              "<table border=\"1\" class=\"dataframe\">\n",
              "  <thead>\n",
              "    <tr style=\"text-align: right;\">\n",
              "      <th></th>\n",
              "      <th>English</th>\n",
              "      <th>Hindi</th>\n",
              "      <th>Hindi_Transliteration</th>\n",
              "      <th>Bengali</th>\n",
              "    </tr>\n",
              "  </thead>\n",
              "  <tbody>\n",
              "    <tr>\n",
              "      <th>0</th>\n",
              "      <td>it is an indoor scene</td>\n",
              "      <td>यह एक इनडोर दृश्य है</td>\n",
              "      <td>yah ek indor drishy hai</td>\n",
              "      <td>এটি একটি অভ্যন্তরীণ দৃশ্য</td>\n",
              "    </tr>\n",
              "    <tr>\n",
              "      <th>1</th>\n",
              "      <td>Computer screens turned on</td>\n",
              "      <td>कंप्यूटर स्क्रीन चालू</td>\n",
              "      <td>kanpyootar skrin chaaloo</td>\n",
              "      <td>কম্পিউটারের পর্দা চালু আছে</td>\n",
              "    </tr>\n",
              "    <tr>\n",
              "      <th>2</th>\n",
              "      <td>man has short hair</td>\n",
              "      <td>आदमी के छोटे बाल हैं</td>\n",
              "      <td>aadmi ke chhote baal hain</td>\n",
              "      <td>মানুষের চুল ছোট</td>\n",
              "    </tr>\n",
              "    <tr>\n",
              "      <th>3</th>\n",
              "      <td>photo album open on an adult's lap</td>\n",
              "      <td>एक वयस्क की गोद में फोटो एल्बम खुला</td>\n",
              "      <td>ek vayask ki god men photo elbam khula</td>\n",
              "      <td>কোনও বয়স্কের কোলে ফটো অ্যালবাম খোলা</td>\n",
              "    </tr>\n",
              "    <tr>\n",
              "      <th>4</th>\n",
              "      <td>there is a group of girls beside the black car</td>\n",
              "      <td>काली कार के पास लड़कियों का एक समूह है</td>\n",
              "      <td>kaali kaar ke paas larkiyon ka ek samooh hai</td>\n",
              "      <td>কালো গাড়ির পাশে মেয়েদের একটি দল রয়েছে</td>\n",
              "    </tr>\n",
              "  </tbody>\n",
              "</table>\n",
              "</div>"
            ],
            "text/plain": [
              "                                          English  \\\n",
              "0                           it is an indoor scene   \n",
              "1                      Computer screens turned on   \n",
              "2                              man has short hair   \n",
              "3              photo album open on an adult's lap   \n",
              "4  there is a group of girls beside the black car   \n",
              "\n",
              "                                    Hindi  \\\n",
              "0                    यह एक इनडोर दृश्य है   \n",
              "1                   कंप्यूटर स्क्रीन चालू   \n",
              "2                    आदमी के छोटे बाल हैं   \n",
              "3     एक वयस्क की गोद में फोटो एल्बम खुला   \n",
              "4  काली कार के पास लड़कियों का एक समूह है   \n",
              "\n",
              "                          Hindi_Transliteration  \\\n",
              "0                       yah ek indor drishy hai   \n",
              "1                      kanpyootar skrin chaaloo   \n",
              "2                     aadmi ke chhote baal hain   \n",
              "3        ek vayask ki god men photo elbam khula   \n",
              "4  kaali kaar ke paas larkiyon ka ek samooh hai   \n",
              "\n",
              "                                    Bengali  \n",
              "0                 এটি একটি অভ্যন্তরীণ দৃশ্য  \n",
              "1                কম্পিউটারের পর্দা চালু আছে  \n",
              "2                           মানুষের চুল ছোট  \n",
              "3      কোনও বয়স্কের কোলে ফটো অ্যালবাম খোলা  \n",
              "4  কালো গাড়ির পাশে মেয়েদের একটি দল রয়েছে  "
            ]
          },
          "execution_count": 7,
          "metadata": {},
          "output_type": "execute_result"
        }
      ],
      "source": [
        "data_df = pd.read_csv(file_path)\n",
        "data_df = data_df.head(200)\n",
        "data_df.head()"
      ]
    },
    {
      "cell_type": "code",
      "execution_count": null,
      "id": "898a16cb-36a4-4d5a-97bb-8ea20cb02e19",
      "metadata": {
        "id": "898a16cb-36a4-4d5a-97bb-8ea20cb02e19"
      },
      "outputs": [],
      "source": [
        "train_portion = int(len(data_df) * 0.85)  # 85% for training\n",
        "test_portion = int(len(data_df) * 0.1)    # 10% for testing\n",
        "val_portion = len(data_df) - train_portion - test_portion  # Remaining 5% for validation\n",
        "\n",
        "train_data = data_df[:train_portion]\n",
        "test_data = data_df[train_portion:train_portion + test_portion]\n",
        "val_data = data_df[train_portion + test_portion:]"
      ]
    },
    {
      "cell_type": "code",
      "execution_count": null,
      "id": "119c1bb1-6d15-4b34-962f-1a090123267f",
      "metadata": {
        "id": "119c1bb1-6d15-4b34-962f-1a090123267f"
      },
      "outputs": [],
      "source": [
        "# train_data.head()"
      ]
    },
    {
      "cell_type": "code",
      "execution_count": null,
      "id": "94f7f345-b7c1-498d-9415-bc7fe44e9b61",
      "metadata": {
        "id": "94f7f345-b7c1-498d-9415-bc7fe44e9b61"
      },
      "outputs": [],
      "source": [
        "# test_data.head()"
      ]
    },
    {
      "cell_type": "markdown",
      "id": "e92c385c-7ed3-43d1-9feb-b34a71d6d37b",
      "metadata": {
        "id": "e92c385c-7ed3-43d1-9feb-b34a71d6d37b"
      },
      "source": [
        "### Few-shot Conversation"
      ]
    },
    {
      "cell_type": "code",
      "execution_count": null,
      "id": "ef332c92-5131-4795-bf01-d25e883d6fbd",
      "metadata": {
        "id": "ef332c92-5131-4795-bf01-d25e883d6fbd"
      },
      "outputs": [],
      "source": [
        "from transformers import AutoTokenizer\n",
        "\n",
        "def format_input(entry):\n",
        "    # Define the conversation history\n",
        "    messages = [\n",
        "        {\"role\": \"system\", \"content\": \"You are an expert on translating from Bengali to Hindi.\"},\n",
        "        {\"role\": \"user\", \"content\": \"Translate the following Bengali text to Hindi: খবরটা শুনে খুব খারাপ লাগলো।\"},\n",
        "        {\"role\": \"assistant\", \"content\": \"खबर सुनकर बहुत दुख हुआ.\"},\n",
        "        {\"role\": \"user\", \"content\": \"Translate the following Bengali text to Hindi: প্রশিক্ষণ অ্যালগরিদম, পরামিতি, ন্যায্যতা সীমাবদ্বতা বা অন্যান্য প্রয়োগ পদ্ধতি এবং বৈশিষ্ট্য সম্পর্কে তথ্য।\"},\n",
        "        {\"role\": \"assistant\", \"content\": \"प्रशिक्षण अल्गोरिदम, पैरामीटर्स, न्यायसंगतता सीमाएँ या अन्य अनुप्रयोग विधियों और विशेषताओं के बारे में जानकारी।\"},\n",
        "        {\"role\": \"user\", \"content\": f\"Translate the following Bengali text to Hindi: {entry['Bengali']}\"}\n",
        "    ]\n",
        "\n",
        "    return messages\n",
        "\n"
      ]
    },
    {
      "cell_type": "code",
      "execution_count": null,
      "id": "aa0dabb8-d017-47c5-8c98-5c1aac9b5996",
      "metadata": {
        "id": "aa0dabb8-d017-47c5-8c98-5c1aac9b5996",
        "outputId": "09663080-c1a1-4d38-ce56-5852a03d6347"
      },
      "outputs": [
        {
          "data": {
            "text/plain": [
              "'यह एक इनडोर दृश्य है'"
            ]
          },
          "execution_count": 12,
          "metadata": {},
          "output_type": "execute_result"
        }
      ],
      "source": [
        "train_data.iloc[0]['Hindi']"
      ]
    },
    {
      "cell_type": "code",
      "execution_count": null,
      "id": "783bbf97-79ce-46e1-9490-d93e8064a432",
      "metadata": {
        "id": "783bbf97-79ce-46e1-9490-d93e8064a432",
        "outputId": "ff5c7a52-a3f9-4116-f9cd-692a98dc9245"
      },
      "outputs": [
        {
          "name": "stdout",
          "output_type": "stream",
          "text": [
            "[{'role': 'system', 'content': 'You are an expert on translating from Bengali to Hindi.'}, {'role': 'user', 'content': 'Translate the following Bengali text to Hindi: খবরটা শুনে খুব খারাপ লাগলো।'}, {'role': 'assistant', 'content': 'खबर सुनकर बहुत दुख हुआ.'}, {'role': 'user', 'content': 'Translate the following Bengali text to Hindi: প্রশিক্ষণ অ্যালগরিদম, পরামিতি, ন্যায্যতা সীমাবদ্বতা বা অন্যান্য প্রয়োগ পদ্ধতি এবং বৈশিষ্ট্য সম্পর্কে তথ্য।'}, {'role': 'assistant', 'content': 'प्रशिक्षण अल्गोरिदम, पैरामीटर्स, न्यायसंगतता सीमाएँ या अन्य अनुप्रयोग विधियों और विशेषताओं के बारे में जानकारी।'}, {'role': 'user', 'content': 'Translate the following Bengali text to Hindi: এটি একটি অভ্যন্তরীণ দৃশ্য'}]\n"
          ]
        }
      ],
      "source": [
        "print(format_input(train_data.iloc[0]))"
      ]
    },
    {
      "cell_type": "markdown",
      "id": "3f3b6d23-37d2-4a48-891a-d497e112c883",
      "metadata": {
        "id": "3f3b6d23-37d2-4a48-891a-d497e112c883"
      },
      "source": [
        "### Organizing data into training batches:"
      ]
    },
    {
      "cell_type": "code",
      "execution_count": null,
      "id": "be7cb551-67ad-4370-a252-37d4be14e5a2",
      "metadata": {
        "id": "be7cb551-67ad-4370-a252-37d4be14e5a2"
      },
      "outputs": [],
      "source": [
        "import torch\n",
        "from torch.utils.data import Dataset\n",
        "from transformers import AutoTokenizer\n",
        "\n",
        "class InstructionDataset(Dataset):\n",
        "    def __init__(self, data, tokenizer):\n",
        "        self.data = data\n",
        "        self.instruction_lengths = []\n",
        "        # Pre-tokenize texts\n",
        "        self.encoded_texts = []\n",
        "        for i in range(len(data)):\n",
        "            instruction_plus_input = format_input(data.iloc[i])\n",
        "            response_text = [{\"role\": \"assistant\", \"content\": f\"{data.iloc[i]['Hindi']}\"}]\n",
        "            full_text = instruction_plus_input + response_text\n",
        "            # Usage example\n",
        "\n",
        "\n",
        "            # Convert to Llama-3 compatible string format using HF apply_chat_template\n",
        "            formatted_text_instruction_plus_input = tokenizer.apply_chat_template(\n",
        "                instruction_plus_input,\n",
        "                tokenize=False,\n",
        "                add_generation_prompt=True\n",
        "            )\n",
        "            formatted_text = tokenizer.apply_chat_template(\n",
        "                full_text,\n",
        "                tokenize=False,\n",
        "                add_generation_prompt=True\n",
        "            )\n",
        "            if i == 0:\n",
        "                print(\"Formatted prompt:\\n\", formatted_text)\n",
        "\n",
        "\n",
        "\n",
        "            self.encoded_texts.append(\n",
        "                tokenizer.encode(formatted_text)\n",
        "            )\n",
        "            #for masking out the output text\n",
        "            instruction_length = (len(tokenizer.encode(formatted_text_instruction_plus_input)))\n",
        "            #print(\"instruction length\",instruction_length)\n",
        "            self.instruction_lengths.append(instruction_length)\n",
        "\n",
        "    def __getitem__(self, index):\n",
        "        return self.instruction_lengths[index], self.encoded_texts[index]\n",
        "\n",
        "    def __len__(self):\n",
        "        return len(self.data)"
      ]
    },
    {
      "cell_type": "markdown",
      "id": "9b731495-91bf-45f7-a4aa-71e88bd1b78d",
      "metadata": {
        "id": "9b731495-91bf-45f7-a4aa-71e88bd1b78d"
      },
      "source": [
        "### Custom Collate Function:\n",
        "\n",
        "This custom collate function pads the training examples in each batch to have the same length (but different batches can have different lengths)"
      ]
    },
    {
      "cell_type": "code",
      "execution_count": null,
      "id": "a8ea270a-dd12-49b1-8573-56dba231fe08",
      "metadata": {
        "editable": true,
        "tags": [],
        "id": "a8ea270a-dd12-49b1-8573-56dba231fe08"
      },
      "outputs": [],
      "source": [
        "inputs_1 = [0, 1, 2, 3, 4]\n",
        "inputs_2 = [5, 6]\n",
        "inputs_3 = [7, 8, 9]\n",
        "\n",
        "batch = (\n",
        "    inputs_1,\n",
        "    inputs_2,\n",
        "    inputs_3\n",
        ")\n",
        "\n"
      ]
    },
    {
      "cell_type": "code",
      "execution_count": null,
      "id": "edc7351a-3afe-4f83-ab6c-ad66b992c0a6",
      "metadata": {
        "id": "edc7351a-3afe-4f83-ab6c-ad66b992c0a6"
      },
      "outputs": [],
      "source": [
        "#with attention mask\n",
        "def custom_collate_fn(\n",
        "    batch,\n",
        "    pad_token_id=50256,\n",
        "    ignore_index=-100,\n",
        "    allowed_max_length=None,\n",
        "    device='cpu'\n",
        "):\n",
        "    batch_max_length = max(len(item) + 1 for instruction_length, item in batch)\n",
        "    inputs_lst, targets_lst = [], []\n",
        "\n",
        "    for instruction_length, item in batch:\n",
        "        new_item = item + [pad_token_id]  # Add pad token at the end\n",
        "        padded = new_item + [pad_token_id] * (batch_max_length - len(new_item))\n",
        "\n",
        "        inputs = torch.tensor(padded[:-1])  # Input (excluding last token)\n",
        "        targets = torch.tensor(padded[1:])  # Target (shifted right)\n",
        "\n",
        "        # Generate attention mask (1 for real tokens, 0 for padding)\n",
        "        # attention_mask = (torch.tensor(padded) != pad_token_id).long()\n",
        "\n",
        "        # Mask padding tokens in targets for loss calculation\n",
        "        mask = targets == pad_token_id\n",
        "        indices = torch.nonzero(mask).squeeze()\n",
        "        if indices.numel() > 1:\n",
        "            targets[indices[1:]] = ignore_index\n",
        "        targets[:instruction_length] = -100  # Ignore tokens before the instruction length\n",
        "\n",
        "        # Truncate to `allowed_max_length`\n",
        "        if allowed_max_length is not None:\n",
        "            inputs = inputs[:allowed_max_length]\n",
        "            targets = targets[:allowed_max_length]\n",
        "            # attention_mask = attention_mask[:allowed_max_length]\n",
        "\n",
        "        inputs_lst.append(inputs)\n",
        "        targets_lst.append(targets)\n",
        "        # attention_masks.append(attention_mask)\n",
        "\n",
        "    # Stack and move to device\n",
        "    inputs_tensor = torch.stack(inputs_lst).to(device)\n",
        "    targets_tensor = torch.stack(targets_lst).to(device)\n",
        "    # attention_mask_tensor = torch.stack(attention_masks).to(device)\n",
        "\n",
        "    return inputs_tensor, targets_tensor\n"
      ]
    },
    {
      "cell_type": "markdown",
      "id": "411ecccd-d269-455b-93c1-8c5e1e3d6286",
      "metadata": {
        "id": "411ecccd-d269-455b-93c1-8c5e1e3d6286"
      },
      "source": [
        "Above, we only returned the inputs to the LLM; however, for LLM training, we also need the target values\n",
        "Similar to pretraining an LLM, the targets are the inputs shifted by 1 position to the right, so the LLM learns to predict the next token"
      ]
    },
    {
      "cell_type": "code",
      "execution_count": null,
      "id": "6dd72f8d-309e-4e20-8387-f05894be5633",
      "metadata": {
        "id": "6dd72f8d-309e-4e20-8387-f05894be5633"
      },
      "outputs": [],
      "source": [
        "# inputs, targets = custom_collate_fn(batch)\n",
        "# print(inputs)\n",
        "# print(targets)"
      ]
    },
    {
      "cell_type": "code",
      "execution_count": null,
      "id": "32a912fc-171d-41c5-9a0c-b858591f24f0",
      "metadata": {
        "id": "32a912fc-171d-41c5-9a0c-b858591f24f0",
        "outputId": "f2544f23-207a-4ca3-cba7-5856bbaf8e0e"
      },
      "outputs": [
        {
          "name": "stdout",
          "output_type": "stream",
          "text": [
            "tensor(1.1269)\n"
          ]
        }
      ],
      "source": [
        "logits_1 = torch.tensor(\n",
        "    [[-1.0, 1.0],  # 1st training example\n",
        "     [-0.5, 1.5]]  # 2nd training example\n",
        ")\n",
        "targets_1 = torch.tensor([0, 1])\n",
        "\n",
        "\n",
        "loss_1 = torch.nn.functional.cross_entropy(logits_1, targets_1)\n",
        "print(loss_1)"
      ]
    },
    {
      "cell_type": "markdown",
      "id": "4cce39b4-9fff-43b6-9fdc-b747bcab2331",
      "metadata": {
        "id": "4cce39b4-9fff-43b6-9fdc-b747bcab2331"
      },
      "source": [
        " ### Creating data loaders for the instruction dataset"
      ]
    },
    {
      "cell_type": "code",
      "execution_count": null,
      "id": "4e8f489c-8513-4851-be7a-69d822dcc5f4",
      "metadata": {
        "id": "4e8f489c-8513-4851-be7a-69d822dcc5f4",
        "outputId": "6768066c-76ee-4a83-8264-cda440724a96"
      },
      "outputs": [
        {
          "name": "stdout",
          "output_type": "stream",
          "text": [
            "Device: cuda\n"
          ]
        }
      ],
      "source": [
        "device = torch.device(\"cuda\" if torch.cuda.is_available() else \"cpu\")\n",
        "print(\"Device:\", device)"
      ]
    },
    {
      "cell_type": "code",
      "execution_count": null,
      "id": "08c51aec-68ef-432e-8246-ea27dcb1b88c",
      "metadata": {
        "id": "08c51aec-68ef-432e-8246-ea27dcb1b88c",
        "outputId": "3cf3249c-a01e-4681-ec02-798ed0ff2066"
      },
      "outputs": [
        {
          "name": "stdout",
          "output_type": "stream",
          "text": [
            "Device: NVIDIA A40\n",
            "Total Memory: 47.729344512 GB\n",
            "CUDA Capability: 8 . 6\n"
          ]
        }
      ],
      "source": [
        "import torch\n",
        "\n",
        "if torch.cuda.is_available():\n",
        "    print(\"Device:\", torch.cuda.get_device_name(0))  # Print GPU name\n",
        "    print(\"Total Memory:\", torch.cuda.get_device_properties(0).total_memory / 1e9, \"GB\")  # Convert bytes to GB\n",
        "    print(\"CUDA Capability:\", torch.cuda.get_device_properties(0).major, \".\", torch.cuda.get_device_properties(0).minor)\n",
        "else:\n",
        "    print(\"No GPU available, using CPU.\")\n"
      ]
    },
    {
      "cell_type": "code",
      "execution_count": null,
      "id": "9ecd11aa-62c8-4746-a784-b2a9f98de1a7",
      "metadata": {
        "id": "9ecd11aa-62c8-4746-a784-b2a9f98de1a7"
      },
      "outputs": [],
      "source": [
        "from functools import partial\n",
        "\n",
        "customized_collate_fn = partial(\n",
        "    custom_collate_fn,\n",
        "    device=device,\n",
        "    allowed_max_length=512 # max token size for llama 3.1 8b is 2048\n",
        ")"
      ]
    },
    {
      "cell_type": "code",
      "execution_count": null,
      "id": "c67d1931-c6b4-4ca8-a6fb-39b1a7ed7f77",
      "metadata": {
        "id": "c67d1931-c6b4-4ca8-a6fb-39b1a7ed7f77"
      },
      "outputs": [],
      "source": [
        "# import tiktoken\n",
        "# tokenizer = tiktoken.get_encoding(\"gpt2\")"
      ]
    },
    {
      "cell_type": "code",
      "execution_count": null,
      "id": "344cfcc5-6d01-4a43-a2de-162e8346a786",
      "metadata": {
        "id": "344cfcc5-6d01-4a43-a2de-162e8346a786"
      },
      "outputs": [],
      "source": [
        "#tokenizer"
      ]
    },
    {
      "cell_type": "code",
      "execution_count": null,
      "id": "14ea72ff-1ee5-48aa-ac28-2af2336963e5",
      "metadata": {
        "editable": true,
        "tags": [],
        "id": "14ea72ff-1ee5-48aa-ac28-2af2336963e5",
        "outputId": "55fcbd4f-84eb-4e4c-8776-5cd416d5e5a6"
      },
      "outputs": [
        {
          "name": "stdout",
          "output_type": "stream",
          "text": [
            "Formatted prompt:\n",
            " <|begin_of_text|><|start_header_id|>system<|end_header_id|>\n",
            "\n",
            "Cutting Knowledge Date: December 2023\n",
            "Today Date: 26 Jul 2024\n",
            "\n",
            "You are an expert on translating from Bengali to Hindi.<|eot_id|><|start_header_id|>user<|end_header_id|>\n",
            "\n",
            "Translate the following Bengali text to Hindi: খবরটা শুনে খুব খারাপ লাগলো।<|eot_id|><|start_header_id|>assistant<|end_header_id|>\n",
            "\n",
            "खबर सुनकर बहुत दुख हुआ.<|eot_id|><|start_header_id|>user<|end_header_id|>\n",
            "\n",
            "Translate the following Bengali text to Hindi: প্রশিক্ষণ অ্যালগরিদম, পরামিতি, ন্যায্যতা সীমাবদ্বতা বা অন্যান্য প্রয়োগ পদ্ধতি এবং বৈশিষ্ট্য সম্পর্কে তথ্য।<|eot_id|><|start_header_id|>assistant<|end_header_id|>\n",
            "\n",
            "प्रशिक्षण अल्गोरिदम, पैरामीटर्स, न्यायसंगतता सीमाएँ या अन्य अनुप्रयोग विधियों और विशेषताओं के बारे में जानकारी।<|eot_id|><|start_header_id|>user<|end_header_id|>\n",
            "\n",
            "Translate the following Bengali text to Hindi: এটি একটি অভ্যন্তরীণ দৃশ্য<|eot_id|><|start_header_id|>assistant<|end_header_id|>\n",
            "\n",
            "यह एक इनडोर दृश्य है<|eot_id|><|start_header_id|>assistant<|end_header_id|>\n",
            "\n",
            "\n"
          ]
        }
      ],
      "source": [
        "from torch.utils.data import DataLoader\n",
        "\n",
        "\n",
        "num_workers = 0\n",
        "batch_size = 4\n",
        "\n",
        "torch.manual_seed(123)\n",
        "\n",
        "train_dataset = InstructionDataset(train_data, tokenizer)\n",
        "train_loader = DataLoader(\n",
        "    train_dataset,\n",
        "    batch_size=batch_size,\n",
        "    collate_fn=customized_collate_fn,\n",
        "    shuffle=True,\n",
        "    drop_last=True,\n",
        "    num_workers=num_workers\n",
        ")"
      ]
    },
    {
      "cell_type": "code",
      "execution_count": null,
      "id": "e0eb8ab0-91ab-4260-b0d9-225c80fddf6d",
      "metadata": {
        "id": "e0eb8ab0-91ab-4260-b0d9-225c80fddf6d",
        "outputId": "77514993-68a1-47af-bbbc-b50cc62cec63"
      },
      "outputs": [
        {
          "data": {
            "text/plain": [
              "<torch.utils.data.dataloader.DataLoader at 0x1534d01690d0>"
            ]
          },
          "execution_count": 26,
          "metadata": {},
          "output_type": "execute_result"
        }
      ],
      "source": [
        "train_loader"
      ]
    },
    {
      "cell_type": "code",
      "execution_count": null,
      "id": "1faf879a-138b-4a6a-ab28-3a6ea28b9a32",
      "metadata": {
        "id": "1faf879a-138b-4a6a-ab28-3a6ea28b9a32",
        "outputId": "de5ecef1-932d-4dce-e150-a402e39e4f6d"
      },
      "outputs": [
        {
          "name": "stdout",
          "output_type": "stream",
          "text": [
            "Train loader:\n",
            "torch.Size([4, 388]) torch.Size([4, 388])\n",
            "torch.Size([4, 387]) torch.Size([4, 387])\n"
          ]
        }
      ],
      "source": [
        "print(\"Train loader:\")\n",
        "count = 0\n",
        "for inputs, targets in train_loader:\n",
        "    print(inputs.shape, targets.shape)\n",
        "    if count == 1:\n",
        "        break\n",
        "    count +=1"
      ]
    },
    {
      "cell_type": "code",
      "execution_count": null,
      "id": "4fdc103a-543e-4844-9358-1abbccf19211",
      "metadata": {
        "id": "4fdc103a-543e-4844-9358-1abbccf19211",
        "outputId": "4a318c5a-34f0-4a69-f117-0bc85ddca4e9"
      },
      "outputs": [
        {
          "name": "stdout",
          "output_type": "stream",
          "text": [
            "tensor([128000, 128000, 128006,   9125, 128007,    271,  38766,   1303,  33025,\n",
            "          2696,     25,   6790,    220,   2366,     18,    198,  15724,   2696,\n",
            "            25,    220,   1627,  10263,    220,   2366,     19,    271,   2675,\n",
            "           527,    459,   6335,    389,  67371,    505,  26316,   8115,    311,\n",
            "         45080,     13, 128009, 128006,    882, 128007,    271,  28573,    279,\n",
            "          2768,  26316,   8115,   1495,    311,  45080,     25,  36278,    244,\n",
            "         11372,    105,  73358,  11372,    253,  42412,  36278,    114,  28025,\n",
            "           223,  87648,  60008,  36278,    244,  28025,    223,  11372,    105,\n",
            "         36278,    244,  50228,    108,  50228,    103,  36278,    110,  50228,\n",
            "           245,  11372,    110,  28025,    233, 100278, 128009, 128006,  78191,\n",
            "        128007,    271, 100979, 105800,  69258, 101391, 101185, 102875, 102223,\n",
            "        100291, 102815,  85410, 102863,     13, 128009, 128006,    882, 128007,\n",
            "           271,  28573,    279,   2768,  26316,   8115,   1495,    311,  45080,\n",
            "            25,  36278,    103,  53906,    108,  11372,    114,  81278,    243,\n",
            "         53906,    115,  11372,     96,  36278,    227,  53906,    107,  50228,\n",
            "           110,  11372,    245,  73358,  81278,     99,  11372,    106,     11,\n",
            "         36278,    103,  73358,  50228,    106,  81278,     97,  62456,     11,\n",
            "         36278,    101,  53906,    107,  50228,    107,  53906,    107,  11372,\n",
            "            97,  42412,  36278,    116,  28025,    222,  11372,    106,  50228,\n",
            "           105,  11372,     99,  53906,    105,  11372,     97,  42412,  36278,\n",
            "           105,  42412,  36278,    227,  87648,  53906,    107,  50228,    101,\n",
            "         53906,    107,  36278,    103,  53906,    108,  11372,    107,  11372,\n",
            "           120,  28025,    233,  11372,    245,  36278,    103,  11372,     99,\n",
            "         53906,    100,  11372,     97,  62456,  36278,    237,  11372,    105,\n",
            "         11372,    224,  36278,    105,  28025,    230,  11372,    114,  81278,\n",
            "           115,  53906,    253,  53906,    107,  36278,    116,  11372,    106,\n",
            "         53906,    103,  73358,  53906,    243,  60008,  36278,     97,  11372,\n",
            "            98,  53906,    107, 100278, 128009, 128006,  78191, 128007,    271,\n",
            "         87262, 107949, 100349, 107283, 103619, 104090, 101282, 102557,  88344,\n",
            "            11,  84736, 106600, 100497, 114800, 100782,     11, 100282, 100305,\n",
            "        100537,  79468, 101238,  80338,  80338,  24810,  69258, 102232, 101376,\n",
            "        103694, 100393,  24810, 101248, 100305, 101248, 103101, 107075, 100666,\n",
            "        100287, 103245, 100322, 100311, 100358, 100287, 101043, 104868,  80338,\n",
            "        102089,  73414,  48909,  35470, 100276, 100273,  35470,  92317, 100271,\n",
            "        100277, 105977, 100273, 101905, 128009, 128006,    882, 128007,    271,\n",
            "         28573,    279,   2768,  26316,   8115,   1495,    311,  45080,     25,\n",
            "         36278,    253,  53906,    107,  50228,    243,  53906,    116,  62456,\n",
            "         36278,    243,  53906,    107,  50228,    105,  36278,    108,  50228,\n",
            "           116,  53906,     97,  50228,    107,  11372,    120,  36278,     94,\n",
            "         53906,    108,  50228,    229,  11372,    255,  81278,    224, 128009,\n",
            "        128006,  78191, 128007,    271,  79468, 100361, 110328, 100406, 101002,\n",
            "        104572, 100782,  44747, 101002, 104572, 100782,  44747, 103746,  24810,\n",
            "        100697,  35470,  85410, 100400, 128009, 128006,  78191, 128007,    271],\n",
            "       device='cuda:0')\n"
          ]
        }
      ],
      "source": [
        "print(inputs[0])\n"
      ]
    },
    {
      "cell_type": "code",
      "execution_count": null,
      "id": "979134bb-dcd4-4757-96d0-5efb6be047ca",
      "metadata": {
        "scrolled": true,
        "id": "979134bb-dcd4-4757-96d0-5efb6be047ca",
        "outputId": "279c211a-acc6-4d19-cfcb-7e6c20933ce2"
      },
      "outputs": [
        {
          "data": {
            "text/plain": [
              "42"
            ]
          },
          "execution_count": 29,
          "metadata": {},
          "output_type": "execute_result"
        }
      ],
      "source": [
        "len(train_loader)"
      ]
    },
    {
      "cell_type": "code",
      "execution_count": null,
      "id": "31b0bb67-2abd-41c6-91f9-369c0f56807d",
      "metadata": {
        "id": "31b0bb67-2abd-41c6-91f9-369c0f56807d",
        "outputId": "f220a132-1c69-4a1c-fecf-a0b973c6b065"
      },
      "outputs": [
        {
          "name": "stdout",
          "output_type": "stream",
          "text": [
            "170\n"
          ]
        }
      ],
      "source": [
        "print(len(train_loader.dataset))\n"
      ]
    },
    {
      "cell_type": "code",
      "execution_count": null,
      "id": "121aefd9-3853-45f1-829a-361f3afc6419",
      "metadata": {
        "id": "121aefd9-3853-45f1-829a-361f3afc6419",
        "outputId": "32bf06c7-c43c-4dba-d498-6dd7b3f0a2ed"
      },
      "outputs": [
        {
          "name": "stdout",
          "output_type": "stream",
          "text": [
            "Formatted prompt:\n",
            " <|begin_of_text|><|start_header_id|>system<|end_header_id|>\n",
            "\n",
            "Cutting Knowledge Date: December 2023\n",
            "Today Date: 26 Jul 2024\n",
            "\n",
            "You are an expert on translating from Bengali to Hindi.<|eot_id|><|start_header_id|>user<|end_header_id|>\n",
            "\n",
            "Translate the following Bengali text to Hindi: খবরটা শুনে খুব খারাপ লাগলো।<|eot_id|><|start_header_id|>assistant<|end_header_id|>\n",
            "\n",
            "खबर सुनकर बहुत दुख हुआ.<|eot_id|><|start_header_id|>user<|end_header_id|>\n",
            "\n",
            "Translate the following Bengali text to Hindi: প্রশিক্ষণ অ্যালগরিদম, পরামিতি, ন্যায্যতা সীমাবদ্বতা বা অন্যান্য প্রয়োগ পদ্ধতি এবং বৈশিষ্ট্য সম্পর্কে তথ্য।<|eot_id|><|start_header_id|>assistant<|end_header_id|>\n",
            "\n",
            "प्रशिक्षण अल्गोरिदम, पैरामीटर्स, न्यायसंगतता सीमाएँ या अन्य अनुप्रयोग विधियों और विशेषताओं के बारे में जानकारी।<|eot_id|><|start_header_id|>user<|end_header_id|>\n",
            "\n",
            "Translate the following Bengali text to Hindi: আকাশে সাদা মেঘ<|eot_id|><|start_header_id|>assistant<|end_header_id|>\n",
            "\n",
            "आकाश में सफेद बादल<|eot_id|><|start_header_id|>assistant<|end_header_id|>\n",
            "\n",
            "\n",
            "Formatted prompt:\n",
            " <|begin_of_text|><|start_header_id|>system<|end_header_id|>\n",
            "\n",
            "Cutting Knowledge Date: December 2023\n",
            "Today Date: 26 Jul 2024\n",
            "\n",
            "You are an expert on translating from Bengali to Hindi.<|eot_id|><|start_header_id|>user<|end_header_id|>\n",
            "\n",
            "Translate the following Bengali text to Hindi: খবরটা শুনে খুব খারাপ লাগলো।<|eot_id|><|start_header_id|>assistant<|end_header_id|>\n",
            "\n",
            "खबर सुनकर बहुत दुख हुआ.<|eot_id|><|start_header_id|>user<|end_header_id|>\n",
            "\n",
            "Translate the following Bengali text to Hindi: প্রশিক্ষণ অ্যালগরিদম, পরামিতি, ন্যায্যতা সীমাবদ্বতা বা অন্যান্য প্রয়োগ পদ্ধতি এবং বৈশিষ্ট্য সম্পর্কে তথ্য।<|eot_id|><|start_header_id|>assistant<|end_header_id|>\n",
            "\n",
            "प्रशिक्षण अल्गोरिदम, पैरामीटर्स, न्यायसंगतता सीमाएँ या अन्य अनुप्रयोग विधियों और विशेषताओं के बारे में जानकारी।<|eot_id|><|start_header_id|>user<|end_header_id|>\n",
            "\n",
            "Translate the following Bengali text to Hindi: বিল্ডিং উইন্ডো<|eot_id|><|start_header_id|>assistant<|end_header_id|>\n",
            "\n",
            "इमारत पर विंडो<|eot_id|><|start_header_id|>assistant<|end_header_id|>\n",
            "\n",
            "\n"
          ]
        }
      ],
      "source": [
        "val_dataset = InstructionDataset(val_data, tokenizer)\n",
        "val_loader = DataLoader(\n",
        "    val_dataset,\n",
        "    batch_size=batch_size,\n",
        "    collate_fn=customized_collate_fn,\n",
        "    shuffle=False,\n",
        "    drop_last=False,\n",
        "    num_workers=num_workers\n",
        ")\n",
        "\n",
        "test_dataset = InstructionDataset(test_data, tokenizer)\n",
        "test_loader = DataLoader(\n",
        "    test_dataset,\n",
        "    batch_size=batch_size,\n",
        "    collate_fn=customized_collate_fn,\n",
        "    shuffle=False,\n",
        "    drop_last=False,\n",
        "    num_workers=num_workers\n",
        ")"
      ]
    },
    {
      "cell_type": "markdown",
      "id": "3d83bec5-be4e-466b-a91b-245417f63b90",
      "metadata": {
        "editable": true,
        "tags": [],
        "id": "3d83bec5-be4e-466b-a91b-245417f63b90"
      },
      "source": [
        "### Finetune the model"
      ]
    },
    {
      "cell_type": "code",
      "execution_count": null,
      "id": "d2fd4d67-7d00-4620-a1de-19348b49de7e",
      "metadata": {
        "id": "d2fd4d67-7d00-4620-a1de-19348b49de7e"
      },
      "outputs": [],
      "source": [
        "# !pip install transformers==4.40.0 accelerate==0.29.3 bitsandbytes==0.43.1 tuned-lens==0.2.0\n",
        "\n",
        "# pip install --upgrade bitsandbytes\n",
        "#! pip install transformers --quiet\n",
        "#pip install --upgrade transformers"
      ]
    },
    {
      "cell_type": "code",
      "execution_count": null,
      "id": "ccddc43c-d191-4df5-8e24-e69af06c0996",
      "metadata": {
        "editable": true,
        "tags": [],
        "id": "ccddc43c-d191-4df5-8e24-e69af06c0996"
      },
      "outputs": [],
      "source": [
        "# from transformers import AutoConfig\n",
        "# from transformers import pipeline\n",
        "# import torch\n",
        "# config = AutoConfig.from_pretrained(model_identifier)\n",
        "\n",
        "# # Ensure rope_scaling has only 'type' and 'factor'\n",
        "# if hasattr(config, \"rope_scaling\") and isinstance(config.rope_scaling, dict):\n",
        "#     config.rope_scaling = {\n",
        "#         \"type\": config.rope_scaling.get(\"rope_type\", \"linear\"),  # Default to 'linear' if missing\n",
        "#         \"factor\": config.rope_scaling.get(\"factor\", 1.0),  # Default to 1.0 if missing\n",
        "#     }\n",
        "\n",
        "# # Find the best available device\n",
        "# device = torch.device('cuda') if torch.cuda.is_available() else torch.device('cpu') # Use GPU if available, otherwise use CPU\n",
        "# print(\"device: \", device)\n",
        "# # Load model with updated config\n",
        "# #device_map=\"auto\",  # Let Hugging Face manage memory\n",
        "# llm = pipeline(model=model_identifier,token=token,device_map=\"auto\", config=config)\n"
      ]
    },
    {
      "cell_type": "code",
      "execution_count": null,
      "id": "4e5bdb6c-8e3c-4580-bb8c-97dcb16f0923",
      "metadata": {
        "id": "4e5bdb6c-8e3c-4580-bb8c-97dcb16f0923",
        "outputId": "841d09b7-a688-4be2-dad9-6607ce186114"
      },
      "outputs": [
        {
          "name": "stdout",
          "output_type": "stream",
          "text": [
            "meta-llama/Meta-Llama-3.1-8B-Instruct\n"
          ]
        }
      ],
      "source": [
        "print(model_id)"
      ]
    },
    {
      "cell_type": "code",
      "execution_count": null,
      "id": "1ce3c5c9-9cd0-4a88-a4b8-521594790b52",
      "metadata": {
        "id": "1ce3c5c9-9cd0-4a88-a4b8-521594790b52",
        "outputId": "a5dcd400-ab84-4142-a6f4-5ec86fb72c85",
        "colab": {
          "referenced_widgets": [
            "c37b795b72c642ce8ba0c12731e4954e"
          ]
        }
      },
      "outputs": [
        {
          "name": "stderr",
          "output_type": "stream",
          "text": [
            "2025-02-16 23:35:17.922904: E external/local_xla/xla/stream_executor/cuda/cuda_fft.cc:477] Unable to register cuFFT factory: Attempting to register factory for plugin cuFFT when one has already been registered\n",
            "WARNING: All log messages before absl::InitializeLog() is called are written to STDERR\n",
            "E0000 00:00:1739745318.575730  183887 cuda_dnn.cc:8310] Unable to register cuDNN factory: Attempting to register factory for plugin cuDNN when one has already been registered\n",
            "E0000 00:00:1739745318.776857  183887 cuda_blas.cc:1418] Unable to register cuBLAS factory: Attempting to register factory for plugin cuBLAS when one has already been registered\n",
            "2025-02-16 23:35:20.246592: I tensorflow/core/platform/cpu_feature_guard.cc:210] This TensorFlow binary is optimized to use available CPU instructions in performance-critical operations.\n",
            "To enable the following instructions: AVX2 FMA, in other operations, rebuild TensorFlow with the appropriate compiler flags.\n",
            "The `load_in_4bit` and `load_in_8bit` arguments are deprecated and will be removed in the future versions. Please, pass a `BitsAndBytesConfig` object in `quantization_config` argument instead.\n"
          ]
        },
        {
          "data": {
            "application/vnd.jupyter.widget-view+json": {
              "model_id": "c37b795b72c642ce8ba0c12731e4954e",
              "version_major": 2,
              "version_minor": 0
            },
            "text/plain": [
              "Loading checkpoint shards:   0%|          | 0/4 [00:00<?, ?it/s]"
            ]
          },
          "metadata": {},
          "output_type": "display_data"
        }
      ],
      "source": [
        "from transformers import AutoModelForCausalLM\n",
        "import torch\n",
        "\n",
        "# Load the model in FP16\n",
        "model = AutoModelForCausalLM.from_pretrained(\n",
        "    model_id,\n",
        "    device_map=\"auto\",\n",
        "    torch_dtype=torch.float16,  # Use FP16\n",
        "    token=token,\n",
        "    load_in_8bit=True,  # Optional: Use 8-bit quantization\n",
        ")"
      ]
    },
    {
      "cell_type": "code",
      "execution_count": null,
      "id": "7d4c092f-e1fc-4162-96f8-9205ed84517d",
      "metadata": {
        "id": "7d4c092f-e1fc-4162-96f8-9205ed84517d",
        "outputId": "54aba1a9-23eb-4474-e80e-295594b26c6f"
      },
      "outputs": [
        {
          "data": {
            "text/plain": [
              "LlamaForCausalLM(\n",
              "  (model): LlamaModel(\n",
              "    (embed_tokens): Embedding(128256, 4096)\n",
              "    (layers): ModuleList(\n",
              "      (0-31): 32 x LlamaDecoderLayer(\n",
              "        (self_attn): LlamaAttention(\n",
              "          (q_proj): Linear8bitLt(in_features=4096, out_features=4096, bias=False)\n",
              "          (k_proj): Linear8bitLt(in_features=4096, out_features=1024, bias=False)\n",
              "          (v_proj): Linear8bitLt(in_features=4096, out_features=1024, bias=False)\n",
              "          (o_proj): Linear8bitLt(in_features=4096, out_features=4096, bias=False)\n",
              "        )\n",
              "        (mlp): LlamaMLP(\n",
              "          (gate_proj): Linear8bitLt(in_features=4096, out_features=14336, bias=False)\n",
              "          (up_proj): Linear8bitLt(in_features=4096, out_features=14336, bias=False)\n",
              "          (down_proj): Linear8bitLt(in_features=14336, out_features=4096, bias=False)\n",
              "          (act_fn): SiLU()\n",
              "        )\n",
              "        (input_layernorm): LlamaRMSNorm((4096,), eps=1e-05)\n",
              "        (post_attention_layernorm): LlamaRMSNorm((4096,), eps=1e-05)\n",
              "      )\n",
              "    )\n",
              "    (norm): LlamaRMSNorm((4096,), eps=1e-05)\n",
              "    (rotary_emb): LlamaRotaryEmbedding()\n",
              "  )\n",
              "  (lm_head): Linear(in_features=4096, out_features=128256, bias=False)\n",
              ")"
            ]
          },
          "execution_count": 36,
          "metadata": {},
          "output_type": "execute_result"
        }
      ],
      "source": [
        "model"
      ]
    },
    {
      "cell_type": "code",
      "execution_count": null,
      "id": "c765035c-ee09-4918-8799-700f01a2c14e",
      "metadata": {
        "id": "c765035c-ee09-4918-8799-700f01a2c14e"
      },
      "outputs": [],
      "source": [
        "#optimizer = torch.optim.AdamW(model.parameters(), lr=0.00005, weight_decay=0.1)\n"
      ]
    },
    {
      "cell_type": "code",
      "execution_count": null,
      "id": "7a7a2a8d-efc4-43cf-a512-f8102b9c7bdc",
      "metadata": {
        "id": "7a7a2a8d-efc4-43cf-a512-f8102b9c7bdc",
        "outputId": "187ce822-317f-4b2c-fffd-fb774250fa2b"
      },
      "outputs": [
        {
          "name": "stdout",
          "output_type": "stream",
          "text": [
            "Device: NVIDIA A40\n",
            "Total Memory: 47.729344512 GB\n",
            "CUDA Capability: 8 . 6\n",
            "Allocated Memory: 9.086731776 GB\n",
            "Cached Memory: 9.141485568 GB\n",
            "Free Memory: 9141485558.913269 GB\n"
          ]
        }
      ],
      "source": [
        "import torch\n",
        "\n",
        "if torch.cuda.is_available():\n",
        "    # Print GPU name and total memory\n",
        "    print(\"Device:\", torch.cuda.get_device_name(0))\n",
        "    print(\"Total Memory:\", torch.cuda.get_device_properties(0).total_memory / 1e9, \"GB\")\n",
        "    print(\"CUDA Capability:\", torch.cuda.get_device_properties(0).major, \".\", torch.cuda.get_device_properties(0).minor)\n",
        "\n",
        "    # Print current memory usage\n",
        "    print(\"Allocated Memory:\", torch.cuda.memory_allocated(0) / 1e9, \"GB\")  # Memory currently in use by tensors\n",
        "    print(\"Cached Memory:\", torch.cuda.memory_reserved(0) / 1e9, \"GB\")  # Memory reserved by PyTorch\n",
        "    print(\"Free Memory:\", torch.cuda.memory_reserved(0) - torch.cuda.memory_allocated(0) / 1e9, \"GB\")  # Free memory\n",
        "else:\n",
        "    print(\"No GPU available, using CPU.\")"
      ]
    },
    {
      "cell_type": "markdown",
      "id": "0d9bbe47-66f0-45ca-921c-ab2e1c817f03",
      "metadata": {
        "id": "0d9bbe47-66f0-45ca-921c-ab2e1c817f03"
      },
      "source": [
        "#### Before we start finetuning the model, let's see how it performs on one of the validation data\n"
      ]
    },
    {
      "cell_type": "code",
      "execution_count": null,
      "id": "c275b02e-0bb0-4ada-b49c-ee59e04148e9",
      "metadata": {
        "id": "c275b02e-0bb0-4ada-b49c-ee59e04148e9",
        "outputId": "fb9f8110-2434-498d-c748-8452ef426fb1"
      },
      "outputs": [
        {
          "name": "stdout",
          "output_type": "stream",
          "text": [
            "[{'role': 'system', 'content': 'You are an expert on translating from Bengali to Hindi.'}, {'role': 'user', 'content': 'Translate the following Bengali text to Hindi: খবরটা শুনে খুব খারাপ লাগলো।'}, {'role': 'assistant', 'content': 'खबर सुनकर बहुत दुख हुआ.'}, {'role': 'user', 'content': 'Translate the following Bengali text to Hindi: প্রশিক্ষণ অ্যালগরিদম, পরামিতি, ন্যায্যতা সীমাবদ্বতা বা অন্যান্য প্রয়োগ পদ্ধতি এবং বৈশিষ্ট্য সম্পর্কে তথ্য।'}, {'role': 'assistant', 'content': 'प्रशिक्षण अल्गोरिदम, पैरामीटर्स, न्यायसंगतता सीमाएँ या अन्य अनुप्रयोग विधियों और विशेषताओं के बारे में जानकारी।'}, {'role': 'user', 'content': 'Translate the following Bengali text to Hindi: আকাশে সাদা মেঘ'}]\n"
          ]
        }
      ],
      "source": [
        "torch.manual_seed(123)\n",
        "\n",
        "input_text = format_input(val_data.iloc[0])\n",
        "print(input_text)"
      ]
    },
    {
      "cell_type": "code",
      "execution_count": null,
      "id": "4b734bd8-0f2c-4556-ae48-0561dffa4dd6",
      "metadata": {
        "id": "4b734bd8-0f2c-4556-ae48-0561dffa4dd6",
        "outputId": "fd63e863-48a6-4f42-b910-a98501acb4ba"
      },
      "outputs": [
        {
          "name": "stderr",
          "output_type": "stream",
          "text": [
            "The attention mask and the pad token id were not set. As a consequence, you may observe unexpected behavior. Please pass your input's `attention_mask` to obtain reliable results.\n",
            "Setting `pad_token_id` to `eos_token_id`:128009 for open-end generation.\n",
            "The attention mask is not set and cannot be inferred from input because pad token is same as eos token. As a consequence, you may observe unexpected behavior. Please pass your input's `attention_mask` to obtain reliable results.\n"
          ]
        },
        {
          "name": "stdout",
          "output_type": "stream",
          "text": [
            "आकाश में सफेद बादल\n"
          ]
        }
      ],
      "source": [
        "input_ids = tokenizer.apply_chat_template(\n",
        "    format_input(val_data.iloc[0]),\n",
        "    add_generation_prompt=True,\n",
        "    return_tensors=\"pt\"\n",
        ").to(model.device)\n",
        "\n",
        "terminators = [\n",
        "    tokenizer.eos_token_id,\n",
        "    tokenizer.convert_tokens_to_ids(\"<|eot_id|>\")\n",
        "]\n",
        "\n",
        "outputs = model.generate(\n",
        "    input_ids,\n",
        "    max_new_tokens=256,\n",
        "    eos_token_id=terminators,\n",
        "    do_sample=True,\n",
        "    temperature=0.6,\n",
        "    top_p=0.9,\n",
        ")\n",
        "response = outputs[0][input_ids.shape[-1]:]\n",
        "print(tokenizer.decode(response, skip_special_tokens=True))"
      ]
    },
    {
      "cell_type": "code",
      "execution_count": null,
      "id": "0fba836f-eccf-42a3-8ed9-8fdce5be71b0",
      "metadata": {
        "id": "0fba836f-eccf-42a3-8ed9-8fdce5be71b0"
      },
      "outputs": [],
      "source": [
        "# # with transformers pipeline\n",
        "# prompt = llm.tokenizer.apply_chat_template(format_input(val_data.iloc[0]), tokenize=False, add_generation_prompt=True)\n",
        "\n",
        "# generation = llm(prompt, max_new_tokens = 2048)\n",
        "\n",
        "# new_text = generation[0]['generated_text'][len(prompt):]\n",
        "\n",
        "# print(new_text)\n",
        "# print()"
      ]
    },
    {
      "cell_type": "markdown",
      "id": "0b5ce3ae-bcc4-4327-b030-95f8db1c3a04",
      "metadata": {
        "id": "0b5ce3ae-bcc4-4327-b030-95f8db1c3a04"
      },
      "source": [
        "romanize the Hindi translation:"
      ]
    },
    {
      "cell_type": "code",
      "execution_count": null,
      "id": "82fb7e84-36b6-4dbf-a3ff-4df021aeef19",
      "metadata": {
        "id": "82fb7e84-36b6-4dbf-a3ff-4df021aeef19"
      },
      "outputs": [],
      "source": [
        "\n",
        "# with open(\"/storage/praha1/home/rahmang/llm_bn_hi/data/devanagari-to-roman-script-transliteration/output_val1.txt\", \"w\") as file:\n",
        "#     file.write(new_text)\n"
      ]
    },
    {
      "cell_type": "code",
      "execution_count": null,
      "id": "a5bb8067-159f-4867-8eb1-93c74d3d9b7e",
      "metadata": {
        "id": "a5bb8067-159f-4867-8eb1-93c74d3d9b7e",
        "outputId": "dc6da2fd-a6d8-41a8-9cf0-97ed83fa1cda"
      },
      "outputs": [
        {
          "name": "stdout",
          "output_type": "stream",
          "text": [
            "kating bord saphed\n"
          ]
        }
      ],
      "source": [
        "file_path = \"/storage/praha1/home/rahmang/llm_bn_hi/data/devanagari-to-roman-script-transliteration/output_val1.txtOUTPUT\"\n",
        "\n",
        "with open(file_path, \"r\", encoding=\"utf-8\") as file:\n",
        "    content = file.read()  # Read the entire file\n",
        "    print(content)  # Print the file content\n"
      ]
    },
    {
      "cell_type": "code",
      "execution_count": null,
      "id": "8ff20616-3006-4617-9cdf-424547de2745",
      "metadata": {
        "id": "8ff20616-3006-4617-9cdf-424547de2745"
      },
      "outputs": [],
      "source": [
        "import matplotlib.pyplot as plt\n",
        "from matplotlib.ticker import MaxNLocator\n"
      ]
    },
    {
      "cell_type": "code",
      "execution_count": null,
      "id": "1b220971-0266-4c16-8239-467b5a731ff8",
      "metadata": {
        "id": "1b220971-0266-4c16-8239-467b5a731ff8"
      },
      "outputs": [],
      "source": [
        "\n",
        "\n",
        "def evaluate_model(model, train_loader, val_loader, device, eval_iter):\n",
        "    model.eval()\n",
        "    with torch.no_grad():\n",
        "        train_loss = calc_loss_loader(train_loader, model, device, num_batches=eval_iter)\n",
        "        val_loss = calc_loss_loader(val_loader, model, device, num_batches=eval_iter)\n",
        "    model.train()\n",
        "    return train_loss, val_loss\n",
        "\n",
        "\n",
        "import torch\n",
        "\n",
        "def generate_and_print_sample(model, tokenizer, device, start_context, max_new_tokens=50):\n",
        "    \"\"\"\n",
        "    Generate and print a sample text using the model.\n",
        "\n",
        "    Args:\n",
        "        model: The trained model.\n",
        "        tokenizer: The tokenizer for encoding/decoding text.\n",
        "        device: The device (e.g., \"cuda\" or \"cpu\").\n",
        "        start_context (str): The starting context for text generation.\n",
        "        max_new_tokens (int): Maximum number of tokens to generate.\n",
        "    \"\"\"\n",
        "    model.eval()  # Set the model to evaluation mode\n",
        "\n",
        "    # Encode the starting context using chat template\n",
        "    input_ids = tokenizer.apply_chat_template(\n",
        "        start_context,\n",
        "        add_generation_prompt=True,\n",
        "        return_tensors=\"pt\"\n",
        "    ).to(device)\n",
        "\n",
        "    terminators = [\n",
        "        tokenizer.eos_token_id,\n",
        "        tokenizer.convert_tokens_to_ids(\"<|eot_id|>\")\n",
        "    ]\n",
        "\n",
        "    # Generate text\n",
        "    with torch.no_grad():\n",
        "        outputs = model.generate(\n",
        "            input_ids=input_ids,\n",
        "            max_new_tokens=max_new_tokens,\n",
        "            do_sample=True,\n",
        "            top_k=50,\n",
        "            top_p=0.95,\n",
        "            temperature=0.8,\n",
        "            eos_token_id=terminators\n",
        "        )\n",
        "\n",
        "    # Extract only the newly generated tokens\n",
        "    response = outputs[0][input_ids.shape[-1]:]\n",
        "\n",
        "    # Decode the response using the chat template\n",
        "    decoded_text = tokenizer.decode(response, skip_special_tokens=True)\n",
        "\n",
        "    # Print the generated text\n",
        "    print(decoded_text.replace(\"\\n\", \" \"))  # Compact print format\n",
        "\n",
        "    model.train()  # Set the model back to training mode\n",
        "\n",
        "\n",
        "\n",
        "def assign(left, right):\n",
        "    if left.shape != right.shape:\n",
        "        raise ValueError(f\"Shape mismatch. Left: {left.shape}, Right: {right.shape}\")\n",
        "    return torch.nn.Parameter(torch.tensor(right))\n",
        "\n",
        "\n",
        "\n",
        "\n",
        "def text_to_token_ids(text, tokenizer):\n",
        "    encoded = tokenizer.encode(text)\n",
        "    encoded_tensor = torch.tensor(encoded).unsqueeze(0)  # add batch dimension\n",
        "    return encoded_tensor\n",
        "\n",
        "\n",
        "def token_ids_to_text(token_ids, tokenizer):\n",
        "    flat = token_ids.squeeze(0)  # remove batch dimension\n",
        "    return tokenizer.decode(flat.tolist())\n",
        "\n",
        "\n",
        "def calc_loss_batch(input_batch, target_batch, model, device):\n",
        "    input_batch, target_batch = input_batch.to(device), target_batch.to(device)\n",
        "\n",
        "    # Forward pass returns CausalLMOutputWithPast\n",
        "    outputs = model(input_batch)\n",
        "\n",
        "    # Extract logits tensor (shape: [batch_size, seq_len, vocab_size])\n",
        "    logits = outputs.logits\n",
        "\n",
        "    # Debug: Check for NaN or inf in logits\n",
        "    if torch.isnan(logits).any() or torch.isinf(logits).any():\n",
        "        print(\"Logits contain NaN or inf values!\")\n",
        "\n",
        "    # Reshape for cross-entropy: (batch*seq_len, vocab_size)\n",
        "    logits_flat = logits.view(-1, logits.size(-1))\n",
        "\n",
        "    # Reshape targets: (batch*seq_len)\n",
        "    targets_flat = target_batch.view(-1)\n",
        "\n",
        "    # Debug: Check for NaN or inf in targets\n",
        "    if torch.isnan(targets_flat).any() or torch.isinf(targets_flat).any():\n",
        "        print(\"Targets contain NaN or inf values!\")\n",
        "\n",
        "    # Calculate loss (ignore padding tokens marked with -100)\n",
        "    loss = torch.nn.functional.cross_entropy(\n",
        "        logits_flat,\n",
        "        targets_flat,\n",
        "        ignore_index=-100  # Ensure this matches the padding token ID\n",
        "    )\n",
        "\n",
        "    # Debug: Check for NaN or inf in loss\n",
        "    if torch.isnan(loss).any() or torch.isinf(loss).any():\n",
        "        print(\"Loss is NaN or inf!\")\n",
        "\n",
        "    return loss\n",
        "\n",
        "\n",
        "def calc_loss_loader(data_loader, model, device, num_batches=None):\n",
        "    total_loss = 0.\n",
        "    if len(data_loader) == 0:\n",
        "        return float(\"nan\")\n",
        "    elif num_batches is None:\n",
        "        num_batches = len(data_loader)\n",
        "    else:\n",
        "        num_batches = min(num_batches, len(data_loader))  # Avoid exceeding total batches\n",
        "\n",
        "    for i, (input_batch, target_batch) in enumerate(data_loader):  # Unpack  values\n",
        "        if i < num_batches:\n",
        "            loss = calc_loss_batch(input_batch, target_batch,model, device)\n",
        "            total_loss += loss.item()\n",
        "        else:\n",
        "            break\n",
        "\n",
        "    return total_loss / num_batches\n",
        "\n",
        "\n",
        "\n",
        "\n",
        "\n",
        "def plot_losses(epochs_seen, tokens_seen, train_losses, val_losses):\n",
        "    fig, ax1 = plt.subplots(figsize=(5, 3))\n",
        "\n",
        "    # Plot training and validation loss against epochs\n",
        "    ax1.plot(epochs_seen, train_losses, label=\"Training loss\")\n",
        "    ax1.plot(epochs_seen, val_losses, linestyle=\"-.\", label=\"Validation loss\")\n",
        "    ax1.set_xlabel(\"Epochs\")\n",
        "    ax1.set_ylabel(\"Loss\")\n",
        "    ax1.legend(loc=\"upper right\")\n",
        "    ax1.xaxis.set_major_locator(MaxNLocator(integer=True))  # only show integer labels on x-axis\n",
        "\n",
        "    # Create a second x-axis for tokens seen\n",
        "    ax2 = ax1.twiny()  # Create a second x-axis that shares the same y-axis\n",
        "    ax2.plot(tokens_seen, train_losses, alpha=0)  # Invisible plot for aligning ticks\n",
        "    ax2.set_xlabel(\"Tokens seen\")\n",
        "\n",
        "    fig.tight_layout()  # Adjust layout to make room\n",
        "    plt.savefig(\"loss-plot.pdf\")\n",
        "    plt.show()"
      ]
    },
    {
      "cell_type": "code",
      "execution_count": null,
      "id": "16c4e8e4-d0ce-4c84-aa68-0a4f585719e0",
      "metadata": {
        "id": "16c4e8e4-d0ce-4c84-aa68-0a4f585719e0"
      },
      "outputs": [],
      "source": [
        "def train_model(\n",
        "    model,\n",
        "    train_loader,\n",
        "    val_loader,\n",
        "    optimizer,\n",
        "    device,\n",
        "    n_epochs,\n",
        "    eval_freq,\n",
        "    eval_iter,\n",
        "    start_context,\n",
        "    tokenizer,\n",
        "    warmup_steps,\n",
        "    initial_lr=3e-05,\n",
        "    min_lr=1e-6\n",
        "):\n",
        "    # Initialize lists to track training and validation losses, tokens seen, and learning rates\n",
        "    train_losses, val_losses, track_tokens_seen, track_lrs = [], [], [], []\n",
        "\n",
        "    # Initialize counters for tokens seen and global steps\n",
        "    tokens_seen, global_step = 0, -1\n",
        "\n",
        "    # Get the peak learning rate from the optimizer\n",
        "    peak_lr = optimizer.param_groups[0][\"lr\"]\n",
        "\n",
        "    # Calculate the total number of training steps (iterations)\n",
        "    total_training_steps = len(train_loader) * n_epochs\n",
        "\n",
        "    # Calculate the learning rate increment during the warmup phase\n",
        "    lr_increment = (peak_lr - initial_lr) / warmup_steps\n",
        "\n",
        "    # Training loop over epochs\n",
        "    for epoch in range(n_epochs):\n",
        "        model.train()  # Set the model to training mode\n",
        "\n",
        "        # Iterate over batches in the training data loader\n",
        "        for input_batch, target_batch in train_loader:\n",
        "            optimizer.zero_grad()  # Reset gradients\n",
        "            global_step += 1  # Increment global step counter\n",
        "\n",
        "            # Adjust the learning rate based on the current phase (warmup or cosine annealing)\n",
        "            if global_step < warmup_steps:\n",
        "                # Warmup phase: linearly increase the learning rate\n",
        "                lr = initial_lr + global_step * lr_increment\n",
        "            else:\n",
        "                # Cosine annealing phase: adjust the learning rate using a cosine schedule\n",
        "                progress = ((global_step - warmup_steps) / (total_training_steps - warmup_steps))\n",
        "                lr = min_lr + (peak_lr - min_lr) * 0.5 * (1 + math.cos(math.pi * progress))\n",
        "\n",
        "            # Apply the calculated learning rate to the optimizer\n",
        "            for param_group in optimizer.param_groups:\n",
        "                param_group[\"lr\"] = lr\n",
        "            track_lrs.append(lr)  # Track the learning rate\n",
        "\n",
        "            # Move input and target batches to the device\n",
        "            input_batch, target_batch = input_batch.to(device), target_batch.to(device)\n",
        "\n",
        "            # Debug: Check for NaN or inf in input and target batches\n",
        "            if torch.isnan(input_batch).any() or torch.isinf(input_batch).any():\n",
        "                print(\"Input batch contains NaN or inf values!\")\n",
        "            if torch.isnan(target_batch).any() or torch.isinf(target_batch).any():\n",
        "                print(\"Target batch contains NaN or inf values!\")\n",
        "\n",
        "            # Forward pass\n",
        "            outputs = model(input_batch)\n",
        "            logits = outputs.logits\n",
        "\n",
        "            # Debug: Check for NaN or inf in logits\n",
        "            if torch.isnan(logits).any() or torch.isinf(logits).any():\n",
        "                print(\"Logits contain NaN or inf values!\")\n",
        "\n",
        "            # Calculate the loss for the current batch\n",
        "            loss = calc_loss_batch(input_batch, target_batch, model, device)\n",
        "            if torch.isnan(loss).any() or torch.isinf(loss).any():\n",
        "                print(\"Loss is NaN or inf!\")\n",
        "\n",
        "            # Backpropagate the loss\n",
        "            loss.backward()\n",
        "\n",
        "            # Apply gradient clipping after the warmup phase to avoid exploding gradients\n",
        "            if global_step > warmup_steps:\n",
        "                torch.nn.utils.clip_grad_norm_(model.parameters(), max_norm=1.0)\n",
        "\n",
        "            # Update model parameters\n",
        "            optimizer.step()\n",
        "            tokens_seen += input_batch.numel()  # Track the number of tokens seen\n",
        "\n",
        "            # Evaluate the model periodically\n",
        "            if global_step % eval_freq == 0:\n",
        "                train_loss, val_loss = evaluate_model(\n",
        "                    model, train_loader, val_loader, device, eval_iter\n",
        "                )\n",
        "                train_losses.append(train_loss)  # Track training loss\n",
        "                val_losses.append(val_loss)  # Track validation loss\n",
        "                track_tokens_seen.append(tokens_seen)  # Track tokens seen\n",
        "\n",
        "                # Print training and validation loss\n",
        "                print(\n",
        "                    f\"Ep {epoch+1} (Iter {global_step:06d}): \"\n",
        "                    f\"Train loss {train_loss:.3f}, \"\n",
        "                    f\"Val loss {val_loss:.3f}\"\n",
        "                )\n",
        "\n",
        "                # Generate and print a sample text\n",
        "                generate_and_print_sample(model, tokenizer, device, start_context)\n",
        "\n",
        "    # Return the tracked metrics\n",
        "    return train_losses, val_losses, track_tokens_seen, track_lrs"
      ]
    },
    {
      "cell_type": "code",
      "execution_count": null,
      "id": "30595d5d-8b70-4b01-884b-65b739b77c75",
      "metadata": {
        "id": "30595d5d-8b70-4b01-884b-65b739b77c75",
        "outputId": "29d6c4ec-2a6d-4fb8-c749-6efca871defb"
      },
      "outputs": [
        {
          "data": {
            "text/plain": [
              "device(type='cuda')"
            ]
          },
          "execution_count": 47,
          "metadata": {},
          "output_type": "execute_result"
        }
      ],
      "source": [
        "device"
      ]
    },
    {
      "cell_type": "code",
      "execution_count": null,
      "id": "44e28573-6c78-4467-9e1b-a1c22d6f3e53",
      "metadata": {
        "id": "44e28573-6c78-4467-9e1b-a1c22d6f3e53",
        "outputId": "d30b3df3-d6af-4ea1-fed4-c03e14341bd3"
      },
      "outputs": [
        {
          "name": "stdout",
          "output_type": "stream",
          "text": [
            "Sun Feb 16 23:37:53 2025       \n",
            "+-----------------------------------------------------------------------------------------+\n",
            "| NVIDIA-SMI 560.35.03              Driver Version: 560.35.03      CUDA Version: 12.6     |\n",
            "|-----------------------------------------+------------------------+----------------------+\n",
            "| GPU  Name                 Persistence-M | Bus-Id          Disp.A | Volatile Uncorr. ECC |\n",
            "| Fan  Temp   Perf          Pwr:Usage/Cap |           Memory-Usage | GPU-Util  Compute M. |\n",
            "|                                         |                        |               MIG M. |\n",
            "|=========================================+========================+======================|\n",
            "|   0  NVIDIA A40                     On  |   00000000:81:00.0 Off |                    0 |\n",
            "|  0%   46C    P0            114W /  300W |    9185MiB /  46068MiB |      0%      Default |\n",
            "|                                         |                        |                  N/A |\n",
            "+-----------------------------------------+------------------------+----------------------+\n",
            "                                                                                         \n",
            "+-----------------------------------------------------------------------------------------+\n",
            "| Processes:                                                                              |\n",
            "|  GPU   GI   CI        PID   Type   Process name                              GPU Memory |\n",
            "|        ID   ID                                                               Usage      |\n",
            "|=========================================================================================|\n",
            "|    0   N/A  N/A    183887      C   .../home/rahmang/envs/nnenv/bin/python       9176MiB |\n",
            "+-----------------------------------------------------------------------------------------+\n"
          ]
        },
        {
          "name": "stderr",
          "output_type": "stream",
          "text": [
            "huggingface/tokenizers: The current process just got forked, after parallelism has already been used. Disabling parallelism to avoid deadlocks...\n",
            "To disable this warning, you can either:\n",
            "\t- Avoid using `tokenizers` before the fork if possible\n",
            "\t- Explicitly set the environment variable TOKENIZERS_PARALLELISM=(true | false)\n"
          ]
        }
      ],
      "source": [
        "!nvidia-smi"
      ]
    },
    {
      "cell_type": "markdown",
      "id": "5fe37dd2-b219-4eb6-b7ea-9fc0abd49198",
      "metadata": {
        "id": "5fe37dd2-b219-4eb6-b7ea-9fc0abd49198"
      },
      "source": [
        "**the initial training and validation set loss before we start training (as in previous chapters, the goal is to minimize the loss**"
      ]
    },
    {
      "cell_type": "code",
      "execution_count": null,
      "id": "ce714071-14ea-4ba2-96fd-c5d3ba39c2ec",
      "metadata": {
        "id": "ce714071-14ea-4ba2-96fd-c5d3ba39c2ec",
        "outputId": "f1d79bf0-f2b5-4ad8-a265-82ef95e830b0"
      },
      "outputs": [
        {
          "name": "stdout",
          "output_type": "stream",
          "text": [
            "Training loss: 1.5517578125\n",
            "Validation loss: 1.6702473958333333\n"
          ]
        }
      ],
      "source": [
        "#model.to(device) #`.to` is not supported for `8-bit` bitsandbytes models. Please use the model as it is,\n",
        "#since the model has already been set to the correct devices and casted to the correct `dtype`.\n",
        "#if we loaded the usual model, then need to do: model.to(device)\n",
        "\n",
        "torch.manual_seed(123)\n",
        "\n",
        "with torch.no_grad():\n",
        "    train_loss = calc_loss_loader(train_loader, model, device, num_batches=5)\n",
        "    val_loss = calc_loss_loader(val_loader, model, device, num_batches=5)\n",
        "\n",
        "print(\"Training loss:\", train_loss)\n",
        "print(\"Validation loss:\", val_loss)"
      ]
    },
    {
      "cell_type": "code",
      "execution_count": null,
      "id": "9b10d48e-4fae-4efe-8ca2-df67924ab1ad",
      "metadata": {
        "id": "9b10d48e-4fae-4efe-8ca2-df67924ab1ad",
        "outputId": "fb8a1b82-b0c0-40bf-b164-e17ddc49478e"
      },
      "outputs": [
        {
          "name": "stderr",
          "output_type": "stream",
          "text": [
            "huggingface/tokenizers: The current process just got forked, after parallelism has already been used. Disabling parallelism to avoid deadlocks...\n",
            "To disable this warning, you can either:\n",
            "\t- Avoid using `tokenizers` before the fork if possible\n",
            "\t- Explicitly set the environment variable TOKENIZERS_PARALLELISM=(true | false)\n"
          ]
        }
      ],
      "source": [
        "!export PYTORCH_CUDA_ALLOC_CONF=expandable_segments:True"
      ]
    },
    {
      "cell_type": "code",
      "execution_count": null,
      "id": "5033da70-911f-4d1b-a98d-6234e9394017",
      "metadata": {
        "id": "5033da70-911f-4d1b-a98d-6234e9394017"
      },
      "outputs": [],
      "source": [
        "import torch\n",
        "torch.cuda.empty_cache()"
      ]
    },
    {
      "cell_type": "code",
      "execution_count": null,
      "id": "ab61bf27-798c-41da-9f23-1436ba2874ca",
      "metadata": {
        "id": "ab61bf27-798c-41da-9f23-1436ba2874ca",
        "outputId": "7c78f6fc-3181-43be-9050-e3835f4b0c3b"
      },
      "outputs": [
        {
          "name": "stdout",
          "output_type": "stream",
          "text": [
            "Sun Feb 16 23:37:56 2025       \n",
            "+-----------------------------------------------------------------------------------------+\n",
            "| NVIDIA-SMI 560.35.03              Driver Version: 560.35.03      CUDA Version: 12.6     |\n",
            "|-----------------------------------------+------------------------+----------------------+\n",
            "| GPU  Name                 Persistence-M | Bus-Id          Disp.A | Volatile Uncorr. ECC |\n",
            "| Fan  Temp   Perf          Pwr:Usage/Cap |           Memory-Usage | GPU-Util  Compute M. |\n",
            "|                                         |                        |               MIG M. |\n",
            "|=========================================+========================+======================|\n",
            "|   0  NVIDIA A40                     On  |   00000000:81:00.0 Off |                    0 |\n",
            "|  0%   50C    P0            197W /  300W |    9103MiB /  46068MiB |      5%      Default |\n",
            "|                                         |                        |                  N/A |\n",
            "+-----------------------------------------+------------------------+----------------------+\n",
            "                                                                                         \n",
            "+-----------------------------------------------------------------------------------------+\n",
            "| Processes:                                                                              |\n",
            "|  GPU   GI   CI        PID   Type   Process name                              GPU Memory |\n",
            "|        ID   ID                                                               Usage      |\n",
            "|=========================================================================================|\n",
            "|    0   N/A  N/A    183887      C   .../home/rahmang/envs/nnenv/bin/python       9094MiB |\n",
            "+-----------------------------------------------------------------------------------------+\n"
          ]
        },
        {
          "name": "stderr",
          "output_type": "stream",
          "text": [
            "huggingface/tokenizers: The current process just got forked, after parallelism has already been used. Disabling parallelism to avoid deadlocks...\n",
            "To disable this warning, you can either:\n",
            "\t- Avoid using `tokenizers` before the fork if possible\n",
            "\t- Explicitly set the environment variable TOKENIZERS_PARALLELISM=(true | false)\n"
          ]
        }
      ],
      "source": [
        "!nvidia-smi"
      ]
    },
    {
      "cell_type": "code",
      "execution_count": null,
      "id": "01bf5628-4dfe-4e19-a1ab-2f7dcbb4c02e",
      "metadata": {
        "id": "01bf5628-4dfe-4e19-a1ab-2f7dcbb4c02e"
      },
      "outputs": [],
      "source": [
        "# from accelerate import Accelerator\n",
        "\n",
        "# # Initialize Accelerator with FP16\n",
        "# accelerator = Accelerator(mixed_precision=\"fp16\")\n",
        "\n",
        "# # Prepare model, optimizer, and data loader\n",
        "# model, optimizer, train_loader = accelerator.prepare(model, optimizer, train_loader)"
      ]
    },
    {
      "cell_type": "markdown",
      "id": "653eb69d-00f3-49f4-888d-fab25efe9377",
      "metadata": {
        "id": "653eb69d-00f3-49f4-888d-fab25efe9377"
      },
      "source": [
        "### parameter efficient fine tuning with LoRA"
      ]
    },
    {
      "cell_type": "code",
      "execution_count": null,
      "id": "581ce209-a495-4dc7-879c-72fb7350b07b",
      "metadata": {
        "id": "581ce209-a495-4dc7-879c-72fb7350b07b"
      },
      "outputs": [],
      "source": [
        "import torch\n",
        "import torch.nn as nn\n",
        "import math\n",
        "\n",
        "class LoRALayer(nn.Module):\n",
        "    def __init__(self, in_dim, out_dim, rank, alpha):\n",
        "        super().__init__()\n",
        "        self.A = nn.Parameter(torch.empty(in_dim, rank))\n",
        "        nn.init.kaiming_uniform_(self.A, a=math.sqrt(5))\n",
        "        self.B = nn.Parameter(torch.zeros(rank, out_dim))\n",
        "        self.alpha = alpha\n",
        "\n",
        "    def forward(self, x):\n",
        "        # Ensure LoRA parameters are on the same device as x\n",
        "        device = x.device\n",
        "        A = self.A.to(device).to(x.dtype)\n",
        "        B = self.B.to(device).to(x.dtype)\n",
        "\n",
        "        return self.alpha * (x @ A @ B)\n",
        "\n",
        "\n",
        "\n",
        "class LinearWithLoRA(nn.Module):\n",
        "    def __init__(self, linear, rank, alpha, device=None):\n",
        "        super().__init__()\n",
        "        self.linear = linear.to(device)\n",
        "        self.lora = LoRALayer(linear.in_features, linear.out_features, rank, alpha).to(device)\n",
        "\n",
        "    def forward(self, x):\n",
        "        return self.linear(x) + self.lora(x)\n",
        "\n",
        "\n",
        "def replace_linear_with_lora(model, rank, alpha, device):\n",
        "    for name, module in model.named_children():\n",
        "        if isinstance(module, nn.Linear):\n",
        "            setattr(model, name, LinearWithLoRA(module, rank, alpha).to(device))\n",
        "        else:\n",
        "            replace_linear_with_lora(module, rank, alpha, device)\n",
        "\n"
      ]
    },
    {
      "cell_type": "markdown",
      "id": "2c947e9f-0400-4c5e-b8a9-c8e6ec9ddb5d",
      "metadata": {
        "id": "2c947e9f-0400-4c5e-b8a9-c8e6ec9ddb5d"
      },
      "source": [
        "**Before we apply the LinearWithLoRA layer upgrades, we first freeze the original model\n",
        "parameters:**"
      ]
    },
    {
      "cell_type": "code",
      "execution_count": null,
      "id": "8b7af4c4-d0af-44dc-ab4a-63547fa8e3d1",
      "metadata": {
        "id": "8b7af4c4-d0af-44dc-ab4a-63547fa8e3d1",
        "outputId": "1335b7f1-bf91-435d-e856-676a3bd27c78"
      },
      "outputs": [
        {
          "name": "stdout",
          "output_type": "stream",
          "text": [
            "Total trainable parameters before: 1,050,939,392\n",
            "Total trainable parameters after: 0\n"
          ]
        }
      ],
      "source": [
        "total_params = sum(p.numel() for p in model.parameters() if p.requires_grad)\n",
        "print(f\"Total trainable parameters before: {total_params:,}\")\n",
        "for param in model.parameters():\n",
        "    param.requires_grad = False\n",
        "total_params = sum(p.numel() for p in model.parameters() if p.requires_grad)\n",
        "print(f\"Total trainable parameters after: {total_params:,}\")"
      ]
    },
    {
      "cell_type": "code",
      "execution_count": null,
      "id": "39391ce5-9fbc-474b-891e-247dfddea0e9",
      "metadata": {
        "id": "39391ce5-9fbc-474b-891e-247dfddea0e9",
        "outputId": "661e76cc-96fb-4ec7-e708-d46dd83f2226"
      },
      "outputs": [
        {
          "name": "stdout",
          "output_type": "stream",
          "text": [
            "Total trainable LoRA parameters: 22,030,336\n"
          ]
        }
      ],
      "source": [
        "#we use the replace_linear_with_lora to replace the Linear layers:\n",
        "replace_linear_with_lora(model, rank=8, alpha=8,device=device)\n",
        "total_params = sum(p.numel() for p in model.parameters() if p.requires_grad)\n",
        "print(f\"Total trainable LoRA parameters: {total_params:,}\")"
      ]
    },
    {
      "cell_type": "code",
      "execution_count": null,
      "id": "e98b1123-632b-4d2e-b5d1-5cdc6ff222a5",
      "metadata": {
        "id": "e98b1123-632b-4d2e-b5d1-5cdc6ff222a5",
        "outputId": "b9fc54bc-85b6-4ce0-fad5-a79c482c8d67"
      },
      "outputs": [
        {
          "name": "stdout",
          "output_type": "stream",
          "text": [
            "Sun Feb 16 23:37:56 2025       \n",
            "+-----------------------------------------------------------------------------------------+\n",
            "| NVIDIA-SMI 560.35.03              Driver Version: 560.35.03      CUDA Version: 12.6     |\n",
            "|-----------------------------------------+------------------------+----------------------+\n",
            "| GPU  Name                 Persistence-M | Bus-Id          Disp.A | Volatile Uncorr. ECC |\n",
            "| Fan  Temp   Perf          Pwr:Usage/Cap |           Memory-Usage | GPU-Util  Compute M. |\n",
            "|                                         |                        |               MIG M. |\n",
            "|=========================================+========================+======================|\n",
            "|   0  NVIDIA A40                     On  |   00000000:81:00.0 Off |                    0 |\n",
            "|  0%   49C    P0            101W /  300W |    9179MiB /  46068MiB |      2%      Default |\n",
            "|                                         |                        |                  N/A |\n",
            "+-----------------------------------------+------------------------+----------------------+\n",
            "                                                                                         \n",
            "+-----------------------------------------------------------------------------------------+\n",
            "| Processes:                                                                              |\n",
            "|  GPU   GI   CI        PID   Type   Process name                              GPU Memory |\n",
            "|        ID   ID                                                               Usage      |\n",
            "|=========================================================================================|\n",
            "|    0   N/A  N/A    183887      C   .../home/rahmang/envs/nnenv/bin/python       9170MiB |\n",
            "+-----------------------------------------------------------------------------------------+\n"
          ]
        },
        {
          "name": "stderr",
          "output_type": "stream",
          "text": [
            "huggingface/tokenizers: The current process just got forked, after parallelism has already been used. Disabling parallelism to avoid deadlocks...\n",
            "To disable this warning, you can either:\n",
            "\t- Avoid using `tokenizers` before the fork if possible\n",
            "\t- Explicitly set the environment variable TOKENIZERS_PARALLELISM=(true | false)\n"
          ]
        }
      ],
      "source": [
        "!nvidia-smi"
      ]
    },
    {
      "cell_type": "code",
      "execution_count": null,
      "id": "2ad07243-81e1-4198-8f94-3b162f4e2b1b",
      "metadata": {
        "id": "2ad07243-81e1-4198-8f94-3b162f4e2b1b",
        "outputId": "4e1d5472-4bb3-43eb-c71d-f4ae3ee901ff"
      },
      "outputs": [
        {
          "data": {
            "text/plain": [
              "device(type='cuda')"
            ]
          },
          "execution_count": 58,
          "metadata": {},
          "output_type": "execute_result"
        }
      ],
      "source": [
        "device"
      ]
    },
    {
      "cell_type": "code",
      "execution_count": null,
      "id": "37fe2035-b8cb-481a-b5d8-17cfd7d8005f",
      "metadata": {
        "id": "37fe2035-b8cb-481a-b5d8-17cfd7d8005f",
        "outputId": "b2359cd9-c81d-4e9e-ce79-9e1d50a8794e"
      },
      "outputs": [
        {
          "name": "stdout",
          "output_type": "stream",
          "text": [
            "126\n"
          ]
        },
        {
          "name": "stderr",
          "output_type": "stream",
          "text": [
            "The attention mask and the pad token id were not set. As a consequence, you may observe unexpected behavior. Please pass your input's `attention_mask` to obtain reliable results.\n",
            "Setting `pad_token_id` to `eos_token_id`:128009 for open-end generation.\n"
          ]
        },
        {
          "name": "stdout",
          "output_type": "stream",
          "text": [
            "Ep 1 (Iter 000000): Train loss 1.872, Val loss 1.523\n",
            "आकाश में सफेद बादल\n"
          ]
        },
        {
          "name": "stderr",
          "output_type": "stream",
          "text": [
            "The attention mask and the pad token id were not set. As a consequence, you may observe unexpected behavior. Please pass your input's `attention_mask` to obtain reliable results.\n",
            "Setting `pad_token_id` to `eos_token_id`:128009 for open-end generation.\n"
          ]
        },
        {
          "name": "stdout",
          "output_type": "stream",
          "text": [
            "Ep 1 (Iter 000005): Train loss 0.935, Val loss 0.793\n",
            "parableparableparableparableparableparableparableparableparableparableparableparableparableparableparableparableparableparableparableparableparableparableparableparableparableparableparableparableparableparableparableparableparableparableparableparableparableparableparableparableparableparableparableparableparableparableparableparableparableparable\n"
          ]
        },
        {
          "name": "stderr",
          "output_type": "stream",
          "text": [
            "The attention mask and the pad token id were not set. As a consequence, you may observe unexpected behavior. Please pass your input's `attention_mask` to obtain reliable results.\n",
            "Setting `pad_token_id` to `eos_token_id`:128009 for open-end generation.\n"
          ]
        },
        {
          "name": "stdout",
          "output_type": "stream",
          "text": [
            "Ep 1 (Iter 000010): Train loss 1.294, Val loss 0.799\n",
            "parable blue clouds\n"
          ]
        },
        {
          "name": "stderr",
          "output_type": "stream",
          "text": [
            "The attention mask and the pad token id were not set. As a consequence, you may observe unexpected behavior. Please pass your input's `attention_mask` to obtain reliable results.\n",
            "Setting `pad_token_id` to `eos_token_id`:128009 for open-end generation.\n"
          ]
        },
        {
          "name": "stdout",
          "output_type": "stream",
          "text": [
            "Ep 1 (Iter 000015): Train loss 1.093, Val loss 1.285\n",
            "parable सम्प्रत्के में सफेद मे�घे आदमी जाता है\n"
          ]
        },
        {
          "name": "stderr",
          "output_type": "stream",
          "text": [
            "The attention mask and the pad token id were not set. As a consequence, you may observe unexpected behavior. Please pass your input's `attention_mask` to obtain reliable results.\n",
            "Setting `pad_token_id` to `eos_token_id`:128009 for open-end generation.\n"
          ]
        },
        {
          "name": "stdout",
          "output_type": "stream",
          "text": [
            "Ep 1 (Iter 000020): Train loss 4.891, Val loss 5.219\n",
            "ी में के खी से आदमी\n"
          ]
        },
        {
          "name": "stderr",
          "output_type": "stream",
          "text": [
            "The attention mask and the pad token id were not set. As a consequence, you may observe unexpected behavior. Please pass your input's `attention_mask` to obtain reliable results.\n",
            "Setting `pad_token_id` to `eos_token_id`:128009 for open-end generation.\n"
          ]
        },
        {
          "name": "stdout",
          "output_type": "stream",
          "text": [
            "Ep 1 (Iter 000025): Train loss 12.625, Val loss 12.609\n",
            "104 CENT164(mi Cent54mansemic Cent Central CENT104 brig104 brig104 CENT Cent CENT Cent CENT CENT Cent Hag Giz Cent  httpsvik Cent Hag Centanda Cent  Cent Cent Cent Cent CENT https202 CENTparableparable Cent14ندقemic104\n"
          ]
        },
        {
          "name": "stderr",
          "output_type": "stream",
          "text": [
            "The attention mask and the pad token id were not set. As a consequence, you may observe unexpected behavior. Please pass your input's `attention_mask` to obtain reliable results.\n",
            "Setting `pad_token_id` to `eos_token_id`:128009 for open-end generation.\n"
          ]
        },
        {
          "name": "stdout",
          "output_type": "stream",
          "text": [
            "Ep 1 (Iter 000030): Train loss 9.109, Val loss 9.203\n",
            "           क         म   एक                               क        \n"
          ]
        },
        {
          "name": "stderr",
          "output_type": "stream",
          "text": [
            "The attention mask and the pad token id were not set. As a consequence, you may observe unexpected behavior. Please pass your input's `attention_mask` to obtain reliable results.\n",
            "Setting `pad_token_id` to `eos_token_id`:128009 for open-end generation.\n"
          ]
        },
        {
          "name": "stdout",
          "output_type": "stream",
          "text": [
            "Ep 1 (Iter 000035): Train loss 7.582, Val loss 7.719\n",
            "\n"
          ]
        },
        {
          "name": "stderr",
          "output_type": "stream",
          "text": [
            "The attention mask and the pad token id were not set. As a consequence, you may observe unexpected behavior. Please pass your input's `attention_mask` to obtain reliable results.\n",
            "Setting `pad_token_id` to `eos_token_id`:128009 for open-end generation.\n"
          ]
        },
        {
          "name": "stdout",
          "output_type": "stream",
          "text": [
            "Ep 1 (Iter 000040): Train loss 7.598, Val loss 7.352\n",
            "assistantassistantassistantassistant\n"
          ]
        },
        {
          "name": "stderr",
          "output_type": "stream",
          "text": [
            "The attention mask and the pad token id were not set. As a consequence, you may observe unexpected behavior. Please pass your input's `attention_mask` to obtain reliable results.\n",
            "Setting `pad_token_id` to `eos_token_id`:128009 for open-end generation.\n"
          ]
        },
        {
          "name": "stdout",
          "output_type": "stream",
          "text": [
            "Ep 2 (Iter 000045): Train loss 7.969, Val loss 7.582\n",
            "ी  े    ली  े केड    ेाassistant     वले   प क  ऱ ही क  े     लकassistantी की  ै कैी की  न  \n"
          ]
        },
        {
          "name": "stderr",
          "output_type": "stream",
          "text": [
            "The attention mask and the pad token id were not set. As a consequence, you may observe unexpected behavior. Please pass your input's `attention_mask` to obtain reliable results.\n",
            "Setting `pad_token_id` to `eos_token_id`:128009 for open-end generation.\n"
          ]
        },
        {
          "name": "stdout",
          "output_type": "stream",
          "text": [
            "Ep 2 (Iter 000050): Train loss 7.535, Val loss 7.230\n",
            " मीलassistant खीलassistantैकassistantassistantीलassistantंग़ींगैक्सassistantassistant़क्स मैक हारतassistantारत़कंगassistant कीलैंassistantैं चलassistantारतील़क्रक\n"
          ]
        },
        {
          "name": "stderr",
          "output_type": "stream",
          "text": [
            "The attention mask and the pad token id were not set. As a consequence, you may observe unexpected behavior. Please pass your input's `attention_mask` to obtain reliable results.\n",
            "Setting `pad_token_id` to `eos_token_id`:128009 for open-end generation.\n"
          ]
        },
        {
          "name": "stdout",
          "output_type": "stream",
          "text": [
            "Ep 2 (Iter 000055): Train loss 6.598, Val loss 6.480\n",
            " क कassistant\n"
          ]
        },
        {
          "name": "stderr",
          "output_type": "stream",
          "text": [
            "The attention mask and the pad token id were not set. As a consequence, you may observe unexpected behavior. Please pass your input's `attention_mask` to obtain reliable results.\n",
            "Setting `pad_token_id` to `eos_token_id`:128009 for open-end generation.\n"
          ]
        },
        {
          "name": "stdout",
          "output_type": "stream",
          "text": [
            "Ep 2 (Iter 000060): Train loss 6.203, Val loss 5.668\n",
            "assistantार  ा्र  ्र\n"
          ]
        },
        {
          "name": "stderr",
          "output_type": "stream",
          "text": [
            "The attention mask and the pad token id were not set. As a consequence, you may observe unexpected behavior. Please pass your input's `attention_mask` to obtain reliable results.\n",
            "Setting `pad_token_id` to `eos_token_id`:128009 for open-end generation.\n"
          ]
        },
        {
          "name": "stdout",
          "output_type": "stream",
          "text": [
            "Ep 2 (Iter 000065): Train loss 5.082, Val loss 4.746\n",
            "assistantीी क\n"
          ]
        },
        {
          "name": "stderr",
          "output_type": "stream",
          "text": [
            "The attention mask and the pad token id were not set. As a consequence, you may observe unexpected behavior. Please pass your input's `attention_mask` to obtain reliable results.\n",
            "Setting `pad_token_id` to `eos_token_id`:128009 for open-end generation.\n"
          ]
        },
        {
          "name": "stdout",
          "output_type": "stream",
          "text": [
            "Ep 2 (Iter 000070): Train loss 5.535, Val loss 4.867\n",
            "assistantेassistantassistantर मassistantassistant\n"
          ]
        },
        {
          "name": "stderr",
          "output_type": "stream",
          "text": [
            "The attention mask and the pad token id were not set. As a consequence, you may observe unexpected behavior. Please pass your input's `attention_mask` to obtain reliable results.\n",
            "Setting `pad_token_id` to `eos_token_id`:128009 for open-end generation.\n"
          ]
        },
        {
          "name": "stdout",
          "output_type": "stream",
          "text": [
            "Ep 2 (Iter 000075): Train loss 4.863, Val loss 4.844\n",
            " एक ब म व\n"
          ]
        },
        {
          "name": "stderr",
          "output_type": "stream",
          "text": [
            "The attention mask and the pad token id were not set. As a consequence, you may observe unexpected behavior. Please pass your input's `attention_mask` to obtain reliable results.\n",
            "Setting `pad_token_id` to `eos_token_id`:128009 for open-end generation.\n"
          ]
        },
        {
          "name": "stdout",
          "output_type": "stream",
          "text": [
            "Ep 2 (Iter 000080): Train loss 5.105, Val loss 4.711\n",
            "assistantparableassistant परे बparableassistant्ररparable बassistantparable\n"
          ]
        },
        {
          "name": "stderr",
          "output_type": "stream",
          "text": [
            "The attention mask and the pad token id were not set. As a consequence, you may observe unexpected behavior. Please pass your input's `attention_mask` to obtain reliable results.\n",
            "Setting `pad_token_id` to `eos_token_id`:128009 for open-end generation.\n"
          ]
        },
        {
          "name": "stdout",
          "output_type": "stream",
          "text": [
            "Ep 3 (Iter 000085): Train loss 4.582, Val loss 4.500\n",
            " कीparableassistantीparable\n"
          ]
        },
        {
          "name": "stderr",
          "output_type": "stream",
          "text": [
            "The attention mask and the pad token id were not set. As a consequence, you may observe unexpected behavior. Please pass your input's `attention_mask` to obtain reliable results.\n",
            "Setting `pad_token_id` to `eos_token_id`:128009 for open-end generation.\n"
          ]
        },
        {
          "name": "stdout",
          "output_type": "stream",
          "text": [
            "Ep 3 (Iter 000090): Train loss 4.648, Val loss 4.520\n",
            "ालेड\n"
          ]
        },
        {
          "name": "stderr",
          "output_type": "stream",
          "text": [
            "The attention mask and the pad token id were not set. As a consequence, you may observe unexpected behavior. Please pass your input's `attention_mask` to obtain reliable results.\n",
            "Setting `pad_token_id` to `eos_token_id`:128009 for open-end generation.\n"
          ]
        },
        {
          "name": "stdout",
          "output_type": "stream",
          "text": [
            "Ep 3 (Iter 000095): Train loss 5.145, Val loss 4.949\n",
            " मparableे मassistantassistantारassistant परparableparableparableानानेतparableील\n"
          ]
        },
        {
          "name": "stderr",
          "output_type": "stream",
          "text": [
            "The attention mask and the pad token id were not set. As a consequence, you may observe unexpected behavior. Please pass your input's `attention_mask` to obtain reliable results.\n",
            "Setting `pad_token_id` to `eos_token_id`:128009 for open-end generation.\n"
          ]
        },
        {
          "name": "stdout",
          "output_type": "stream",
          "text": [
            "Ep 3 (Iter 000100): Train loss 4.715, Val loss 4.492\n",
            "assistant  parable कassistant की क क केलparableे    ी क छ हassistantassistant\n"
          ]
        },
        {
          "name": "stderr",
          "output_type": "stream",
          "text": [
            "The attention mask and the pad token id were not set. As a consequence, you may observe unexpected behavior. Please pass your input's `attention_mask` to obtain reliable results.\n",
            "Setting `pad_token_id` to `eos_token_id`:128009 for open-end generation.\n"
          ]
        },
        {
          "name": "stdout",
          "output_type": "stream",
          "text": [
            "Ep 3 (Iter 000105): Train loss 4.613, Val loss 4.785\n",
            " पा म ह परparableassistantparable क\n"
          ]
        },
        {
          "name": "stderr",
          "output_type": "stream",
          "text": [
            "The attention mask and the pad token id were not set. As a consequence, you may observe unexpected behavior. Please pass your input's `attention_mask` to obtain reliable results.\n",
            "Setting `pad_token_id` to `eos_token_id`:128009 for open-end generation.\n"
          ]
        },
        {
          "name": "stdout",
          "output_type": "stream",
          "text": [
            "Ep 3 (Iter 000110): Train loss 4.875, Val loss 4.777\n",
            "parableassistantारassistantगassistantparableassistantparableparableेे कassistantparable परassistantीparableीीparableीassistantparable़डparableेारassistant कassistantparableassistantparableassistantारे\n"
          ]
        },
        {
          "name": "stderr",
          "output_type": "stream",
          "text": [
            "The attention mask and the pad token id were not set. As a consequence, you may observe unexpected behavior. Please pass your input's `attention_mask` to obtain reliable results.\n",
            "Setting `pad_token_id` to `eos_token_id`:128009 for open-end generation.\n"
          ]
        },
        {
          "name": "stdout",
          "output_type": "stream",
          "text": [
            "Ep 3 (Iter 000115): Train loss 4.887, Val loss 4.594\n",
            "ारतानparable च सम  ेार\n"
          ]
        },
        {
          "name": "stderr",
          "output_type": "stream",
          "text": [
            "The attention mask and the pad token id were not set. As a consequence, you may observe unexpected behavior. Please pass your input's `attention_mask` to obtain reliable results.\n",
            "Setting `pad_token_id` to `eos_token_id`:128009 for open-end generation.\n"
          ]
        },
        {
          "name": "stdout",
          "output_type": "stream",
          "text": [
            "Ep 3 (Iter 000120): Train loss 4.762, Val loss 4.559\n",
            "ारै   परassistantassistantassistantारैारassistantassistantा स क\n"
          ]
        },
        {
          "name": "stderr",
          "output_type": "stream",
          "text": [
            "The attention mask and the pad token id were not set. As a consequence, you may observe unexpected behavior. Please pass your input's `attention_mask` to obtain reliable results.\n",
            "Setting `pad_token_id` to `eos_token_id`:128009 for open-end generation.\n"
          ]
        },
        {
          "name": "stdout",
          "output_type": "stream",
          "text": [
            "Ep 3 (Iter 000125): Train loss 4.711, Val loss 4.461\n",
            " पराथे परparable द द क   ब क बparableparableparable परparableम पर ह पर परा\n"
          ]
        },
        {
          "name": "stderr",
          "output_type": "stream",
          "text": [
            "The attention mask and the pad token id were not set. As a consequence, you may observe unexpected behavior. Please pass your input's `attention_mask` to obtain reliable results.\n",
            "Setting `pad_token_id` to `eos_token_id`:128009 for open-end generation.\n"
          ]
        },
        {
          "name": "stdout",
          "output_type": "stream",
          "text": [
            "Ep 4 (Iter 000130): Train loss 7.773, Val loss 7.133\n",
            "ोज लुरेकोजोजोजेकेकेक लोज लोज लेकेकोजोजेक लोजेकेकेकेकोजोजोजेक्शनोजोजुर्शनागेकेक ल्शन्शनेकोजेकागेकेकागोज\n"
          ]
        },
        {
          "name": "stderr",
          "output_type": "stream",
          "text": [
            "The attention mask and the pad token id were not set. As a consequence, you may observe unexpected behavior. Please pass your input's `attention_mask` to obtain reliable results.\n",
            "Setting `pad_token_id` to `eos_token_id`:128009 for open-end generation.\n"
          ]
        },
        {
          "name": "stdout",
          "output_type": "stream",
          "text": [
            "Ep 4 (Iter 000135): Train loss 10.844, Val loss 9.594\n",
            "ागाग्शनागाग लेकाग ल्शनागागेक्शनेकागोजाग लेकाग्शनागागागागाग लाग्शनाग लागुरुराग्शन लागदाग ल लागेक्शन्शन्शनागेक\n"
          ]
        },
        {
          "name": "stderr",
          "output_type": "stream",
          "text": [
            "The attention mask and the pad token id were not set. As a consequence, you may observe unexpected behavior. Please pass your input's `attention_mask` to obtain reliable results.\n",
            "Setting `pad_token_id` to `eos_token_id`:128009 for open-end generation.\n"
          ]
        },
        {
          "name": "stdout",
          "output_type": "stream",
          "text": [
            "Ep 4 (Iter 000140): Train loss 11.469, Val loss 9.828\n",
            " लुर ल ल ल ल ऊपर लददय ऊपरदुरय लयिजक ऊपर ऊपर ल सभयय लयागदंदरय सभ ल ल लदंडीुर ऊपर लीय लयम अ ऊपरुराग\n"
          ]
        },
        {
          "name": "stderr",
          "output_type": "stream",
          "text": [
            "The attention mask and the pad token id were not set. As a consequence, you may observe unexpected behavior. Please pass your input's `attention_mask` to obtain reliable results.\n",
            "Setting `pad_token_id` to `eos_token_id`:128009 for open-end generation.\n"
          ]
        },
        {
          "name": "stdout",
          "output_type": "stream",
          "text": [
            "Ep 4 (Iter 000145): Train loss 10.141, Val loss 9.695\n",
            " लुर लदंडंजद लुर ओरिजदद लांिजिजय लयांद लांयिज ऊपरुरजंदरुरमककयिंकद ऊपरंड ऊपरिजय ऊपरयययमदद\n"
          ]
        },
        {
          "name": "stderr",
          "output_type": "stream",
          "text": [
            "The attention mask and the pad token id were not set. As a consequence, you may observe unexpected behavior. Please pass your input's `attention_mask` to obtain reliable results.\n",
            "Setting `pad_token_id` to `eos_token_id`:128009 for open-end generation.\n"
          ]
        },
        {
          "name": "stdout",
          "output_type": "stream",
          "text": [
            "Ep 4 (Iter 000150): Train loss 10.594, Val loss 8.969\n",
            "ाँंदर अम लुर लंडंडिकिंाँ ल अाण भ ओरीुरवदकीांीिकांकुरव ल लुरंदरंडुर तमममंडिंाण तुरंडांुरिकुर\n"
          ]
        },
        {
          "name": "stderr",
          "output_type": "stream",
          "text": [
            "The attention mask and the pad token id were not set. As a consequence, you may observe unexpected behavior. Please pass your input's `attention_mask` to obtain reliable results.\n",
            "Setting `pad_token_id` to `eos_token_id`:128009 for open-end generation.\n"
          ]
        },
        {
          "name": "stdout",
          "output_type": "stream",
          "text": [
            "Ep 4 (Iter 000155): Train loss 10.266, Val loss 8.234\n",
            "तक्मककददवदीवोदमिं अदम त्मकिंकममिकवाँ तक्टांंडमकी भकम भबीांदिं भ ओर टबी\n"
          ]
        },
        {
          "name": "stderr",
          "output_type": "stream",
          "text": [
            "The attention mask and the pad token id were not set. As a consequence, you may observe unexpected behavior. Please pass your input's `attention_mask` to obtain reliable results.\n",
            "Setting `pad_token_id` to `eos_token_id`:128009 for open-end generation.\n"
          ]
        },
        {
          "name": "stdout",
          "output_type": "stream",
          "text": [
            "Ep 4 (Iter 000160): Train loss 9.039, Val loss 7.613\n",
            "ाँंबी मीाँीाँत तीिकांमी़द्म ल क की भी क्मीीिंी भिक त तीकतीीिंी क कीी एसी\n"
          ]
        },
        {
          "name": "stderr",
          "output_type": "stream",
          "text": [
            "The attention mask and the pad token id were not set. As a consequence, you may observe unexpected behavior. Please pass your input's `attention_mask` to obtain reliable results.\n",
            "Setting `pad_token_id` to `eos_token_id`:128009 for open-end generation.\n"
          ]
        },
        {
          "name": "stdout",
          "output_type": "stream",
          "text": [
            "Ep 4 (Iter 000165): Train loss 8.094, Val loss 7.160\n",
            "ीीीीकतीां मवीीी टवक्सुट भंब ट वीी ट वी म क एस मीीी कीीीीी क कीीुट ह\n"
          ]
        },
        {
          "name": "stderr",
          "output_type": "stream",
          "text": [
            "The attention mask and the pad token id were not set. As a consequence, you may observe unexpected behavior. Please pass your input's `attention_mask` to obtain reliable results.\n",
            "Setting `pad_token_id` to `eos_token_id`:128009 for open-end generation.\n"
          ]
        },
        {
          "name": "stdout",
          "output_type": "stream",
          "text": [
            "Ep 5 (Iter 000170): Train loss 7.891, Val loss 6.805\n",
            " कीीाँीुट क लटीीट टी लती\n"
          ]
        },
        {
          "name": "stderr",
          "output_type": "stream",
          "text": [
            "The attention mask and the pad token id were not set. As a consequence, you may observe unexpected behavior. Please pass your input's `attention_mask` to obtain reliable results.\n",
            "Setting `pad_token_id` to `eos_token_id`:128009 for open-end generation.\n"
          ]
        },
        {
          "name": "stdout",
          "output_type": "stream",
          "text": [
            "Ep 5 (Iter 000175): Train loss 6.910, Val loss 6.504\n",
            " मी क ह कीक टचीी ह भी\n"
          ]
        },
        {
          "name": "stderr",
          "output_type": "stream",
          "text": [
            "The attention mask and the pad token id were not set. As a consequence, you may observe unexpected behavior. Please pass your input's `attention_mask` to obtain reliable results.\n",
            "Setting `pad_token_id` to `eos_token_id`:128009 for open-end generation.\n"
          ]
        },
        {
          "name": "stdout",
          "output_type": "stream",
          "text": [
            "Ep 5 (Iter 000180): Train loss 7.336, Val loss 6.238\n",
            " ह क क्स\n"
          ]
        },
        {
          "name": "stderr",
          "output_type": "stream",
          "text": [
            "The attention mask and the pad token id were not set. As a consequence, you may observe unexpected behavior. Please pass your input's `attention_mask` to obtain reliable results.\n",
            "Setting `pad_token_id` to `eos_token_id`:128009 for open-end generation.\n"
          ]
        },
        {
          "name": "stdout",
          "output_type": "stream",
          "text": [
            "Ep 5 (Iter 000185): Train loss 7.145, Val loss 6.000\n",
            " क टंबी ह हीें वीम एक क मी कीि\n"
          ]
        },
        {
          "name": "stderr",
          "output_type": "stream",
          "text": [
            "The attention mask and the pad token id were not set. As a consequence, you may observe unexpected behavior. Please pass your input's `attention_mask` to obtain reliable results.\n",
            "Setting `pad_token_id` to `eos_token_id`:128009 for open-end generation.\n"
          ]
        },
        {
          "name": "stdout",
          "output_type": "stream",
          "text": [
            "Ep 5 (Iter 000190): Train loss 6.566, Val loss 5.793\n",
            "\n"
          ]
        },
        {
          "name": "stderr",
          "output_type": "stream",
          "text": [
            "The attention mask and the pad token id were not set. As a consequence, you may observe unexpected behavior. Please pass your input's `attention_mask` to obtain reliable results.\n",
            "Setting `pad_token_id` to `eos_token_id`:128009 for open-end generation.\n"
          ]
        },
        {
          "name": "stdout",
          "output_type": "stream",
          "text": [
            "Ep 5 (Iter 000195): Train loss 6.168, Val loss 5.605\n",
            "\n"
          ]
        },
        {
          "name": "stderr",
          "output_type": "stream",
          "text": [
            "The attention mask and the pad token id were not set. As a consequence, you may observe unexpected behavior. Please pass your input's `attention_mask` to obtain reliable results.\n",
            "Setting `pad_token_id` to `eos_token_id`:128009 for open-end generation.\n"
          ]
        },
        {
          "name": "stdout",
          "output_type": "stream",
          "text": [
            "Ep 5 (Iter 000200): Train loss 6.688, Val loss 5.438\n",
            " ऱ  \n"
          ]
        },
        {
          "name": "stderr",
          "output_type": "stream",
          "text": [
            "The attention mask and the pad token id were not set. As a consequence, you may observe unexpected behavior. Please pass your input's `attention_mask` to obtain reliable results.\n",
            "Setting `pad_token_id` to `eos_token_id`:128009 for open-end generation.\n"
          ]
        },
        {
          "name": "stdout",
          "output_type": "stream",
          "text": [
            "Ep 5 (Iter 000205): Train loss 5.953, Val loss 5.293\n",
            "ांीassistant ल\n"
          ]
        },
        {
          "name": "stderr",
          "output_type": "stream",
          "text": [
            "The attention mask and the pad token id were not set. As a consequence, you may observe unexpected behavior. Please pass your input's `attention_mask` to obtain reliable results.\n",
            "Setting `pad_token_id` to `eos_token_id`:128009 for open-end generation.\n"
          ]
        },
        {
          "name": "stdout",
          "output_type": "stream",
          "text": [
            "Ep 6 (Iter 000210): Train loss 5.727, Val loss 5.168\n",
            " क सफ   क\n"
          ]
        },
        {
          "name": "stderr",
          "output_type": "stream",
          "text": [
            "The attention mask and the pad token id were not set. As a consequence, you may observe unexpected behavior. Please pass your input's `attention_mask` to obtain reliable results.\n",
            "Setting `pad_token_id` to `eos_token_id`:128009 for open-end generation.\n"
          ]
        },
        {
          "name": "stdout",
          "output_type": "stream",
          "text": [
            "Ep 6 (Iter 000215): Train loss 6.473, Val loss 5.059\n",
            "\n"
          ]
        },
        {
          "name": "stderr",
          "output_type": "stream",
          "text": [
            "The attention mask and the pad token id were not set. As a consequence, you may observe unexpected behavior. Please pass your input's `attention_mask` to obtain reliable results.\n",
            "Setting `pad_token_id` to `eos_token_id`:128009 for open-end generation.\n"
          ]
        },
        {
          "name": "stdout",
          "output_type": "stream",
          "text": [
            "Ep 6 (Iter 000220): Train loss 6.141, Val loss 4.965\n",
            "assistant कारतक\n"
          ]
        },
        {
          "name": "stderr",
          "output_type": "stream",
          "text": [
            "The attention mask and the pad token id were not set. As a consequence, you may observe unexpected behavior. Please pass your input's `attention_mask` to obtain reliable results.\n",
            "Setting `pad_token_id` to `eos_token_id`:128009 for open-end generation.\n"
          ]
        },
        {
          "name": "stdout",
          "output_type": "stream",
          "text": [
            "Ep 6 (Iter 000225): Train loss 5.590, Val loss 4.871\n",
            "ाल  िीी क\n"
          ]
        },
        {
          "name": "stderr",
          "output_type": "stream",
          "text": [
            "The attention mask and the pad token id were not set. As a consequence, you may observe unexpected behavior. Please pass your input's `attention_mask` to obtain reliable results.\n",
            "Setting `pad_token_id` to `eos_token_id`:128009 for open-end generation.\n"
          ]
        },
        {
          "name": "stdout",
          "output_type": "stream",
          "text": [
            "Ep 6 (Iter 000230): Train loss 6.785, Val loss 4.785\n",
            " ल क  assistant\n"
          ]
        },
        {
          "name": "stderr",
          "output_type": "stream",
          "text": [
            "The attention mask and the pad token id were not set. As a consequence, you may observe unexpected behavior. Please pass your input's `attention_mask` to obtain reliable results.\n",
            "Setting `pad_token_id` to `eos_token_id`:128009 for open-end generation.\n"
          ]
        },
        {
          "name": "stdout",
          "output_type": "stream",
          "text": [
            "Ep 6 (Iter 000235): Train loss 5.223, Val loss 4.707\n",
            "ी  assistantारत   कassistantी      ेद़ी  \n"
          ]
        },
        {
          "name": "stderr",
          "output_type": "stream",
          "text": [
            "The attention mask and the pad token id were not set. As a consequence, you may observe unexpected behavior. Please pass your input's `attention_mask` to obtain reliable results.\n",
            "Setting `pad_token_id` to `eos_token_id`:128009 for open-end generation.\n"
          ]
        },
        {
          "name": "stdout",
          "output_type": "stream",
          "text": [
            "Ep 6 (Iter 000240): Train loss 4.832, Val loss 4.645\n",
            " कassistant एकाल    ें  ्रक ल एक\n"
          ]
        },
        {
          "name": "stderr",
          "output_type": "stream",
          "text": [
            "The attention mask and the pad token id were not set. As a consequence, you may observe unexpected behavior. Please pass your input's `attention_mask` to obtain reliable results.\n",
            "Setting `pad_token_id` to `eos_token_id`:128009 for open-end generation.\n"
          ]
        },
        {
          "name": "stdout",
          "output_type": "stream",
          "text": [
            "Ep 6 (Iter 000245): Train loss 6.059, Val loss 4.594\n",
            "assistant  assistantassistantassistant     कassistantassistantें   क  ें ह व  assistant\n"
          ]
        },
        {
          "name": "stderr",
          "output_type": "stream",
          "text": [
            "The attention mask and the pad token id were not set. As a consequence, you may observe unexpected behavior. Please pass your input's `attention_mask` to obtain reliable results.\n",
            "Setting `pad_token_id` to `eos_token_id`:128009 for open-end generation.\n"
          ]
        },
        {
          "name": "stdout",
          "output_type": "stream",
          "text": [
            "Ep 6 (Iter 000250): Train loss 5.629, Val loss 4.555\n",
            "ें\n"
          ]
        },
        {
          "name": "stderr",
          "output_type": "stream",
          "text": [
            "The attention mask and the pad token id were not set. As a consequence, you may observe unexpected behavior. Please pass your input's `attention_mask` to obtain reliable results.\n",
            "Setting `pad_token_id` to `eos_token_id`:128009 for open-end generation.\n"
          ]
        },
        {
          "name": "stdout",
          "output_type": "stream",
          "text": [
            "Ep 7 (Iter 000255): Train loss 5.312, Val loss 4.516\n",
            "ालेद केंीे एकassistant्र\n"
          ]
        },
        {
          "name": "stderr",
          "output_type": "stream",
          "text": [
            "The attention mask and the pad token id were not set. As a consequence, you may observe unexpected behavior. Please pass your input's `attention_mask` to obtain reliable results.\n",
            "Setting `pad_token_id` to `eos_token_id`:128009 for open-end generation.\n"
          ]
        },
        {
          "name": "stdout",
          "output_type": "stream",
          "text": [
            "Ep 7 (Iter 000260): Train loss 5.324, Val loss 4.465\n",
            " ह\n"
          ]
        },
        {
          "name": "stderr",
          "output_type": "stream",
          "text": [
            "The attention mask and the pad token id were not set. As a consequence, you may observe unexpected behavior. Please pass your input's `attention_mask` to obtain reliable results.\n",
            "Setting `pad_token_id` to `eos_token_id`:128009 for open-end generation.\n"
          ]
        },
        {
          "name": "stdout",
          "output_type": "stream",
          "text": [
            "Ep 7 (Iter 000265): Train loss 5.141, Val loss 4.422\n",
            " क स क  ें  assistantीassistant एक  ें\n"
          ]
        },
        {
          "name": "stderr",
          "output_type": "stream",
          "text": [
            "The attention mask and the pad token id were not set. As a consequence, you may observe unexpected behavior. Please pass your input's `attention_mask` to obtain reliable results.\n",
            "Setting `pad_token_id` to `eos_token_id`:128009 for open-end generation.\n"
          ]
        },
        {
          "name": "stdout",
          "output_type": "stream",
          "text": [
            "Ep 7 (Iter 000270): Train loss 4.703, Val loss 4.383\n",
            "\n"
          ]
        },
        {
          "name": "stderr",
          "output_type": "stream",
          "text": [
            "The attention mask and the pad token id were not set. As a consequence, you may observe unexpected behavior. Please pass your input's `attention_mask` to obtain reliable results.\n",
            "Setting `pad_token_id` to `eos_token_id`:128009 for open-end generation.\n"
          ]
        },
        {
          "name": "stdout",
          "output_type": "stream",
          "text": [
            "Ep 7 (Iter 000275): Train loss 5.406, Val loss 4.352\n",
            "  े परेालेassistant  े  assistant क ख   क कassistantड क म्र कील   म परीत परी\n"
          ]
        },
        {
          "name": "stderr",
          "output_type": "stream",
          "text": [
            "The attention mask and the pad token id were not set. As a consequence, you may observe unexpected behavior. Please pass your input's `attention_mask` to obtain reliable results.\n",
            "Setting `pad_token_id` to `eos_token_id`:128009 for open-end generation.\n"
          ]
        },
        {
          "name": "stdout",
          "output_type": "stream",
          "text": [
            "Ep 7 (Iter 000280): Train loss 4.906, Val loss 4.324\n",
            "ेे\n"
          ]
        },
        {
          "name": "stderr",
          "output_type": "stream",
          "text": [
            "The attention mask and the pad token id were not set. As a consequence, you may observe unexpected behavior. Please pass your input's `attention_mask` to obtain reliable results.\n",
            "Setting `pad_token_id` to `eos_token_id`:128009 for open-end generation.\n"
          ]
        },
        {
          "name": "stdout",
          "output_type": "stream",
          "text": [
            "Ep 7 (Iter 000285): Train loss 5.547, Val loss 4.305\n",
            "\n"
          ]
        },
        {
          "name": "stderr",
          "output_type": "stream",
          "text": [
            "The attention mask and the pad token id were not set. As a consequence, you may observe unexpected behavior. Please pass your input's `attention_mask` to obtain reliable results.\n",
            "Setting `pad_token_id` to `eos_token_id`:128009 for open-end generation.\n"
          ]
        },
        {
          "name": "stdout",
          "output_type": "stream",
          "text": [
            "Ep 7 (Iter 000290): Train loss 4.566, Val loss 4.293\n",
            "ी क के स\n"
          ]
        },
        {
          "name": "stderr",
          "output_type": "stream",
          "text": [
            "The attention mask and the pad token id were not set. As a consequence, you may observe unexpected behavior. Please pass your input's `attention_mask` to obtain reliable results.\n",
            "Setting `pad_token_id` to `eos_token_id`:128009 for open-end generation.\n"
          ]
        },
        {
          "name": "stdout",
          "output_type": "stream",
          "text": [
            "Ep 8 (Iter 000295): Train loss 4.430, Val loss 4.273\n",
            "assistant मीी   मीें  े\n"
          ]
        },
        {
          "name": "stderr",
          "output_type": "stream",
          "text": [
            "The attention mask and the pad token id were not set. As a consequence, you may observe unexpected behavior. Please pass your input's `attention_mask` to obtain reliable results.\n",
            "Setting `pad_token_id` to `eos_token_id`:128009 for open-end generation.\n"
          ]
        },
        {
          "name": "stdout",
          "output_type": "stream",
          "text": [
            "Ep 8 (Iter 000300): Train loss 4.621, Val loss 4.266\n",
            "़क कील हारassistant कडassistant  ी\n"
          ]
        },
        {
          "name": "stderr",
          "output_type": "stream",
          "text": [
            "The attention mask and the pad token id were not set. As a consequence, you may observe unexpected behavior. Please pass your input's `attention_mask` to obtain reliable results.\n",
            "Setting `pad_token_id` to `eos_token_id`:128009 for open-end generation.\n"
          ]
        },
        {
          "name": "stdout",
          "output_type": "stream",
          "text": [
            "Ep 8 (Iter 000305): Train loss 4.363, Val loss 4.246\n",
            "assistant\n"
          ]
        },
        {
          "name": "stderr",
          "output_type": "stream",
          "text": [
            "The attention mask and the pad token id were not set. As a consequence, you may observe unexpected behavior. Please pass your input's `attention_mask` to obtain reliable results.\n",
            "Setting `pad_token_id` to `eos_token_id`:128009 for open-end generation.\n"
          ]
        },
        {
          "name": "stdout",
          "output_type": "stream",
          "text": [
            "Ep 8 (Iter 000310): Train loss 4.637, Val loss 4.238\n",
            "parable क ह म\n"
          ]
        },
        {
          "name": "stderr",
          "output_type": "stream",
          "text": [
            "The attention mask and the pad token id were not set. As a consequence, you may observe unexpected behavior. Please pass your input's `attention_mask` to obtain reliable results.\n",
            "Setting `pad_token_id` to `eos_token_id`:128009 for open-end generation.\n"
          ]
        },
        {
          "name": "stdout",
          "output_type": "stream",
          "text": [
            "Ep 8 (Iter 000315): Train loss 4.402, Val loss 4.227\n",
            "\n"
          ]
        },
        {
          "name": "stderr",
          "output_type": "stream",
          "text": [
            "The attention mask and the pad token id were not set. As a consequence, you may observe unexpected behavior. Please pass your input's `attention_mask` to obtain reliable results.\n",
            "Setting `pad_token_id` to `eos_token_id`:128009 for open-end generation.\n"
          ]
        },
        {
          "name": "stdout",
          "output_type": "stream",
          "text": [
            "Ep 8 (Iter 000320): Train loss 4.516, Val loss 4.207\n",
            "assistant\n"
          ]
        },
        {
          "name": "stderr",
          "output_type": "stream",
          "text": [
            "The attention mask and the pad token id were not set. As a consequence, you may observe unexpected behavior. Please pass your input's `attention_mask` to obtain reliable results.\n",
            "Setting `pad_token_id` to `eos_token_id`:128009 for open-end generation.\n"
          ]
        },
        {
          "name": "stdout",
          "output_type": "stream",
          "text": [
            "Ep 8 (Iter 000325): Train loss 4.746, Val loss 4.199\n",
            " कassistant पराेparableassistant\n"
          ]
        },
        {
          "name": "stderr",
          "output_type": "stream",
          "text": [
            "The attention mask and the pad token id were not set. As a consequence, you may observe unexpected behavior. Please pass your input's `attention_mask` to obtain reliable results.\n",
            "Setting `pad_token_id` to `eos_token_id`:128009 for open-end generation.\n"
          ]
        },
        {
          "name": "stdout",
          "output_type": "stream",
          "text": [
            "Ep 8 (Iter 000330): Train loss 4.305, Val loss 4.199\n",
            " क  parable पर म\n"
          ]
        },
        {
          "name": "stderr",
          "output_type": "stream",
          "text": [
            "The attention mask and the pad token id were not set. As a consequence, you may observe unexpected behavior. Please pass your input's `attention_mask` to obtain reliable results.\n",
            "Setting `pad_token_id` to `eos_token_id`:128009 for open-end generation.\n"
          ]
        },
        {
          "name": "stdout",
          "output_type": "stream",
          "text": [
            "Ep 8 (Iter 000335): Train loss 4.387, Val loss 4.195\n",
            "    parableेी क\n"
          ]
        },
        {
          "name": "stderr",
          "output_type": "stream",
          "text": [
            "The attention mask and the pad token id were not set. As a consequence, you may observe unexpected behavior. Please pass your input's `attention_mask` to obtain reliable results.\n",
            "Setting `pad_token_id` to `eos_token_id`:128009 for open-end generation.\n"
          ]
        },
        {
          "name": "stdout",
          "output_type": "stream",
          "text": [
            "Ep 9 (Iter 000340): Train loss 4.117, Val loss 4.184\n",
            "ी\n"
          ]
        },
        {
          "name": "stderr",
          "output_type": "stream",
          "text": [
            "The attention mask and the pad token id were not set. As a consequence, you may observe unexpected behavior. Please pass your input's `attention_mask` to obtain reliable results.\n",
            "Setting `pad_token_id` to `eos_token_id`:128009 for open-end generation.\n"
          ]
        },
        {
          "name": "stdout",
          "output_type": "stream",
          "text": [
            "Ep 9 (Iter 000345): Train loss 4.156, Val loss 4.172\n",
            "assistant\n"
          ]
        },
        {
          "name": "stderr",
          "output_type": "stream",
          "text": [
            "The attention mask and the pad token id were not set. As a consequence, you may observe unexpected behavior. Please pass your input's `attention_mask` to obtain reliable results.\n",
            "Setting `pad_token_id` to `eos_token_id`:128009 for open-end generation.\n"
          ]
        },
        {
          "name": "stdout",
          "output_type": "stream",
          "text": [
            "Ep 9 (Iter 000350): Train loss 4.613, Val loss 4.172\n",
            "     क स\n"
          ]
        },
        {
          "name": "stderr",
          "output_type": "stream",
          "text": [
            "The attention mask and the pad token id were not set. As a consequence, you may observe unexpected behavior. Please pass your input's `attention_mask` to obtain reliable results.\n",
            "Setting `pad_token_id` to `eos_token_id`:128009 for open-end generation.\n"
          ]
        },
        {
          "name": "stdout",
          "output_type": "stream",
          "text": [
            "Ep 9 (Iter 000355): Train loss 4.105, Val loss 4.168\n",
            " क\n"
          ]
        },
        {
          "name": "stderr",
          "output_type": "stream",
          "text": [
            "The attention mask and the pad token id were not set. As a consequence, you may observe unexpected behavior. Please pass your input's `attention_mask` to obtain reliable results.\n",
            "Setting `pad_token_id` to `eos_token_id`:128009 for open-end generation.\n"
          ]
        },
        {
          "name": "stdout",
          "output_type": "stream",
          "text": [
            "Ep 9 (Iter 000360): Train loss 4.242, Val loss 4.168\n",
            "ार परी\n"
          ]
        },
        {
          "name": "stderr",
          "output_type": "stream",
          "text": [
            "The attention mask and the pad token id were not set. As a consequence, you may observe unexpected behavior. Please pass your input's `attention_mask` to obtain reliable results.\n",
            "Setting `pad_token_id` to `eos_token_id`:128009 for open-end generation.\n"
          ]
        },
        {
          "name": "stdout",
          "output_type": "stream",
          "text": [
            "Ep 9 (Iter 000365): Train loss 4.605, Val loss 4.172\n",
            "assistantी\n"
          ]
        },
        {
          "name": "stderr",
          "output_type": "stream",
          "text": [
            "The attention mask and the pad token id were not set. As a consequence, you may observe unexpected behavior. Please pass your input's `attention_mask` to obtain reliable results.\n",
            "Setting `pad_token_id` to `eos_token_id`:128009 for open-end generation.\n"
          ]
        },
        {
          "name": "stdout",
          "output_type": "stream",
          "text": [
            "Ep 9 (Iter 000370): Train loss 4.391, Val loss 4.168\n",
            "       नेी      assistant काेीैे क  ा के क कारparable\n"
          ]
        },
        {
          "name": "stderr",
          "output_type": "stream",
          "text": [
            "The attention mask and the pad token id were not set. As a consequence, you may observe unexpected behavior. Please pass your input's `attention_mask` to obtain reliable results.\n",
            "Setting `pad_token_id` to `eos_token_id`:128009 for open-end generation.\n"
          ]
        },
        {
          "name": "stdout",
          "output_type": "stream",
          "text": [
            "Ep 9 (Iter 000375): Train loss 4.129, Val loss 4.164\n",
            "assistant पाे\n"
          ]
        },
        {
          "name": "stderr",
          "output_type": "stream",
          "text": [
            "The attention mask and the pad token id were not set. As a consequence, you may observe unexpected behavior. Please pass your input's `attention_mask` to obtain reliable results.\n",
            "Setting `pad_token_id` to `eos_token_id`:128009 for open-end generation.\n"
          ]
        },
        {
          "name": "stdout",
          "output_type": "stream",
          "text": [
            "Ep 10 (Iter 000380): Train loss 4.344, Val loss 4.164\n",
            "assistant\n"
          ]
        },
        {
          "name": "stderr",
          "output_type": "stream",
          "text": [
            "The attention mask and the pad token id were not set. As a consequence, you may observe unexpected behavior. Please pass your input's `attention_mask` to obtain reliable results.\n",
            "Setting `pad_token_id` to `eos_token_id`:128009 for open-end generation.\n"
          ]
        },
        {
          "name": "stdout",
          "output_type": "stream",
          "text": [
            "Ep 10 (Iter 000385): Train loss 4.449, Val loss 4.168\n",
            " एक की कालेी कassistantाassistantेंparable नparable मparable\n"
          ]
        },
        {
          "name": "stderr",
          "output_type": "stream",
          "text": [
            "The attention mask and the pad token id were not set. As a consequence, you may observe unexpected behavior. Please pass your input's `attention_mask` to obtain reliable results.\n",
            "Setting `pad_token_id` to `eos_token_id`:128009 for open-end generation.\n"
          ]
        },
        {
          "name": "stdout",
          "output_type": "stream",
          "text": [
            "Ep 10 (Iter 000390): Train loss 4.945, Val loss 4.164\n",
            "assistant   परीलाी\n"
          ]
        },
        {
          "name": "stderr",
          "output_type": "stream",
          "text": [
            "The attention mask and the pad token id were not set. As a consequence, you may observe unexpected behavior. Please pass your input's `attention_mask` to obtain reliable results.\n",
            "Setting `pad_token_id` to `eos_token_id`:128009 for open-end generation.\n"
          ]
        },
        {
          "name": "stdout",
          "output_type": "stream",
          "text": [
            "Ep 10 (Iter 000395): Train loss 4.527, Val loss 4.160\n",
            "ाथ ख\n"
          ]
        },
        {
          "name": "stderr",
          "output_type": "stream",
          "text": [
            "The attention mask and the pad token id were not set. As a consequence, you may observe unexpected behavior. Please pass your input's `attention_mask` to obtain reliable results.\n",
            "Setting `pad_token_id` to `eos_token_id`:128009 for open-end generation.\n"
          ]
        },
        {
          "name": "stdout",
          "output_type": "stream",
          "text": [
            "Ep 10 (Iter 000400): Train loss 4.949, Val loss 4.156\n",
            "  assistant्सassistantassistant   नेी क्र\n"
          ]
        },
        {
          "name": "stderr",
          "output_type": "stream",
          "text": [
            "The attention mask and the pad token id were not set. As a consequence, you may observe unexpected behavior. Please pass your input's `attention_mask` to obtain reliable results.\n",
            "Setting `pad_token_id` to `eos_token_id`:128009 for open-end generation.\n"
          ]
        },
        {
          "name": "stdout",
          "output_type": "stream",
          "text": [
            "Ep 10 (Iter 000405): Train loss 4.527, Val loss 4.156\n",
            "\n"
          ]
        },
        {
          "name": "stderr",
          "output_type": "stream",
          "text": [
            "The attention mask and the pad token id were not set. As a consequence, you may observe unexpected behavior. Please pass your input's `attention_mask` to obtain reliable results.\n",
            "Setting `pad_token_id` to `eos_token_id`:128009 for open-end generation.\n"
          ]
        },
        {
          "name": "stdout",
          "output_type": "stream",
          "text": [
            "Ep 10 (Iter 000410): Train loss 4.691, Val loss 4.160\n",
            " कें  ैी\n"
          ]
        },
        {
          "name": "stderr",
          "output_type": "stream",
          "text": [
            "The attention mask and the pad token id were not set. As a consequence, you may observe unexpected behavior. Please pass your input's `attention_mask` to obtain reliable results.\n",
            "Setting `pad_token_id` to `eos_token_id`:128009 for open-end generation.\n"
          ]
        },
        {
          "name": "stdout",
          "output_type": "stream",
          "text": [
            "Ep 10 (Iter 000415): Train loss 4.500, Val loss 4.156\n",
            "assistantी कassistant एक ख कारparableी  parable   क क   ह  ेा ह     कैाले ब\n"
          ]
        },
        {
          "name": "stderr",
          "output_type": "stream",
          "text": [
            "The attention mask and the pad token id were not set. As a consequence, you may observe unexpected behavior. Please pass your input's `attention_mask` to obtain reliable results.\n",
            "Setting `pad_token_id` to `eos_token_id`:128009 for open-end generation.\n"
          ]
        },
        {
          "name": "stdout",
          "output_type": "stream",
          "text": [
            "Ep 11 (Iter 000420): Train loss 5.117, Val loss 4.145\n",
            "parable स क कassistant  \n"
          ]
        },
        {
          "name": "stderr",
          "output_type": "stream",
          "text": [
            "The attention mask and the pad token id were not set. As a consequence, you may observe unexpected behavior. Please pass your input's `attention_mask` to obtain reliable results.\n",
            "Setting `pad_token_id` to `eos_token_id`:128009 for open-end generation.\n"
          ]
        },
        {
          "name": "stdout",
          "output_type": "stream",
          "text": [
            "Ep 11 (Iter 000425): Train loss 4.203, Val loss 4.133\n",
            "\n"
          ]
        },
        {
          "name": "stderr",
          "output_type": "stream",
          "text": [
            "The attention mask and the pad token id were not set. As a consequence, you may observe unexpected behavior. Please pass your input's `attention_mask` to obtain reliable results.\n",
            "Setting `pad_token_id` to `eos_token_id`:128009 for open-end generation.\n"
          ]
        },
        {
          "name": "stdout",
          "output_type": "stream",
          "text": [
            "Ep 11 (Iter 000430): Train loss 4.434, Val loss 4.125\n",
            "ाल\n"
          ]
        },
        {
          "name": "stderr",
          "output_type": "stream",
          "text": [
            "The attention mask and the pad token id were not set. As a consequence, you may observe unexpected behavior. Please pass your input's `attention_mask` to obtain reliable results.\n",
            "Setting `pad_token_id` to `eos_token_id`:128009 for open-end generation.\n"
          ]
        },
        {
          "name": "stdout",
          "output_type": "stream",
          "text": [
            "Ep 11 (Iter 000435): Train loss 4.324, Val loss 4.125\n",
            "parable परे खparableassistantेारparableीassistant पालड प ह  ाथ न कारparable स   कassistantे\n"
          ]
        },
        {
          "name": "stderr",
          "output_type": "stream",
          "text": [
            "The attention mask and the pad token id were not set. As a consequence, you may observe unexpected behavior. Please pass your input's `attention_mask` to obtain reliable results.\n",
            "Setting `pad_token_id` to `eos_token_id`:128009 for open-end generation.\n"
          ]
        },
        {
          "name": "stdout",
          "output_type": "stream",
          "text": [
            "Ep 11 (Iter 000440): Train loss 4.820, Val loss 4.121\n",
            "assistant क   नassistant एक  assistantाल बा\n"
          ]
        },
        {
          "name": "stderr",
          "output_type": "stream",
          "text": [
            "The attention mask and the pad token id were not set. As a consequence, you may observe unexpected behavior. Please pass your input's `attention_mask` to obtain reliable results.\n",
            "Setting `pad_token_id` to `eos_token_id`:128009 for open-end generation.\n"
          ]
        },
        {
          "name": "stdout",
          "output_type": "stream",
          "text": [
            "Ep 11 (Iter 000445): Train loss 4.094, Val loss 4.125\n",
            "assistant  \n"
          ]
        },
        {
          "name": "stderr",
          "output_type": "stream",
          "text": [
            "The attention mask and the pad token id were not set. As a consequence, you may observe unexpected behavior. Please pass your input's `attention_mask` to obtain reliable results.\n",
            "Setting `pad_token_id` to `eos_token_id`:128009 for open-end generation.\n"
          ]
        },
        {
          "name": "stdout",
          "output_type": "stream",
          "text": [
            "Ep 11 (Iter 000450): Train loss 4.621, Val loss 4.125\n",
            "assistantassistant क  ी प क़काले\n"
          ]
        },
        {
          "name": "stderr",
          "output_type": "stream",
          "text": [
            "The attention mask and the pad token id were not set. As a consequence, you may observe unexpected behavior. Please pass your input's `attention_mask` to obtain reliable results.\n",
            "Setting `pad_token_id` to `eos_token_id`:128009 for open-end generation.\n"
          ]
        },
        {
          "name": "stdout",
          "output_type": "stream",
          "text": [
            "Ep 11 (Iter 000455): Train loss 4.293, Val loss 4.129\n",
            "ाीलparableassistantी वparableassistant्क क क सडा की  parable क  े्र हे    ालassistantparableे\n"
          ]
        },
        {
          "name": "stderr",
          "output_type": "stream",
          "text": [
            "The attention mask and the pad token id were not set. As a consequence, you may observe unexpected behavior. Please pass your input's `attention_mask` to obtain reliable results.\n",
            "Setting `pad_token_id` to `eos_token_id`:128009 for open-end generation.\n"
          ]
        },
        {
          "name": "stdout",
          "output_type": "stream",
          "text": [
            "Ep 11 (Iter 000460): Train loss 4.484, Val loss 4.129\n",
            "ील कparableassistant\n"
          ]
        },
        {
          "name": "stderr",
          "output_type": "stream",
          "text": [
            "The attention mask and the pad token id were not set. As a consequence, you may observe unexpected behavior. Please pass your input's `attention_mask` to obtain reliable results.\n",
            "Setting `pad_token_id` to `eos_token_id`:128009 for open-end generation.\n"
          ]
        },
        {
          "name": "stdout",
          "output_type": "stream",
          "text": [
            "Ep 12 (Iter 000465): Train loss 4.035, Val loss 4.129\n",
            "्कparableै नparable कparableें\n"
          ]
        },
        {
          "name": "stderr",
          "output_type": "stream",
          "text": [
            "The attention mask and the pad token id were not set. As a consequence, you may observe unexpected behavior. Please pass your input's `attention_mask` to obtain reliable results.\n",
            "Setting `pad_token_id` to `eos_token_id`:128009 for open-end generation.\n"
          ]
        },
        {
          "name": "stdout",
          "output_type": "stream",
          "text": [
            "Ep 12 (Iter 000470): Train loss 4.770, Val loss 4.129\n",
            "\n"
          ]
        },
        {
          "name": "stderr",
          "output_type": "stream",
          "text": [
            "The attention mask and the pad token id were not set. As a consequence, you may observe unexpected behavior. Please pass your input's `attention_mask` to obtain reliable results.\n",
            "Setting `pad_token_id` to `eos_token_id`:128009 for open-end generation.\n"
          ]
        },
        {
          "name": "stdout",
          "output_type": "stream",
          "text": [
            "Ep 12 (Iter 000475): Train loss 4.344, Val loss 4.121\n",
            " बीै एक\n"
          ]
        },
        {
          "name": "stderr",
          "output_type": "stream",
          "text": [
            "The attention mask and the pad token id were not set. As a consequence, you may observe unexpected behavior. Please pass your input's `attention_mask` to obtain reliable results.\n",
            "Setting `pad_token_id` to `eos_token_id`:128009 for open-end generation.\n"
          ]
        },
        {
          "name": "stdout",
          "output_type": "stream",
          "text": [
            "Ep 12 (Iter 000480): Train loss 4.297, Val loss 4.117\n",
            "  ेassistantparable नassistantीी हेassistantassistantparableparableार  ीassistant   क\n"
          ]
        },
        {
          "name": "stderr",
          "output_type": "stream",
          "text": [
            "The attention mask and the pad token id were not set. As a consequence, you may observe unexpected behavior. Please pass your input's `attention_mask` to obtain reliable results.\n",
            "Setting `pad_token_id` to `eos_token_id`:128009 for open-end generation.\n"
          ]
        },
        {
          "name": "stdout",
          "output_type": "stream",
          "text": [
            "Ep 12 (Iter 000485): Train loss 4.105, Val loss 4.121\n",
            "  \n"
          ]
        },
        {
          "name": "stderr",
          "output_type": "stream",
          "text": [
            "The attention mask and the pad token id were not set. As a consequence, you may observe unexpected behavior. Please pass your input's `attention_mask` to obtain reliable results.\n",
            "Setting `pad_token_id` to `eos_token_id`:128009 for open-end generation.\n"
          ]
        },
        {
          "name": "stdout",
          "output_type": "stream",
          "text": [
            "Ep 12 (Iter 000490): Train loss 4.301, Val loss 4.121\n",
            "  ें केदassistant क़कassistant\n"
          ]
        },
        {
          "name": "stderr",
          "output_type": "stream",
          "text": [
            "The attention mask and the pad token id were not set. As a consequence, you may observe unexpected behavior. Please pass your input's `attention_mask` to obtain reliable results.\n",
            "Setting `pad_token_id` to `eos_token_id`:128009 for open-end generation.\n"
          ]
        },
        {
          "name": "stdout",
          "output_type": "stream",
          "text": [
            "Ep 12 (Iter 000495): Train loss 4.312, Val loss 4.125\n",
            "़क  parableे\n"
          ]
        },
        {
          "name": "stderr",
          "output_type": "stream",
          "text": [
            "The attention mask and the pad token id were not set. As a consequence, you may observe unexpected behavior. Please pass your input's `attention_mask` to obtain reliable results.\n",
            "Setting `pad_token_id` to `eos_token_id`:128009 for open-end generation.\n"
          ]
        },
        {
          "name": "stdout",
          "output_type": "stream",
          "text": [
            "Ep 12 (Iter 000500): Train loss 3.938, Val loss 4.129\n",
            "assistant\n"
          ]
        },
        {
          "name": "stderr",
          "output_type": "stream",
          "text": [
            "The attention mask and the pad token id were not set. As a consequence, you may observe unexpected behavior. Please pass your input's `attention_mask` to obtain reliable results.\n",
            "Setting `pad_token_id` to `eos_token_id`:128009 for open-end generation.\n"
          ]
        },
        {
          "name": "stdout",
          "output_type": "stream",
          "text": [
            "Ep 13 (Iter 000505): Train loss 4.043, Val loss 4.129\n",
            "  ेparable्रार ख क म\n"
          ]
        },
        {
          "name": "stderr",
          "output_type": "stream",
          "text": [
            "The attention mask and the pad token id were not set. As a consequence, you may observe unexpected behavior. Please pass your input's `attention_mask` to obtain reliable results.\n",
            "Setting `pad_token_id` to `eos_token_id`:128009 for open-end generation.\n"
          ]
        },
        {
          "name": "stdout",
          "output_type": "stream",
          "text": [
            "Ep 13 (Iter 000510): Train loss 4.168, Val loss 4.133\n",
            "ाल़कparableassistant\n"
          ]
        },
        {
          "name": "stderr",
          "output_type": "stream",
          "text": [
            "The attention mask and the pad token id were not set. As a consequence, you may observe unexpected behavior. Please pass your input's `attention_mask` to obtain reliable results.\n",
            "Setting `pad_token_id` to `eos_token_id`:128009 for open-end generation.\n"
          ]
        },
        {
          "name": "stdout",
          "output_type": "stream",
          "text": [
            "Ep 13 (Iter 000515): Train loss 4.148, Val loss 4.137\n",
            "assistantा\n"
          ]
        },
        {
          "name": "stderr",
          "output_type": "stream",
          "text": [
            "The attention mask and the pad token id were not set. As a consequence, you may observe unexpected behavior. Please pass your input's `attention_mask` to obtain reliable results.\n",
            "Setting `pad_token_id` to `eos_token_id`:128009 for open-end generation.\n"
          ]
        },
        {
          "name": "stdout",
          "output_type": "stream",
          "text": [
            "Ep 13 (Iter 000520): Train loss 4.188, Val loss 4.137\n",
            "assistant  parable क प़क    े\n"
          ]
        },
        {
          "name": "stderr",
          "output_type": "stream",
          "text": [
            "The attention mask and the pad token id were not set. As a consequence, you may observe unexpected behavior. Please pass your input's `attention_mask` to obtain reliable results.\n",
            "Setting `pad_token_id` to `eos_token_id`:128009 for open-end generation.\n"
          ]
        },
        {
          "name": "stdout",
          "output_type": "stream",
          "text": [
            "Ep 13 (Iter 000525): Train loss 4.215, Val loss 4.141\n",
            " क प\n"
          ]
        },
        {
          "name": "stderr",
          "output_type": "stream",
          "text": [
            "The attention mask and the pad token id were not set. As a consequence, you may observe unexpected behavior. Please pass your input's `attention_mask` to obtain reliable results.\n",
            "Setting `pad_token_id` to `eos_token_id`:128009 for open-end generation.\n"
          ]
        },
        {
          "name": "stdout",
          "output_type": "stream",
          "text": [
            "Ep 13 (Iter 000530): Train loss 4.289, Val loss 4.137\n",
            "assistantparable प\n"
          ]
        },
        {
          "name": "stderr",
          "output_type": "stream",
          "text": [
            "The attention mask and the pad token id were not set. As a consequence, you may observe unexpected behavior. Please pass your input's `attention_mask` to obtain reliable results.\n",
            "Setting `pad_token_id` to `eos_token_id`:128009 for open-end generation.\n"
          ]
        },
        {
          "name": "stdout",
          "output_type": "stream",
          "text": [
            "Ep 13 (Iter 000535): Train loss 4.621, Val loss 4.137\n",
            " प में क कparable  parable क पर कassistant क्रार\n"
          ]
        },
        {
          "name": "stderr",
          "output_type": "stream",
          "text": [
            "The attention mask and the pad token id were not set. As a consequence, you may observe unexpected behavior. Please pass your input's `attention_mask` to obtain reliable results.\n",
            "Setting `pad_token_id` to `eos_token_id`:128009 for open-end generation.\n"
          ]
        },
        {
          "name": "stdout",
          "output_type": "stream",
          "text": [
            "Ep 13 (Iter 000540): Train loss 4.414, Val loss 4.133\n",
            "   क परेेाे केदाल्त\n"
          ]
        },
        {
          "name": "stderr",
          "output_type": "stream",
          "text": [
            "The attention mask and the pad token id were not set. As a consequence, you may observe unexpected behavior. Please pass your input's `attention_mask` to obtain reliable results.\n",
            "Setting `pad_token_id` to `eos_token_id`:128009 for open-end generation.\n"
          ]
        },
        {
          "name": "stdout",
          "output_type": "stream",
          "text": [
            "Ep 13 (Iter 000545): Train loss 4.121, Val loss 4.133\n",
            "  ीassistant क\n"
          ]
        },
        {
          "name": "stderr",
          "output_type": "stream",
          "text": [
            "The attention mask and the pad token id were not set. As a consequence, you may observe unexpected behavior. Please pass your input's `attention_mask` to obtain reliable results.\n",
            "Setting `pad_token_id` to `eos_token_id`:128009 for open-end generation.\n"
          ]
        },
        {
          "name": "stdout",
          "output_type": "stream",
          "text": [
            "Ep 14 (Iter 000550): Train loss 4.270, Val loss 4.129\n",
            "parableparableparable सassistantparableparableार म ह\n"
          ]
        },
        {
          "name": "stderr",
          "output_type": "stream",
          "text": [
            "The attention mask and the pad token id were not set. As a consequence, you may observe unexpected behavior. Please pass your input's `attention_mask` to obtain reliable results.\n",
            "Setting `pad_token_id` to `eos_token_id`:128009 for open-end generation.\n"
          ]
        },
        {
          "name": "stdout",
          "output_type": "stream",
          "text": [
            "Ep 14 (Iter 000555): Train loss 4.172, Val loss 4.129\n",
            "ालparableी सparable प माल बparableाार\n"
          ]
        },
        {
          "name": "stderr",
          "output_type": "stream",
          "text": [
            "The attention mask and the pad token id were not set. As a consequence, you may observe unexpected behavior. Please pass your input's `attention_mask` to obtain reliable results.\n",
            "Setting `pad_token_id` to `eos_token_id`:128009 for open-end generation.\n"
          ]
        },
        {
          "name": "stdout",
          "output_type": "stream",
          "text": [
            "Ep 14 (Iter 000560): Train loss 4.578, Val loss 4.129\n",
            "parable      assistantाल स\n"
          ]
        },
        {
          "name": "stderr",
          "output_type": "stream",
          "text": [
            "The attention mask and the pad token id were not set. As a consequence, you may observe unexpected behavior. Please pass your input's `attention_mask` to obtain reliable results.\n",
            "Setting `pad_token_id` to `eos_token_id`:128009 for open-end generation.\n"
          ]
        },
        {
          "name": "stdout",
          "output_type": "stream",
          "text": [
            "Ep 14 (Iter 000565): Train loss 4.699, Val loss 4.129\n",
            "ाassistantेassistant क  parable  ड\n"
          ]
        },
        {
          "name": "stderr",
          "output_type": "stream",
          "text": [
            "The attention mask and the pad token id were not set. As a consequence, you may observe unexpected behavior. Please pass your input's `attention_mask` to obtain reliable results.\n",
            "Setting `pad_token_id` to `eos_token_id`:128009 for open-end generation.\n"
          ]
        },
        {
          "name": "stdout",
          "output_type": "stream",
          "text": [
            "Ep 14 (Iter 000570): Train loss 4.137, Val loss 4.129\n",
            "parableी  \n"
          ]
        },
        {
          "name": "stderr",
          "output_type": "stream",
          "text": [
            "The attention mask and the pad token id were not set. As a consequence, you may observe unexpected behavior. Please pass your input's `attention_mask` to obtain reliable results.\n",
            "Setting `pad_token_id` to `eos_token_id`:128009 for open-end generation.\n"
          ]
        },
        {
          "name": "stdout",
          "output_type": "stream",
          "text": [
            "Ep 14 (Iter 000575): Train loss 4.113, Val loss 4.129\n",
            " नparableassistantपparableे्कparableेparableassistant पर    assistant्र ब हे कै प एक एक क मे\n"
          ]
        },
        {
          "name": "stderr",
          "output_type": "stream",
          "text": [
            "The attention mask and the pad token id were not set. As a consequence, you may observe unexpected behavior. Please pass your input's `attention_mask` to obtain reliable results.\n",
            "Setting `pad_token_id` to `eos_token_id`:128009 for open-end generation.\n"
          ]
        },
        {
          "name": "stdout",
          "output_type": "stream",
          "text": [
            "Ep 14 (Iter 000580): Train loss 4.523, Val loss 4.129\n",
            "parableassistant\n"
          ]
        },
        {
          "name": "stderr",
          "output_type": "stream",
          "text": [
            "The attention mask and the pad token id were not set. As a consequence, you may observe unexpected behavior. Please pass your input's `attention_mask` to obtain reliable results.\n",
            "Setting `pad_token_id` to `eos_token_id`:128009 for open-end generation.\n"
          ]
        },
        {
          "name": "stdout",
          "output_type": "stream",
          "text": [
            "Ep 14 (Iter 000585): Train loss 4.238, Val loss 4.129\n",
            "े सparableाराथ\n"
          ]
        },
        {
          "name": "stderr",
          "output_type": "stream",
          "text": [
            "The attention mask and the pad token id were not set. As a consequence, you may observe unexpected behavior. Please pass your input's `attention_mask` to obtain reliable results.\n",
            "Setting `pad_token_id` to `eos_token_id`:128009 for open-end generation.\n"
          ]
        },
        {
          "name": "stdout",
          "output_type": "stream",
          "text": [
            "Ep 15 (Iter 000590): Train loss 4.113, Val loss 4.129\n",
            "़कassistantassistantै पर\n"
          ]
        },
        {
          "name": "stderr",
          "output_type": "stream",
          "text": [
            "The attention mask and the pad token id were not set. As a consequence, you may observe unexpected behavior. Please pass your input's `attention_mask` to obtain reliable results.\n",
            "Setting `pad_token_id` to `eos_token_id`:128009 for open-end generation.\n"
          ]
        },
        {
          "name": "stdout",
          "output_type": "stream",
          "text": [
            "Ep 15 (Iter 000595): Train loss 4.293, Val loss 4.129\n",
            "ार म क\n"
          ]
        },
        {
          "name": "stderr",
          "output_type": "stream",
          "text": [
            "The attention mask and the pad token id were not set. As a consequence, you may observe unexpected behavior. Please pass your input's `attention_mask` to obtain reliable results.\n",
            "Setting `pad_token_id` to `eos_token_id`:128009 for open-end generation.\n"
          ]
        },
        {
          "name": "stdout",
          "output_type": "stream",
          "text": [
            "Ep 15 (Iter 000600): Train loss 4.223, Val loss 4.129\n",
            "\n"
          ]
        },
        {
          "name": "stderr",
          "output_type": "stream",
          "text": [
            "The attention mask and the pad token id were not set. As a consequence, you may observe unexpected behavior. Please pass your input's `attention_mask` to obtain reliable results.\n",
            "Setting `pad_token_id` to `eos_token_id`:128009 for open-end generation.\n"
          ]
        },
        {
          "name": "stdout",
          "output_type": "stream",
          "text": [
            "Ep 15 (Iter 000605): Train loss 4.242, Val loss 4.129\n",
            "parable  ी च\n"
          ]
        },
        {
          "name": "stderr",
          "output_type": "stream",
          "text": [
            "The attention mask and the pad token id were not set. As a consequence, you may observe unexpected behavior. Please pass your input's `attention_mask` to obtain reliable results.\n",
            "Setting `pad_token_id` to `eos_token_id`:128009 for open-end generation.\n"
          ]
        },
        {
          "name": "stdout",
          "output_type": "stream",
          "text": [
            "Ep 15 (Iter 000610): Train loss 4.504, Val loss 4.129\n",
            "\n"
          ]
        },
        {
          "name": "stderr",
          "output_type": "stream",
          "text": [
            "The attention mask and the pad token id were not set. As a consequence, you may observe unexpected behavior. Please pass your input's `attention_mask` to obtain reliable results.\n",
            "Setting `pad_token_id` to `eos_token_id`:128009 for open-end generation.\n"
          ]
        },
        {
          "name": "stdout",
          "output_type": "stream",
          "text": [
            "Ep 15 (Iter 000615): Train loss 4.367, Val loss 4.129\n",
            " ह  ड\n"
          ]
        },
        {
          "name": "stderr",
          "output_type": "stream",
          "text": [
            "The attention mask and the pad token id were not set. As a consequence, you may observe unexpected behavior. Please pass your input's `attention_mask` to obtain reliable results.\n",
            "Setting `pad_token_id` to `eos_token_id`:128009 for open-end generation.\n"
          ]
        },
        {
          "name": "stdout",
          "output_type": "stream",
          "text": [
            "Ep 15 (Iter 000620): Train loss 4.441, Val loss 4.129\n",
            "assistant्का़काथparable      parableाparable\n"
          ]
        },
        {
          "name": "stderr",
          "output_type": "stream",
          "text": [
            "The attention mask and the pad token id were not set. As a consequence, you may observe unexpected behavior. Please pass your input's `attention_mask` to obtain reliable results.\n",
            "Setting `pad_token_id` to `eos_token_id`:128009 for open-end generation.\n"
          ]
        },
        {
          "name": "stdout",
          "output_type": "stream",
          "text": [
            "Ep 15 (Iter 000625): Train loss 4.453, Val loss 4.129\n",
            "ीाड  ीड   परेद\n",
            "Training completed in 17.00 minutes.\n"
          ]
        }
      ],
      "source": [
        "import time\n",
        "model = model\n",
        "start_time = time.time()\n",
        "\n",
        "torch.manual_seed(123)\n",
        "#model.to(device)\n",
        "peak_lr = 5e-4\n",
        "optimizer = torch.optim.AdamW(model.parameters(), weight_decay=0.1)\n",
        "n_epochs = 15\n",
        "\n",
        "total_steps = len(train_loader) * n_epochs\n",
        "warmup_steps = int(0.2 * total_steps)\n",
        "print(warmup_steps)\n",
        "\n",
        "train_losses, val_losses, tokens_seen, lrs = train_model(\n",
        "model, train_loader, val_loader, optimizer, device, n_epochs=n_epochs,\n",
        "eval_freq=5, eval_iter=1, start_context=format_input(val_data.iloc[0]),\n",
        "tokenizer=tokenizer, warmup_steps=warmup_steps,\n",
        "initial_lr=1e-5, min_lr=1e-5\n",
        ")\n",
        "\n",
        "end_time = time.time()\n",
        "execution_time_minutes = (end_time - start_time) / 60\n",
        "print(f\"Training completed in {execution_time_minutes:.2f} minutes.\")"
      ]
    },
    {
      "cell_type": "code",
      "execution_count": null,
      "id": "b0594f16-e80f-4f66-8327-dde36bdd8cfb",
      "metadata": {
        "id": "b0594f16-e80f-4f66-8327-dde36bdd8cfb",
        "outputId": "38196e60-edcc-439d-c9aa-4bfce24e3202"
      },
      "outputs": [
        {
          "data": {
            "image/png": "[encoded data removed]",
            "text/plain": [
              "<Figure size 500x300 with 2 Axes>"
            ]
          },
          "metadata": {},
          "output_type": "display_data"
        }
      ],
      "source": [
        "epochs_tensor = torch.linspace(0, n_epochs, len(train_losses))\n",
        "plot_losses(epochs_tensor, tokens_seen, train_losses, val_losses)"
      ]
    },
    {
      "cell_type": "code",
      "execution_count": null,
      "id": "fb2f2a55-ca44-47a3-b7e8-30e4f317ad6e",
      "metadata": {
        "id": "fb2f2a55-ca44-47a3-b7e8-30e4f317ad6e",
        "outputId": "81802d83-717e-45c6-a75a-759f5dd8f7ec"
      },
      "outputs": [
        {
          "name": "stderr",
          "output_type": "stream",
          "text": [
            "The attention mask and the pad token id were not set. As a consequence, you may observe unexpected behavior. Please pass your input's `attention_mask` to obtain reliable results.\n",
            "Setting `pad_token_id` to `eos_token_id`:128009 for open-end generation.\n"
          ]
        },
        {
          "name": "stdout",
          "output_type": "stream",
          "text": [
            "assistantी हassistantassistantीेassistantassistantparableे क क\n",
            "\n",
            "\n",
            "\n",
            "assistantparable पparable\n",
            "\n",
            "\n"
          ]
        }
      ],
      "source": [
        "input_ids = tokenizer.apply_chat_template(\n",
        "    format_input(val_data.iloc[0]),\n",
        "    add_generation_prompt=True,\n",
        "    return_tensors=\"pt\"\n",
        ").to(model.device)\n",
        "\n",
        "terminators = [\n",
        "    tokenizer.eos_token_id,\n",
        "    tokenizer.convert_tokens_to_ids(\"<|eot_id|>\")\n",
        "]\n",
        "\n",
        "outputs = model.generate(\n",
        "    input_ids,\n",
        "    max_new_tokens=256,\n",
        "    eos_token_id=terminators,\n",
        "    do_sample=True,\n",
        "    temperature=0.6,\n",
        "    top_p=0.9,\n",
        ")\n",
        "response = outputs[0][input_ids.shape[-1]:]\n",
        "print(tokenizer.decode(response, skip_special_tokens=True))"
      ]
    },
    {
      "cell_type": "code",
      "execution_count": null,
      "id": "e4d4c5e5-2689-4d2d-95fc-791ed75f38e4",
      "metadata": {
        "id": "e4d4c5e5-2689-4d2d-95fc-791ed75f38e4"
      },
      "outputs": [],
      "source": []
    }
  ],
  "metadata": {
    "kernelspec": {
      "display_name": "Python 3 (ipykernel)",
      "language": "python",
      "name": "python3"
    },
    "language_info": {
      "codemirror_mode": {
        "name": "ipython",
        "version": 3
      },
      "file_extension": ".py",
      "mimetype": "text/x-python",
      "name": "python",
      "nbconvert_exporter": "python",
      "pygments_lexer": "ipython3",
      "version": "3.11.11"
    },
    "colab": {
      "provenance": [],
      "include_colab_link": true
    }
  },
  "nbformat": 4,
  "nbformat_minor": 5
}