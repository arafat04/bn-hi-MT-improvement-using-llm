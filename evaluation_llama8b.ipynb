{
  "cells": [
    {
      "cell_type": "markdown",
      "metadata": {
        "id": "view-in-github",
        "colab_type": "text"
      },
      "source": [
        "<a href=\"https://colab.research.google.com/github/arafat04/bn-hi-MT-improvement-using-llm/blob/main/evaluation_llama8b.ipynb\" target=\"_parent\"><img src=\"https://colab.research.google.com/assets/colab-badge.svg\" alt=\"Open In Colab\"/></a>"
      ]
    },
    {
      "cell_type": "code",
      "execution_count": null,
      "id": "39e45fea-c423-4975-919a-7649d6f1dc37",
      "metadata": {
        "id": "39e45fea-c423-4975-919a-7649d6f1dc37"
      },
      "outputs": [],
      "source": [
        "\n",
        "import sacrebleu.utils\n",
        "from sacrebleu.metrics.bleu import BLEU\n",
        "from tqdm import tqdm\n",
        "import transformers\n",
        "import torch"
      ]
    },
    {
      "cell_type": "code",
      "execution_count": null,
      "id": "dc69c63e-3d06-4d62-ab85-ed98418e42f0",
      "metadata": {
        "id": "dc69c63e-3d06-4d62-ab85-ed98418e42f0",
        "outputId": "ed203150-ffd6-483e-f3b1-bbe839b515fc"
      },
      "outputs": [
        {
          "name": "stdout",
          "output_type": "stream",
          "text": [
            "Sun Feb 16 22:08:10 2025       \n",
            "+-----------------------------------------------------------------------------------------+\n",
            "| NVIDIA-SMI 560.35.03              Driver Version: 560.35.03      CUDA Version: 12.6     |\n",
            "|-----------------------------------------+------------------------+----------------------+\n",
            "| GPU  Name                 Persistence-M | Bus-Id          Disp.A | Volatile Uncorr. ECC |\n",
            "| Fan  Temp   Perf          Pwr:Usage/Cap |           Memory-Usage | GPU-Util  Compute M. |\n",
            "|                                         |                        |               MIG M. |\n",
            "|=========================================+========================+======================|\n",
            "|   0  NVIDIA A40                     On  |   00000000:81:00.0 Off |                    0 |\n",
            "|  0%   38C    P8             22W /  300W |       1MiB /  46068MiB |      0%      Default |\n",
            "|                                         |                        |                  N/A |\n",
            "+-----------------------------------------+------------------------+----------------------+\n",
            "                                                                                         \n",
            "+-----------------------------------------------------------------------------------------+\n",
            "| Processes:                                                                              |\n",
            "|  GPU   GI   CI        PID   Type   Process name                              GPU Memory |\n",
            "|        ID   ID                                                               Usage      |\n",
            "|=========================================================================================|\n",
            "|  No running processes found                                                             |\n",
            "+-----------------------------------------------------------------------------------------+\n"
          ]
        }
      ],
      "source": [
        "!nvidia-smi"
      ]
    },
    {
      "cell_type": "code",
      "execution_count": null,
      "id": "9ff06a7b-ef3b-45a4-b655-7a3cb9b02156",
      "metadata": {
        "id": "9ff06a7b-ef3b-45a4-b655-7a3cb9b02156"
      },
      "outputs": [],
      "source": [
        "from transformers import AutoTokenizer, AutoModelForCausalLM, BitsAndBytesConfig\n",
        "import torch\n",
        "from sacrebleu import corpus_bleu\n",
        "from huggingface_hub import login"
      ]
    },
    {
      "cell_type": "code",
      "execution_count": null,
      "id": "d442f2dc-049b-4127-b951-011a5f6334f1",
      "metadata": {
        "id": "d442f2dc-049b-4127-b951-011a5f6334f1"
      },
      "outputs": [],
      "source": [
        "# load the Llama-3.1-8B-Instruct tokenizer\n",
        "model_id = \"meta-llama/Meta-Llama-3.1-8B-Instruct\"\n",
        "#model_id = \"meta-llama/Llama-3.2-1B-Instruct\"\n",
        "token = \"\"  # Replace with your token\n",
        "\n",
        "# Step 1: Authenticate explicitly\n",
        "from huggingface_hub import login\n",
        "login(token=token)\n",
        "\n",
        "# Step 2: Load with updated settings\n",
        "tokenizer = AutoTokenizer.from_pretrained(model_id, token=token)"
      ]
    },
    {
      "cell_type": "code",
      "execution_count": null,
      "id": "70debba1-e521-41cf-a3f1-4973d3c50f37",
      "metadata": {
        "id": "70debba1-e521-41cf-a3f1-4973d3c50f37",
        "outputId": "6f6a95f3-58f7-47d0-cf91-3aa3d7babdff",
        "colab": {
          "referenced_widgets": [
            "5ecab40361a04e4084123e0629a39f56"
          ]
        }
      },
      "outputs": [
        {
          "name": "stderr",
          "output_type": "stream",
          "text": [
            "2025-02-16 22:12:06.868910: E external/local_xla/xla/stream_executor/cuda/cuda_fft.cc:477] Unable to register cuFFT factory: Attempting to register factory for plugin cuFFT when one has already been registered\n",
            "WARNING: All log messages before absl::InitializeLog() is called are written to STDERR\n",
            "E0000 00:00:1739740326.972634  183201 cuda_dnn.cc:8310] Unable to register cuDNN factory: Attempting to register factory for plugin cuDNN when one has already been registered\n",
            "E0000 00:00:1739740327.028405  183201 cuda_blas.cc:1418] Unable to register cuBLAS factory: Attempting to register factory for plugin cuBLAS when one has already been registered\n",
            "2025-02-16 22:12:07.598310: I tensorflow/core/platform/cpu_feature_guard.cc:210] This TensorFlow binary is optimized to use available CPU instructions in performance-critical operations.\n",
            "To enable the following instructions: AVX2 FMA, in other operations, rebuild TensorFlow with the appropriate compiler flags.\n",
            "The `load_in_4bit` and `load_in_8bit` arguments are deprecated and will be removed in the future versions. Please, pass a `BitsAndBytesConfig` object in `quantization_config` argument instead.\n"
          ]
        },
        {
          "data": {
            "application/vnd.jupyter.widget-view+json": {
              "model_id": "5ecab40361a04e4084123e0629a39f56",
              "version_major": 2,
              "version_minor": 0
            },
            "text/plain": [
              "Loading checkpoint shards:   0%|          | 0/4 [00:00<?, ?it/s]"
            ]
          },
          "metadata": {},
          "output_type": "display_data"
        }
      ],
      "source": [
        "# Load the model in FP16\n",
        "model = AutoModelForCausalLM.from_pretrained(\n",
        "    model_id,\n",
        "    device_map=\"auto\",\n",
        "    torch_dtype=torch.float16,  # Use FP16\n",
        "    token=token,\n",
        "    load_in_8bit=True,  # Optional: Use 8-bit quantization\n",
        ")"
      ]
    },
    {
      "cell_type": "markdown",
      "id": "b2bd4550-d003-45a3-bbc1-e5ee49c87384",
      "metadata": {
        "id": "b2bd4550-d003-45a3-bbc1-e5ee49c87384"
      },
      "source": [
        "### Define the Few-Shot Prompting Function\n"
      ]
    },
    {
      "cell_type": "code",
      "execution_count": null,
      "id": "137a9635-f135-4578-9140-2b3ca8e9de20",
      "metadata": {
        "id": "137a9635-f135-4578-9140-2b3ca8e9de20"
      },
      "outputs": [],
      "source": [
        "def format_input(bengali_text):\n",
        "    \"\"\"\n",
        "    Formats the input for few-shot prompting.\n",
        "    :param bengali_text: The Bengali text to translate.\n",
        "    :return: A list of messages for the chat template.\n",
        "    \"\"\"\n",
        "    messages = [\n",
        "        {\"role\": \"system\", \"content\": \"You are an expert on translating from Bengali to Hindi.\"},\n",
        "        {\"role\": \"user\", \"content\": \"Translate the following Bengali text to Hindi: খবরটা শুনে খুব খারাপ লাগলো।\"},\n",
        "        {\"role\": \"assistant\", \"content\": \"खबर सुनकर बहुत दुख हुआ.\"},\n",
        "        {\"role\": \"user\", \"content\": \"Translate the following Bengali text to Hindi: প্রশিক্ষণ অ্যালগরিদম, পরামিতি, ন্যায্যতা সীমাবদ্বতা বা অন্যান্য প্রয়োগ পদ্ধতি এবং বৈশিষ্ট্য সম্পর্কে তথ্য।\"},\n",
        "        {\"role\": \"assistant\", \"content\": \"प्रशिक्षण अल्गोरिदम, पैरामीटर्स, न्यायसंगतता सीमाएँ या अन्य अनुप्रयोग विधियों और विशेषताओं के बारे में जानकारी।\"},\n",
        "        {\"role\": \"user\", \"content\": f\"Translate the following Bengali text to Hindi: {bengali_text}\"}\n",
        "    ]\n",
        "    return messages"
      ]
    },
    {
      "cell_type": "code",
      "execution_count": null,
      "id": "94166345-b179-4920-a9c8-985ac9ad7f7d",
      "metadata": {
        "id": "94166345-b179-4920-a9c8-985ac9ad7f7d",
        "outputId": "94b3af8b-241f-4723-f773-7e4544f0601f"
      },
      "outputs": [
        {
          "name": "stdout",
          "output_type": "stream",
          "text": [
            "Sun Feb 16 22:15:43 2025       \n",
            "+-----------------------------------------------------------------------------------------+\n",
            "| NVIDIA-SMI 560.35.03              Driver Version: 560.35.03      CUDA Version: 12.6     |\n",
            "|-----------------------------------------+------------------------+----------------------+\n",
            "| GPU  Name                 Persistence-M | Bus-Id          Disp.A | Volatile Uncorr. ECC |\n",
            "| Fan  Temp   Perf          Pwr:Usage/Cap |           Memory-Usage | GPU-Util  Compute M. |\n",
            "|                                         |                        |               MIG M. |\n",
            "|=========================================+========================+======================|\n",
            "|   0  NVIDIA A40                     On  |   00000000:81:00.0 Off |                    0 |\n",
            "|  0%   45C    P0             81W /  300W |    8989MiB /  46068MiB |      0%      Default |\n",
            "|                                         |                        |                  N/A |\n",
            "+-----------------------------------------+------------------------+----------------------+\n",
            "                                                                                         \n",
            "+-----------------------------------------------------------------------------------------+\n",
            "| Processes:                                                                              |\n",
            "|  GPU   GI   CI        PID   Type   Process name                              GPU Memory |\n",
            "|        ID   ID                                                               Usage      |\n",
            "|=========================================================================================|\n",
            "|    0   N/A  N/A    183201      C   .../home/rahmang/envs/nnenv/bin/python       8980MiB |\n",
            "+-----------------------------------------------------------------------------------------+\n"
          ]
        }
      ],
      "source": [
        "!nvidia-smi"
      ]
    },
    {
      "cell_type": "code",
      "execution_count": null,
      "id": "530af492-61a3-4a89-81ff-3945b89a2e06",
      "metadata": {
        "id": "530af492-61a3-4a89-81ff-3945b89a2e06",
        "outputId": "b1f74289-42b1-49ea-f0b1-a370a761ca57"
      },
      "outputs": [
        {
          "name": "stdout",
          "output_type": "stream",
          "text": [
            "Data type of source_file: <class 'str'>\n"
          ]
        }
      ],
      "source": [
        "import sacrebleu\n",
        "\n",
        "source_file = sacrebleu.utils.get_source_file(\"wmt21\", \"bn-hi\")\n",
        "print(f\"Data type of source_file: {type(source_file)}\")"
      ]
    },
    {
      "cell_type": "code",
      "execution_count": null,
      "id": "be2d42ee-0447-480a-b489-140c030543ad",
      "metadata": {
        "id": "be2d42ee-0447-480a-b489-140c030543ad",
        "outputId": "d1d4e3cc-2b82-4e50-8e50-ec3d0a68b2d7"
      },
      "outputs": [
        {
          "name": "stdout",
          "output_type": "stream",
          "text": [
            "Source file path: /storage/brno2/home/rahmang/.sacrebleu/wmt21/wmt21.bn-hi.src\n"
          ]
        }
      ],
      "source": [
        "print(f\"Source file path: {source_file}\")"
      ]
    },
    {
      "cell_type": "markdown",
      "id": "cc98bfe6-f0ee-4cb8-830d-ef015105e68c",
      "metadata": {
        "id": "cc98bfe6-f0ee-4cb8-830d-ef015105e68c"
      },
      "source": [
        "### Load the WMT21 Dataset"
      ]
    },
    {
      "cell_type": "code",
      "execution_count": null,
      "id": "4a17ca28-feaf-400c-a945-24b59f9c50c0",
      "metadata": {
        "id": "4a17ca28-feaf-400c-a945-24b59f9c50c0",
        "outputId": "ffd3b559-c924-43f3-fd5a-087e8fbb638e"
      },
      "outputs": [
        {
          "name": "stdout",
          "output_type": "stream",
          "text": [
            "First 5 lines of the source file:\n",
            "ইকুয়েডরীয় গ্যালোপেগোস দ্বীপপুঞ্জের এক নতুন প্রজাতির পাখির গঠন নিয়ে জার্নাল সায়েন্স রিপোর্টে বৃহস্পতিবার একটি গবেষণাপত্র প্রকাশিত হয়েছে।\n",
            "মার্কিন যুক্তরাষ্ট্রের প্রিন্সটন বিশ্ববিদ্যালয় এবং সুইডেনের ইউপসালা বিশ্ববিদ্যালয়ের গবেষকরা জানিয়েছেন যে নতুন প্রজাতিটি শুধুমাত্র দুটি প্রজন্মের মধ্যে বিবর্তিত হয়েছে, যদিও ডারউইন ফিঞ্চ, জেসোপিজা ফোর্টস এবং ইমিগ্র্যান্ট ক্যাকটাসের ফিঞ্চ, জিওপিজা কনিরোস্ট্রিস মধ্যে প্রজননের কারণে এই প্রক্রিয়াটি আরও বেশি সময় নেয় বলে মনে করা হয়।\n",
            "\"এই বিতর্কটি হারিকেন ক্যাটরিনার সময় ত্রাণ ও পুনর্নির্মাণের উপর ব্যয়কে কেন্দ্র করে বেশি ছড়িয়েছিল; যেটাকে কিছু অর্থ সংশ্লিষ্ট রক্ষণশীলরা হাস্যকরভাবে \"\"বুশের নিউ অরলিন্স চুক্তি\"\" বলে অবহিত করেছিল।\"\n",
            "পুনর্নির্মাণের চেষ্টা সম্পর্কে উদার সমালোচনা ওয়াশিংটন অভ্যন্তরীণদের পুনর্নির্মাণ চুক্তিগুলি অনুধাবনের দিকে লক্ষ্যস্থির করেছে।\n",
            "খেলাটি দুর্দান্ত আবহাওয়ার সাথে সকাল ১০:০০ টায় শুরু হয়েছিল এবং মধ্য সকালের দ্রুত পরিষ্কার হয়ে যাওয়া হালকা বৃষ্টিপাত ছাড়া, এটি সপ্তম রাগবির জন্য একটি উপযুক্ত দিন ছিল।\n"
          ]
        }
      ],
      "source": [
        "with open(source_file, \"r\", encoding=\"utf-8\") as fd:\n",
        "    sources = list(map(str.strip, fd.readlines()))\n",
        "\n",
        "# Print the first 5 lines of the source file\n",
        "print(\"First 5 lines of the source file:\")\n",
        "for line in sources[:5]:\n",
        "    print(line)"
      ]
    },
    {
      "cell_type": "code",
      "execution_count": null,
      "id": "4b98bf6b-b04c-4e1b-90a5-688d4f0d9e15",
      "metadata": {
        "id": "4b98bf6b-b04c-4e1b-90a5-688d4f0d9e15",
        "outputId": "c4883cc9-521e-4a85-fa28-8458b173b2a8"
      },
      "outputs": [
        {
          "name": "stdout",
          "output_type": "stream",
          "text": [
            "Data type of reference_files: <class 'list'>\n",
            "Reference files: ['/storage/brno2/home/rahmang/.sacrebleu/wmt21/wmt21.bn-hi.ref-A']\n",
            "First 5 lines of the first reference file:\n",
            "जर्नल साइंस में गुरूवार को प्रकाशित एक अध्ययन ने इक्वाडोरियन गैलापागोस आइलैंड पर एक नई पक्षी प्रजाति के निर्माण की सूचना दी.\n",
            "संयुक्त राज्य अमेरिका में प्रिंसटन विश्वविद्यालय और स्वीडन में उप्साला विश्वविद्यालय के शोधकर्ताओं ने बताया कि नई प्रजातियाँ सिर्फ दो पीढ़ियों में विकसित हुईं, हालाँकि एक स्थानिक डार्विन फिंच, जियोस्पाइज़ा फोर्टेस और अप्रवासी कैक्टस फिंच, जिओस्पिज़ा कोनिरोस्ट्रिस के बीच प्रजनन के कारण इस प्रक्रिया में काफी समय लगने की बात कही गई थी.\n",
            "तूफ़ान कैटरीना के मद्देनज़र राहत और पुनर्निर्माण पर चल रहे लंबे विवाद से बहस छिड़ गई थी; जिसमें कुछ राजकोषीय रूढ़िवादियों ने “बुश की न्यू ऑरलियन्स डील” का मज़ाक बनाया है.\n",
            "पुनर्निर्माण की कोशिश की स्पष्ट आलोचना वॉशिंगटन के कथित घनिष्ट लोगों को पुनर्निर्माण के ठेके दिए जाने पर केंद्रित रही है.\n",
            "खेल सुबह 10:00 बजे बहुत बढ़िया मौसम के साथ शुरू हुआ और सुबह-सुबह की रिमझिम फुहारें, जो जल्दी ही ख़त्म हो गई थीं, के अलावा यह 7वे रग्बी के लिए शानदार दिन था.\n"
          ]
        }
      ],
      "source": [
        "# Get the reference files\n",
        "reference_files = sacrebleu.utils.get_reference_files(\"wmt21\", \"bn-hi\")\n",
        "print(f\"Data type of reference_files: {type(reference_files)}\")\n",
        "print(f\"Reference files: {reference_files}\")\n",
        "\n",
        "# Read and print some values from the first reference file\n",
        "with open(reference_files[0], \"r\", encoding=\"utf-8\") as fd:\n",
        "    references = list(map(str.strip, fd.readlines()))\n",
        "\n",
        "print(\"First 5 lines of the first reference file:\")\n",
        "for line in references[:5]:\n",
        "    print(line)"
      ]
    },
    {
      "cell_type": "code",
      "execution_count": null,
      "id": "ef4a236d-34ad-4cb8-b716-297d5b5ef604",
      "metadata": {
        "id": "ef4a236d-34ad-4cb8-b716-297d5b5ef604"
      },
      "outputs": [],
      "source": [
        "import sacrebleu\n",
        "\n",
        "# Get the source and reference files\n",
        "source_file = sacrebleu.utils.get_source_file(\"wmt21\", \"bn-hi\")\n",
        "reference_files = sacrebleu.utils.get_reference_files(\"wmt21\", \"bn-hi\")\n",
        "\n",
        "# Load the source and reference texts\n",
        "with open(source_file, \"r\", encoding=\"utf-8\") as fd:\n",
        "    sources = [line.strip() for line in fd.readlines()]\n",
        "\n",
        "with open(reference_files[0], \"r\", encoding=\"utf-8\") as fd:\n",
        "    references = [[line.strip() for line in fd.readlines()]]  # Wrap in a list for sacrebleu"
      ]
    },
    {
      "cell_type": "code",
      "execution_count": null,
      "id": "7b6557b8-f95f-43ab-996c-a505884177b5",
      "metadata": {
        "id": "7b6557b8-f95f-43ab-996c-a505884177b5",
        "outputId": "bf622687-a8fc-4c85-c23f-d13d0d96713e"
      },
      "outputs": [
        {
          "data": {
            "text/plain": [
              "'ইকুয়েডরীয় গ্যালোপেগোস দ্বীপপুঞ্জের এক নতুন প্রজাতির পাখির গঠন নিয়ে জার্নাল সায়েন্স রিপোর্টে বৃহস্পতিবার একটি গবেষণাপত্র প্রকাশিত হয়েছে।'"
            ]
          },
          "execution_count": 20,
          "metadata": {},
          "output_type": "execute_result"
        }
      ],
      "source": [
        "sources[0]"
      ]
    },
    {
      "cell_type": "code",
      "execution_count": null,
      "id": "e98c3c7b-ebe8-49e4-9d97-b905e55d1322",
      "metadata": {
        "id": "e98c3c7b-ebe8-49e4-9d97-b905e55d1322",
        "outputId": "d7785e5b-46a4-4148-aeae-358158f3b291"
      },
      "outputs": [
        {
          "data": {
            "text/plain": [
              "'जर्नल साइंस में गुरूवार को प्रकाशित एक अध्ययन ने इक्वाडोरियन गैलापागोस आइलैंड पर एक नई पक्षी प्रजाति के निर्माण की सूचना दी.'"
            ]
          },
          "execution_count": 22,
          "metadata": {},
          "output_type": "execute_result"
        }
      ],
      "source": [
        "references[0][0]"
      ]
    },
    {
      "cell_type": "markdown",
      "id": "b73afb44-0161-4fad-b73d-c4ba9adc424e",
      "metadata": {
        "id": "b73afb44-0161-4fad-b73d-c4ba9adc424e"
      },
      "source": [
        "### Generate Translations Using the Model"
      ]
    },
    {
      "cell_type": "code",
      "execution_count": null,
      "id": "c0d97703-20c4-4fbe-a746-4e36f6857e15",
      "metadata": {
        "id": "c0d97703-20c4-4fbe-a746-4e36f6857e15",
        "outputId": "058f122d-83c7-4c40-8040-0a457e3f13a9"
      },
      "outputs": [
        {
          "name": "stdout",
          "output_type": "stream",
          "text": [
            "Source: ইকুয়েডরীয় গ্যালোপেগোস দ্বীপপুঞ্জের এক নতুন প্রজাতির পাখির গঠন নিয়ে জার্নাল সায়েন্স রিপোর্টে বৃহস্পতিবার একটি গবেষণাপত্র প্রকাশিত হয়েছে।\n",
            "Translation: इक्वेडोरियाई गैलापागोस द्वीपसमूह में एक नए प्रकार के पक्षी के बारे में जानकारी देने वाला एक शोध पत्र बृहस्पतिवार जर्नल सायंस रिपोर्ट में प्रकाशित हुआ है।\n",
            "\n",
            "Source: মার্কিন যুক্তরাষ্ট্রের প্রিন্সটন বিশ্ববিদ্যালয় এবং সুইডেনের ইউপসালা বিশ্ববিদ্যালয়ের গবেষকরা জানিয়েছেন যে নতুন প্রজাতিটি শুধুমাত্র দুটি প্রজন্মের মধ্যে বিবর্তিত হয়েছে, যদিও ডারউইন ফিঞ্চ, জেসোপিজা ফোর্টস এবং ইমিগ্র্যান্ট ক্যাকটাসের ফিঞ্চ, জিওপিজা কনিরোস্ট্রিস মধ্যে প্রজননের কারণে এই প্রক্রিয়াটি আরও বেশি সময় নেয় বলে মনে করা হয়।\n",
            "Translation: अमेरिका के प्रिंसटन विश्वविद्यालय और स्वीडन के यूप्साला विश्वविद्यालय के शोधकर्ताओं ने यह जानकारी दी है कि यह नई प्रजाति दो पीढ़ियों के भीतर विकसित हुई है, हालांकि डार्विन फिंच, जेसोपीजा फोर्ट्स और इमिग्रेंट कैक्टस के फिंच, जियोपीजा कोनीरोस्ट्रिस के बीच प्रजनन के कारण यह प्रक्रिया अधिक समय लेती है माना जाता है।\n",
            "\n",
            "Source: \"এই বিতর্কটি হারিকেন ক্যাটরিনার সময় ত্রাণ ও পুনর্নির্মাণের উপর ব্যয়কে কেন্দ্র করে বেশি ছড়িয়েছিল; যেটাকে কিছু অর্থ সংশ্লিষ্ট রক্ষণশীলরা হাস্যকরভাবে \"\"বুশের নিউ অরলিন্স চুক্তি\"\" বলে অবহিত করেছিল।\"\n",
            "Translation: \"यह विवाद कैटरीना तूफान के समय राहत और पुनर्निर्माण पर व्यय को केंद्रित करते हुए अधिक फैला हुआ था; जिसे कुछ रक्षावादी अर्थ-সম্পর्कवादी लोग \"बुश का न्यू ओरलिन्स डील\"  कहकर हंसाने की कोशिश करते थे।\"\n",
            "\n",
            "Source: পুনর্নির্মাণের চেষ্টা সম্পর্কে উদার সমালোচনা ওয়াশিংটন অভ্যন্তরীণদের পুনর্নির্মাণ চুক্তিগুলি অনুধাবনের দিকে লক্ষ্যস্থির করেছে।\n",
            "Translation: पुनर्निर्माण के प्रयास के बारे में उदार समीक्षा वाशिंगटन के अंदरूनी लोगों ने पुनर्निर्माण समझौतों को समझने की दिशा में लक्ष्य स्थिर किया है।\n",
            "\n",
            "Source: খেলাটি দুর্দান্ত আবহাওয়ার সাথে সকাল ১০:০০ টায় শুরু হয়েছিল এবং মধ্য সকালের দ্রুত পরিষ্কার হয়ে যাওয়া হালকা বৃষ্টিপাত ছাড়া, এটি সপ্তম রাগবির জন্য একটি উপযুক্ত দিন ছিল।\n",
            "Translation: खेल शानदार मौसम के साथ १०:०० बजे सुबह शुरू हुआ और मध्य सुबह में हुई तेजी से साफ़ होने वाली हल्की बारिश के बिना, यह सातवें रग्बी के लिए एक उपयुक्त दिन था।\n",
            "\n"
          ]
        }
      ],
      "source": [
        "def generate_translation(model, tokenizer, bengali_text):\n",
        "    \"\"\"\n",
        "    Generates a Hindi translation for the given Bengali text using the model.\n",
        "    :param model: The loaded model.\n",
        "    :param tokenizer: The loaded tokenizer.\n",
        "    :param bengali_text: The Bengali text to translate.\n",
        "    :return: The generated Hindi translation.\n",
        "    \"\"\"\n",
        "    # Format the input with few-shot examples\n",
        "    messages = format_input(bengali_text)\n",
        "\n",
        "    # Apply the chat template\n",
        "    formatted_input = tokenizer.apply_chat_template(\n",
        "        messages,\n",
        "        tokenize=False,\n",
        "        add_generation_prompt=True\n",
        "    )\n",
        "\n",
        "    # Tokenize the input\n",
        "    inputs = tokenizer(formatted_input, return_tensors=\"pt\").to(model.device)\n",
        "\n",
        "    # Generate the translation\n",
        "    with torch.no_grad():\n",
        "        outputs = model.generate(\n",
        "            inputs.input_ids,\n",
        "            max_new_tokens=512,\n",
        "            do_sample=True,\n",
        "            top_k=50,\n",
        "            top_p=0.95,\n",
        "            temperature=0.8,\n",
        "            pad_token_id=tokenizer.eos_token_id\n",
        "        )\n",
        "\n",
        "    # Decode the generated text\n",
        "    translation = tokenizer.decode(outputs[0], skip_special_tokens=True)\n",
        "\n",
        "    # Extract only the assistant's response\n",
        "    translation = translation.split(\"assistant\\n\")[-1].strip()\n",
        "    return translation\n",
        "\n",
        "# Generate translations for all source texts\n",
        "translations = []\n",
        "count = 0\n",
        "for source in sources:\n",
        "    translation = generate_translation(model, tokenizer, source)\n",
        "    translations.append(translation)\n",
        "    if count <5:\n",
        "        print(f\"Source: {source}\\nTranslation: {translation}\\n\")\n",
        "    count += 1\n",
        ""
      ]
    },
    {
      "cell_type": "markdown",
      "id": "e975b705-9843-4fd1-ba78-bd9f9f0cc708",
      "metadata": {
        "id": "e975b705-9843-4fd1-ba78-bd9f9f0cc708"
      },
      "source": [
        "### Compute the BLEU Score"
      ]
    },
    {
      "cell_type": "code",
      "execution_count": null,
      "id": "34d97d09-93f9-4593-8af9-701744159177",
      "metadata": {
        "id": "34d97d09-93f9-4593-8af9-701744159177",
        "outputId": "99477707-c112-4dc3-e3a2-1362f8ccf0bc"
      },
      "outputs": [
        {
          "name": "stdout",
          "output_type": "stream",
          "text": [
            "BLEU score: 15.120354828137353\n"
          ]
        }
      ],
      "source": [
        "# Compute the BLEU score\n",
        "bleu_score = corpus_bleu(translations, references)\n",
        "print(f\"BLEU score: {bleu_score.score}\")"
      ]
    },
    {
      "cell_type": "markdown",
      "id": "9af42ec7-c8ba-438d-b64d-d3bfb75e57a2",
      "metadata": {
        "id": "9af42ec7-c8ba-438d-b64d-d3bfb75e57a2"
      },
      "source": [
        "### Compute BERTScore"
      ]
    },
    {
      "cell_type": "code",
      "execution_count": null,
      "id": "152762a0-7420-4961-914b-a9593a7c58fd",
      "metadata": {
        "id": "152762a0-7420-4961-914b-a9593a7c58fd"
      },
      "outputs": [],
      "source": [
        "# !pip install bert-score"
      ]
    },
    {
      "cell_type": "code",
      "execution_count": null,
      "id": "adbcccfd-9ca1-4024-9a63-81ad78b39e9d",
      "metadata": {
        "id": "adbcccfd-9ca1-4024-9a63-81ad78b39e9d"
      },
      "outputs": [],
      "source": [
        "from bert_score import score as bert_score  # Import BERTScore\n"
      ]
    },
    {
      "cell_type": "code",
      "execution_count": null,
      "id": "7aa4ad85-5241-4875-a2e0-6f995c35cbf3",
      "metadata": {
        "id": "7aa4ad85-5241-4875-a2e0-6f995c35cbf3"
      },
      "outputs": [],
      "source": [
        "import sacrebleu\n",
        "reference_files = sacrebleu.utils.get_reference_files(\"wmt21\", \"bn-hi\")\n",
        "\n",
        "with open(reference_files[0], \"r\", encoding=\"utf-8\") as fd:\n",
        "    references = [line.strip() for line in fd.readlines()]  # Flatten the list\n"
      ]
    },
    {
      "cell_type": "code",
      "execution_count": null,
      "id": "f81e503c-a863-45aa-8aa6-90f410016acd",
      "metadata": {
        "id": "f81e503c-a863-45aa-8aa6-90f410016acd",
        "outputId": "89da19d6-4f1b-4499-c16d-3915ec48046a"
      },
      "outputs": [
        {
          "data": {
            "text/plain": [
              "['जर्नल साइंस में गुरूवार को प्रकाशित एक अध्ययन ने इक्वाडोरियन गैलापागोस आइलैंड पर एक नई पक्षी प्रजाति के निर्माण की सूचना दी.',\n",
              " 'संयुक्त राज्य अमेरिका में प्रिंसटन विश्वविद्यालय और स्वीडन में उप्साला विश्वविद्यालय के शोधकर्ताओं ने बताया कि नई प्रजातियाँ सिर्फ दो पीढ़ियों में विकसित हुईं, हालाँकि एक स्थानिक डार्विन फिंच, जियोस्पाइज़ा फोर्टेस और अप्रवासी कैक्टस फिंच, जिओस्पिज़ा कोनिरोस्ट्रिस के बीच प्रजनन के कारण इस प्रक्रिया में काफी समय लगने की बात कही गई थी.',\n",
              " 'तूफ़ान कैटरीना के मद्देनज़र राहत और पुनर्निर्माण पर चल रहे लंबे विवाद से बहस छिड़ गई थी; जिसमें कुछ राजकोषीय रूढ़िवादियों ने “बुश की न्यू ऑरलियन्स डील” का मज़ाक बनाया है.',\n",
              " 'पुनर्निर्माण की कोशिश की स्पष्ट आलोचना वॉशिंगटन के कथित घनिष्ट लोगों को पुनर्निर्माण के ठेके दिए जाने पर केंद्रित रही है.',\n",
              " 'खेल सुबह 10:00 बजे बहुत बढ़िया मौसम के साथ शुरू हुआ और सुबह-सुबह की रिमझिम फुहारें, जो जल्दी ही ख़त्म हो गई थीं, के अलावा यह 7वे रग्बी के लिए शानदार दिन था.']"
            ]
          },
          "execution_count": 35,
          "metadata": {},
          "output_type": "execute_result"
        }
      ],
      "source": [
        "references[0:5]"
      ]
    },
    {
      "cell_type": "code",
      "execution_count": null,
      "id": "bc43a70f-d9a7-41b4-8c4b-219ffa4d2c5f",
      "metadata": {
        "id": "bc43a70f-d9a7-41b4-8c4b-219ffa4d2c5f",
        "outputId": "5b04936c-f551-4a7c-ec66-eff2755e4fb7",
        "colab": {
          "referenced_widgets": [
            "59ec93882b1243f499f4dc26fb4c9b8d",
            "7e33cad2f41a4ed29151fef855d7c7c4",
            "9e93d6151a0e40709e96148218ea1f58",
            "7a02c3c9db2e4397b54ea17cf396907f",
            "ce60972e659c485c8ad59cbcf67c6a4f",
            "2434442e873c4b79b4603776374ff703",
            "79b3b2c682924a249d3b1f8066739000"
          ]
        }
      },
      "outputs": [
        {
          "data": {
            "application/vnd.jupyter.widget-view+json": {
              "model_id": "59ec93882b1243f499f4dc26fb4c9b8d",
              "version_major": 2,
              "version_minor": 0
            },
            "text/plain": [
              "tokenizer_config.json:   0%|          | 0.00/49.0 [00:00<?, ?B/s]"
            ]
          },
          "metadata": {},
          "output_type": "display_data"
        },
        {
          "data": {
            "application/vnd.jupyter.widget-view+json": {
              "model_id": "7e33cad2f41a4ed29151fef855d7c7c4",
              "version_major": 2,
              "version_minor": 0
            },
            "text/plain": [
              "config.json:   0%|          | 0.00/625 [00:00<?, ?B/s]"
            ]
          },
          "metadata": {},
          "output_type": "display_data"
        },
        {
          "data": {
            "application/vnd.jupyter.widget-view+json": {
              "model_id": "9e93d6151a0e40709e96148218ea1f58",
              "version_major": 2,
              "version_minor": 0
            },
            "text/plain": [
              "vocab.txt:   0%|          | 0.00/996k [00:00<?, ?B/s]"
            ]
          },
          "metadata": {},
          "output_type": "display_data"
        },
        {
          "data": {
            "application/vnd.jupyter.widget-view+json": {
              "model_id": "7a02c3c9db2e4397b54ea17cf396907f",
              "version_major": 2,
              "version_minor": 0
            },
            "text/plain": [
              "tokenizer.json:   0%|          | 0.00/1.96M [00:00<?, ?B/s]"
            ]
          },
          "metadata": {},
          "output_type": "display_data"
        },
        {
          "data": {
            "application/vnd.jupyter.widget-view+json": {
              "model_id": "ce60972e659c485c8ad59cbcf67c6a4f",
              "version_major": 2,
              "version_minor": 0
            },
            "text/plain": [
              "model.safetensors:   0%|          | 0.00/714M [00:00<?, ?B/s]"
            ]
          },
          "metadata": {},
          "output_type": "display_data"
        },
        {
          "name": "stdout",
          "output_type": "stream",
          "text": [
            "calculating scores...\n",
            "computing bert embedding.\n"
          ]
        },
        {
          "data": {
            "application/vnd.jupyter.widget-view+json": {
              "model_id": "2434442e873c4b79b4603776374ff703",
              "version_major": 2,
              "version_minor": 0
            },
            "text/plain": [
              "  0%|          | 0/16 [00:00<?, ?it/s]"
            ]
          },
          "metadata": {},
          "output_type": "display_data"
        },
        {
          "name": "stdout",
          "output_type": "stream",
          "text": [
            "computing greedy matching.\n"
          ]
        },
        {
          "data": {
            "application/vnd.jupyter.widget-view+json": {
              "model_id": "79b3b2c682924a249d3b1f8066739000",
              "version_major": 2,
              "version_minor": 0
            },
            "text/plain": [
              "  0%|          | 0/8 [00:00<?, ?it/s]"
            ]
          },
          "metadata": {},
          "output_type": "display_data"
        },
        {
          "name": "stdout",
          "output_type": "stream",
          "text": [
            "done in 2.72 seconds, 184.60 sentences/sec\n",
            "BERTScore Precision: 0.8293283581733704\n",
            "BERTScore Recall: 0.8275999426841736\n",
            "BERTScore F1: 0.8283059597015381\n"
          ]
        }
      ],
      "source": [
        "# Compute BERTScore\n",
        "P, R, F1 = bert_score(translations, references, lang=\"hi\", verbose=True)\n",
        "\n",
        "# Print BERTScore results\n",
        "print(f\"BERTScore Precision: {P.mean().item()}\")\n",
        "print(f\"BERTScore Recall: {R.mean().item()}\")\n",
        "print(f\"BERTScore F1: {F1.mean().item()}\")"
      ]
    }
  ],
  "metadata": {
    "kernelspec": {
      "display_name": "Python 3 (ipykernel)",
      "language": "python",
      "name": "python3"
    },
    "language_info": {
      "codemirror_mode": {
        "name": "ipython",
        "version": 3
      },
      "file_extension": ".py",
      "mimetype": "text/x-python",
      "name": "python",
      "nbconvert_exporter": "python",
      "pygments_lexer": "ipython3",
      "version": "3.11.11"
    },
    "colab": {
      "provenance": [],
      "include_colab_link": true
    }
  },
  "nbformat": 4,
  "nbformat_minor": 5
}