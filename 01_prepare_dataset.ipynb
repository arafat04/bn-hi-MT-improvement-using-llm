{
  "cells": [
    {
      "cell_type": "markdown",
      "metadata": {
        "id": "view-in-github",
        "colab_type": "text"
      },
      "source": [
        "<a href=\"https://colab.research.google.com/github/arafat04/bn-hi-MT-improvement-using-llm/blob/main/01_prepare_dataset.ipynb\" target=\"_parent\"><img src=\"https://colab.research.google.com/assets/colab-badge.svg\" alt=\"Open In Colab\"/></a>"
      ]
    },
    {
      "cell_type": "code",
      "execution_count": null,
      "metadata": {
        "id": "gXEFZkaJR0sT"
      },
      "outputs": [],
      "source": [
        "from pathlib import Path\n",
        "from typing import Iterable\n",
        "from datasets import Dataset"
      ]
    },
    {
      "cell_type": "code",
      "execution_count": null,
      "metadata": {
        "id": "KfSuF2EyR0sX"
      },
      "outputs": [],
      "source": [
        " # !pip install ipywidgets"
      ]
    },
    {
      "cell_type": "code",
      "execution_count": null,
      "metadata": {
        "id": "2MYqfpoTR0sZ"
      },
      "outputs": [],
      "source": [
        "def create_dataset(\n",
        "    data: Iterable[tuple[str, str]], source_lang: str, target_lang: str\n",
        "):\n",
        "    def gen():\n",
        "        for source, target in data:\n",
        "            yield {\n",
        "                \"source_lang\": source_lang,\n",
        "                \"target_lang\": target_lang,\n",
        "                \"source_text\": source,\n",
        "                \"target_text\": target,\n",
        "            }\n",
        "\n",
        "    dataset = Dataset.from_generator(gen)\n",
        "    # also see Dataset.from_dict, and other from_* methods\n",
        "    return dataset"
      ]
    },
    {
      "cell_type": "code",
      "execution_count": null,
      "metadata": {
        "id": "dEPqOnszR0sa"
      },
      "outputs": [],
      "source": [
        "def read_lines(path: Path):\n",
        "    for line in path.open(\"r\", encoding=\"utf-8\"):\n",
        "        yield line.strip()\n",
        "\n",
        "bn = list(read_lines(Path(\"data/project_data_llm/bn-hi.txt\")))\n",
        "hi = list(read_lines(Path(\"data/project_data_llm/bn-hi.refA.txt\")))\n",
        "\n",
        "dataset = create_dataset(zip(bn, hi), \"Bengali\", \"Hindi\")"
      ]
    },
    {
      "cell_type": "code",
      "execution_count": null,
      "metadata": {
        "id": "UZijnaVZR0sb",
        "outputId": "99e118c3-d8ce-48f8-f9ee-d895bd854090"
      },
      "outputs": [
        {
          "data": {
            "text/plain": [
              "(503, 4)"
            ]
          },
          "execution_count": 15,
          "metadata": {},
          "output_type": "execute_result"
        }
      ],
      "source": [
        "dataset.shape"
      ]
    },
    {
      "cell_type": "code",
      "execution_count": null,
      "metadata": {
        "id": "6lrbBvpsR0sd",
        "outputId": "ab4434fc-47e4-4617-aa2e-6f9a959feaff"
      },
      "outputs": [
        {
          "data": {
            "text/plain": [
              "datasets.arrow_dataset.Dataset"
            ]
          },
          "execution_count": 16,
          "metadata": {},
          "output_type": "execute_result"
        }
      ],
      "source": [
        "type(dataset)"
      ]
    },
    {
      "cell_type": "code",
      "execution_count": null,
      "metadata": {
        "id": "cYxmPBDzR0sf",
        "outputId": "15283cdc-8d5d-4f02-f96c-b7ca3eefa9e1"
      },
      "outputs": [
        {
          "name": "stdout",
          "output_type": "stream",
          "text": [
            "  source_lang target_lang                                        source_text  \\\n",
            "0     Bengali       Hindi  ইকুয়েডরীয় গ্যালোপেগোস দ্বীপপুঞ্জের এক নতুন প্র...   \n",
            "1     Bengali       Hindi  মার্কিন যুক্তরাষ্ট্রের প্রিন্সটন বিশ্ববিদ্যালয...   \n",
            "2     Bengali       Hindi  \"এই বিতর্কটি হারিকেন ক্যাটরিনার সময় ত্রাণ ও পু...   \n",
            "3     Bengali       Hindi  পুনর্নির্মাণের চেষ্টা সম্পর্কে উদার সমালোচনা ও...   \n",
            "4     Bengali       Hindi  খেলাটি দুর্দান্ত আবহাওয়ার সাথে সকাল ১০:০০ টায...   \n",
            "\n",
            "                                         target_text  \n",
            "0  जर्नल साइंस में गुरूवार को प्रकाशित एक अध्ययन ...  \n",
            "1  संयुक्त राज्य अमेरिका में प्रिंसटन विश्वविद्या...  \n",
            "2  तूफ़ान कैटरीना के मद्देनज़र राहत और पुनर्निर्म...  \n",
            "3  पुनर्निर्माण की कोशिश की स्पष्ट आलोचना वॉशिंगट...  \n",
            "4  खेल सुबह 10:00 बजे बहुत बढ़िया मौसम के साथ शुर...  \n"
          ]
        }
      ],
      "source": [
        "# Select the first 5 rows\n",
        "first_five = dataset.select(range(5))\n",
        "\n",
        "# Convert to pandas DataFrame and display\n",
        "df = first_five.to_pandas()\n",
        "print(df)"
      ]
    },
    {
      "cell_type": "code",
      "execution_count": null,
      "metadata": {
        "colab": {
          "referenced_widgets": [
            "01188fee22484001babe97e61630c841"
          ]
        },
        "id": "_2t_YF29R0sg",
        "outputId": "98124404-7127-4916-aff9-9cf639891396"
      },
      "outputs": [
        {
          "data": {
            "application/vnd.jupyter.widget-view+json": {
              "model_id": "01188fee22484001babe97e61630c841",
              "version_major": 2,
              "version_minor": 0
            },
            "text/plain": [
              "Saving the dataset (0/1 shards):   0%|          | 0/503 [00:00<?, ? examples/s]"
            ]
          },
          "metadata": {},
          "output_type": "display_data"
        }
      ],
      "source": [
        "# name = \"npfl087-demo-small\"\n",
        "# dataset.save_to_disk(f\"~/datasets/{name}\")\n",
        "# dataset.push_to_hub(f\"grarafat/{name}\", private=True)\n",
        "name = \"bn-hi-parallel-data\"\n",
        "dataset.save_to_disk(f\"/storage/praha1/home/rahmang/datasets/{name}\")\n"
      ]
    },
    {
      "cell_type": "code",
      "execution_count": null,
      "metadata": {
        "id": "xpcqeEU7R0sh",
        "outputId": "4d9b9446-89d2-4254-e745-b36d70566a7b"
      },
      "outputs": [
        {
          "data": {
            "text/plain": [
              "'/auto/vestec1-elixir/home/rahmang'"
            ]
          },
          "execution_count": 19,
          "metadata": {},
          "output_type": "execute_result"
        }
      ],
      "source": [
        "pwd"
      ]
    },
    {
      "cell_type": "code",
      "execution_count": null,
      "metadata": {
        "id": "14hitNHCR0si",
        "outputId": "fa9053fe-90a9-40e0-abc7-92c4a2898af8"
      },
      "outputs": [
        {
          "name": "stdout",
          "output_type": "stream",
          "text": [
            "/storage/praha1/home/rahmang\n"
          ]
        }
      ],
      "source": [
        "!pwd"
      ]
    },
    {
      "cell_type": "code",
      "execution_count": null,
      "metadata": {
        "id": "mSAVfVxCR0sj",
        "outputId": "3d8a5703-b353-4598-b4da-4944f8a1398b"
      },
      "outputs": [
        {
          "data": {
            "text/plain": [
              "{'source_lang': 'Bengali',\n",
              " 'target_lang': 'Hindi',\n",
              " 'source_text': 'তাইওয়ানের যাত্রা শুরু সেই ১৫ শতকে, যখন সেখান দিয়ে যাওয়া ইউরোপীয় নাবিকরা এই দ্বীপটির নাম দিয়েছিলেন ইলহা ফারমোসা বা সুন্দর দ্বীপ।',\n",
              " 'target_text': 'ताइवान की खोज 15वीं शताब्दी में यूरोपीय नाविकों ने की थी. उन्होंने इस आइलैंड को इल्हा फ़ॉर्मोसा या सुंदर आइलैंड कहा था.'}"
            ]
          },
          "execution_count": 21,
          "metadata": {},
          "output_type": "execute_result"
        }
      ],
      "source": [
        "dataset[10]"
      ]
    },
    {
      "cell_type": "markdown",
      "metadata": {
        "id": "MuuYUvVJR0sk"
      },
      "source": [
        "### creating the test dataset"
      ]
    },
    {
      "cell_type": "code",
      "execution_count": null,
      "metadata": {
        "id": "jboYixIDR0sm"
      },
      "outputs": [],
      "source": [
        "bn = list(read_lines(Path(\"data/project_data_llm/hi-bn.refA.txt\")))\n",
        "hi = list(read_lines(Path(\"data/project_data_llm/hi-bn.txt\")))\n",
        "\n",
        "test_dataset = create_dataset(zip(bn, hi), \"Bengali\", \"Hindi\")"
      ]
    },
    {
      "cell_type": "code",
      "execution_count": null,
      "metadata": {
        "id": "i0-ADJetR0sn",
        "outputId": "45de9a1d-4d2b-43c5-d8cc-b2f7b1521f98"
      },
      "outputs": [
        {
          "data": {
            "text/plain": [
              "(509, 4)"
            ]
          },
          "execution_count": 23,
          "metadata": {},
          "output_type": "execute_result"
        }
      ],
      "source": [
        "test_dataset.shape"
      ]
    },
    {
      "cell_type": "code",
      "execution_count": null,
      "metadata": {
        "id": "Qpjjzn0rR0so",
        "outputId": "0fcd967b-3359-4621-be1f-ec1c683277fc"
      },
      "outputs": [
        {
          "name": "stdout",
          "output_type": "stream",
          "text": [
            "  source_lang target_lang                                        source_text  \\\n",
            "0     Bengali       Hindi  Guaraní, আধা-যাযাবর শিকারি হিসাবে পূর্ব প্যারা...   \n",
            "1     Bengali       Hindi  চকো অঞ্চলটিতে Guaycurú এবং Payaguá-এর মতো অন্য...   \n",
            "2     Bengali       Hindi  \"ষোড়শ শতকে স্থানীয় আদিবাসী গোষ্ঠীর সাথে স্পে...   \n",
            "3     Bengali       Hindi  স্পেনীয়রা ঔপনিবেশিক কালের সূচনা করে যা তিন শতা...   \n",
            "4     Bengali       Hindi  1537 সালে Asunción-এর প্রতিষ্ঠার পর থেকে প্যার...   \n",
            "\n",
            "                                         target_text  \n",
            "0  गुआरानी पूर्वी पराग्वे में रहने वाले मूल लोगों...  \n",
            "1  चाको क्षेत्र गुइयाकुरो और पेगुआ जैसे स्वदेशी ज...  \n",
            "2  पराग्वे, जिसे पहले “इंडीज का विशाल प्रांत” कहा...  \n",
            "3  स्पेन के लोगों ने उपनिवेश काल की शुरुआत की, जो...  \n",
            "4  1537 में असूनचिओन की स्थापना के बाद से, पैराग्...  \n"
          ]
        }
      ],
      "source": [
        "# Select the first 5 rows\n",
        "first_five_test = test_dataset.select(range(5))\n",
        "\n",
        "# Convert to pandas DataFrame and display\n",
        "df_test = first_five_test.to_pandas()\n",
        "print(df_test)"
      ]
    },
    {
      "cell_type": "code",
      "execution_count": null,
      "metadata": {
        "colab": {
          "referenced_widgets": [
            "8816a8fa6a4649b09431b328c8ee0d00"
          ]
        },
        "id": "R49efLbjR0sp",
        "outputId": "248e0417-6655-44df-ccd9-9c1dcfdf46c2"
      },
      "outputs": [
        {
          "data": {
            "application/vnd.jupyter.widget-view+json": {
              "model_id": "8816a8fa6a4649b09431b328c8ee0d00",
              "version_major": 2,
              "version_minor": 0
            },
            "text/plain": [
              "Saving the dataset (0/1 shards):   0%|          | 0/503 [00:00<?, ? examples/s]"
            ]
          },
          "metadata": {},
          "output_type": "display_data"
        }
      ],
      "source": [
        "# name = \"npfl087-demo-small\"\n",
        "# dataset.save_to_disk(f\"~/datasets/{name}\")\n",
        "# dataset.push_to_hub(f\"grarafat/{name}\", private=True)\n",
        "name = \"test-bn-hi-parallel-data\"\n",
        "dataset.save_to_disk(f\"/storage/praha1/home/rahmang/datasets/{name}\")"
      ]
    },
    {
      "cell_type": "code",
      "execution_count": null,
      "metadata": {
        "id": "SKNyERV3R0sr"
      },
      "outputs": [],
      "source": [
        "# !pip install huggingface_hub\n"
      ]
    },
    {
      "cell_type": "code",
      "execution_count": null,
      "metadata": {
        "id": "poEBxIORR0sr"
      },
      "outputs": [],
      "source": [
        "# from huggingface_hub import notebook_login\n",
        "# notebook_login()"
      ]
    },
    {
      "cell_type": "code",
      "execution_count": null,
      "metadata": {
        "id": "dJsbk5SmR0ss"
      },
      "outputs": [],
      "source": [
        "# !huggingface-cli login"
      ]
    },
    {
      "cell_type": "code",
      "execution_count": 1,
      "metadata": {
        "id": "ty16AoFFR0st"
      },
      "outputs": [],
      "source": [
        "# import os\n",
        "# from huggingface_hub import HfApi, HfFolder\n",
        "\n",
        "# # Set your Hugging Face token as an environment variable\n",
        "# os.environ[\"HF_TOKEN\"] = \"provide your huggingface token here\"\n",
        "\n",
        "# # Save the token to the Hugging Face token file\n",
        "# HfFolder.save_token(os.environ[\"HF_TOKEN\"])\n",
        "\n",
        "# # Verify the token by listing your repositories (optional)\n",
        "# api = HfApi()\n",
        "# user = api.whoami(token=os.environ[\"HF_TOKEN\"])\n",
        "# print(user)\n"
      ]
    },
    {
      "cell_type": "code",
      "execution_count": 2,
      "metadata": {
        "id": "SV2WstRdR0st"
      },
      "outputs": [],
      "source": [
        "# dataset.push_to_hub(f\"grarafat/bn-hi-parallel-data\", private=True)\n"
      ]
    },
    {
      "cell_type": "code",
      "execution_count": 3,
      "metadata": {
        "id": "D7AQ03Y5R0su"
      },
      "outputs": [],
      "source": [
        "# #saving the test data\n",
        "# dataset.push_to_hub(f\"grarafat/{name}\", private=True)"
      ]
    }
  ],
  "metadata": {
    "kernelspec": {
      "display_name": "Python 3 (ipykernel)",
      "language": "python",
      "name": "python3"
    },
    "language_info": {
      "codemirror_mode": {
        "name": "ipython",
        "version": 3
      },
      "file_extension": ".py",
      "mimetype": "text/x-python",
      "name": "python",
      "nbconvert_exporter": "python",
      "pygments_lexer": "ipython3",
      "version": "3.10.14"
    },
    "colab": {
      "provenance": [],
      "include_colab_link": true
    }
  },
  "nbformat": 4,
  "nbformat_minor": 0
}